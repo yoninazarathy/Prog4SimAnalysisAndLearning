{
 "cells": [
  {
   "cell_type": "markdown",
   "metadata": {},
   "source": [
    "# Unit 5: Computer Algebra Systems and Symbolic Computation\n",
    "\n",
    "*The following presentation is mostly taken from the notes of Dr Michael Monagan of Simon Fraser University for the course Introduction to Computer Algebra.  The typesetting author (Paul Vrbik) has made some additions which are probably the source of any errors.  The Julia code was provided by Dr Yoni Nazarathy.*"
   ]
  },
  {
   "cell_type": "markdown",
   "metadata": {},
   "source": [
    "$\\newcommand{\\RR}{\\mathcal{R}}$\n",
    "$\\newcommand{\\FF}{\\mathbb{F}}$\n",
    "$\\newcommand{\\QQ}{\\mathbb{Q}}$\n",
    "$\\newcommand{\\ZZ}{\\mathbb{Z}}$\n",
    "$\\newcommand{\\NN}{\\mathbb{N}}$\n",
    "$\\newcommand{\\PP}{\\mathbb{P}}$\n",
    "$\\renewcommand{\\cong}{\\equiv}$\n",
    "$\\renewcommand{\\mod}{\\bmod}$\n",
    "\n",
    "$\\DeclareMathOperator{\\content}{cont}$\n",
    "$\\DeclareMathOperator{\\primpart}{primpart}$\n",
    "$\\DeclareMathOperator{\\deg}{deg}$\n",
    "$\\DeclareMathOperator{\\lc}{lc}$\n",
    "$\\DeclareMathOperator{\\lt}{lt}$\n",
    "$\\DeclareMathOperator{\\lm}{lm}$"
   ]
  },
  {
   "cell_type": "markdown",
   "metadata": {},
   "source": [
    "Note that we use the [GitHub repo](https://github.com/yoninazarathy/2504_2021_project1) for the base [project](https://courses.smp.uq.edu.au/MATH2504/assessment_html/project1.html)."
   ]
  },
  {
   "cell_type": "code",
   "execution_count": null,
   "metadata": {},
   "outputs": [],
   "source": [
    "using Pkg;\n",
    "# To be able to run this, have the project repository \"next to\" the course materials repository\n",
    "cd(\"../../2504_2021_project1\");\n",
    "Pkg.activate(\".\");\n",
    "# Pkg.instantiate();\n",
    "include(\"poly_factorization_project.jl\");"
   ]
  },
  {
   "cell_type": "markdown",
   "metadata": {},
   "source": [
    "## Symbolic Computation\n",
    "\n",
    "To compute *exactly* means no error is introduced during arithmetic --- something *not* true when working with floats.  In a computer algebra system $\\sqrt{2} = \\sqrt{2}$ and not $\\sqrt{2} = 1.41\\ldots$ as one may expect.\n",
    "\n",
    "Our interest is performing *exact* arithmetic in rings with efficient algorithms.  In particular we are interested in the: *ring of integers* \n",
    "$$\\ZZ = \\{0, -1, 1, 2, -2, 3, -3, \\ldots \\}$$\n",
    "and *polynomials* \n",
    "$$\\RR[x] = \\left\\{ \\sum_{k=0}^{N} a_kx^k \\, : \\, k \\in \\NN,\\, a_k \\in \\RR \\right\\}.$$"
   ]
  },
  {
   "cell_type": "markdown",
   "metadata": {},
   "source": [
    "---\n",
    "## Preliminaries\n",
    "Let $\\NN = \\{0,1,2,\\ldots\\}$ be the set of *natural numbers*, $\\ZZ = \\{\\ldots,-2,-1,0,1,2,\\ldots\\}$ be the *integers* and $\\PP$ be the set of odd primes.\n",
    "\n",
    "##### Definition (Ring)\n",
    "\n",
    "A ring $\\RR$ is a set with addtion $(+)$ and multiplciation $(\\cdot)$ satisfying the following conditions called the *ring axioms*:\n",
    "\n",
    "1. $(\\RR,+)$ is an abelian group, that is:\n",
    "    - $(+)$ is associative *and* commutative,\n",
    "    - $\\exists b \\in \\RR$ called the *additive identity* satisfying $\\forall a \\in \\RR \\; a + b = a$,\n",
    "    - $\\forall a \\in \\RR\\; \\exists b \\in \\RR$ called the *additive inverse* satisfying $a + b = 0$.\n",
    "2.  $(\\RR,\\cdot)$ is a monoid, that is:\n",
    "    -  $(\\cdot)$ is associative, and\n",
    "    -  $\\exists b \\in \\RR$ called the *multiplicative identity* satisfying $\\forall a \\in \\RR; \\; a \\cdot b = b \\cdot a = a$\n",
    "3.  Multiplication *distributes* over addition.  That is, $\\forall a,b,c \\in \\RR$:\n",
    "    - $a \\cdot (b+c) = (a \\cdot b) + (a \\cdot c)$\n",
    "    - $(b+c) \\cdot a = (b \\cdot a) + (c \\cdot a)$\n",
    "---\n",
    "\n",
    "##### Definition (Field)\n",
    "A ring $\\RR$ is also a *field* when each non-zero element has a *multiplicative inverse*.  Equivalently, $\\RR$ is a ring when\n",
    "$$\n",
    "\\forall a \\in \\RR^{\\neq 0};\\; \\exists b \\in \\RR \\; : \\; a \\cdot b.\n",
    "$$\n",
    "\n",
    "For instance, the *rationals* $$\\QQ = \\left\\{ \\frac{a}{b} \\,:\\, a,b \\in \\ZZ, \\, b \\neq 0 \\right\\}$$\n",
    "is a field because $\\frac a b \\cdot \\frac b a = 1$ when $a,b \\neq 0$.\n",
    "\n",
    "---\n",
    "\n",
    "##### Theorem (Division Algorithm)\n",
    "Let $a,b \\in \\ZZ$ with $b > 0$.  There is *unique* $q$ and $r$ (called the *quotient* and *remainder*) satisfying\n",
    "$$a = b \\cdot q + r$$\n",
    "with $r < |q|$.\n",
    "\n",
    "**Proof (Existence)**"
   ]
  },
  {
   "cell_type": "code",
   "execution_count": 2,
   "metadata": {},
   "outputs": [
    {
     "name": "stdout",
     "output_type": "stream",
     "text": [
      "q = 3\n",
      "Int(floor(a / b)) = 3\n",
      "r = 2\n"
     ]
    }
   ],
   "source": [
    "# An example\n",
    "a = 23\n",
    "b = 7\n",
    "q = a ÷ b # \\div + [TAB]\n",
    "@show q\n",
    "@show Int(floor(a/b))\n",
    "\n",
    "r = a % 3 \n",
    "@show r;"
   ]
  },
  {
   "cell_type": "code",
   "execution_count": 4,
   "metadata": {},
   "outputs": [
    {
     "data": {
      "text/plain": [
       "remainder (generic function with 1 method)"
      ]
     },
     "execution_count": 4,
     "metadata": {},
     "output_type": "execute_result"
    }
   ],
   "source": [
    "function remainder(a::T,b::T) where T <: Int #Note that later we'll extend this to integral domains\n",
    "    a < 0 && return remainder(-a,b) #short circuit evalution  #later replace `0` with `zero(T)`\n",
    "    a < b && return a\n",
    "    return remainder(a-b,b)\n",
    "end"
   ]
  },
  {
   "cell_type": "code",
   "execution_count": 4,
   "metadata": {},
   "outputs": [
    {
     "data": {
      "text/plain": [
       "(2, 2, 2, 2)"
      ]
     },
     "execution_count": 4,
     "metadata": {},
     "output_type": "execute_result"
    }
   ],
   "source": [
    "#note there is an in-built `rem`\n",
    "remainder(23,7), rem(23,7), 23 % 7, 23- (23 ÷ 7)*7"
   ]
  },
  {
   "cell_type": "code",
   "execution_count": 5,
   "metadata": {},
   "outputs": [
    {
     "data": {
      "text/plain": [
       "(0, 4, 1)"
      ]
     },
     "execution_count": 5,
     "metadata": {},
     "output_type": "execute_result"
    }
   ],
   "source": [
    "remainder(15,5), remainder(4,101), remainder(125,4)"
   ]
  },
  {
   "cell_type": "code",
   "execution_count": 6,
   "metadata": {},
   "outputs": [
    {
     "data": {
      "text/plain": [
       "quo (generic function with 2 methods)"
      ]
     },
     "execution_count": 6,
     "metadata": {},
     "output_type": "execute_result"
    }
   ],
   "source": [
    "function quo(a::T,b::T) where T <: Int\n",
    "    a < 0 && return -quo(-a,b)\n",
    "    a < b && return 0\n",
    "    return 1 + quo(a-b, b)\n",
    "end"
   ]
  },
  {
   "cell_type": "code",
   "execution_count": 7,
   "metadata": {},
   "outputs": [
    {
     "data": {
      "text/plain": [
       "(3, 0, 31)"
      ]
     },
     "execution_count": 7,
     "metadata": {},
     "output_type": "execute_result"
    }
   ],
   "source": [
    "quo(15,5), quo(4,101), quo(125,4)"
   ]
  },
  {
   "cell_type": "code",
   "execution_count": 7,
   "metadata": {},
   "outputs": [
    {
     "name": "stdout",
     "output_type": "stream",
     "text": [
      "(a, b, q, r, a == b * q + r) = (15, 5, 3, 0, true)\n",
      "(a, b, q, r, a == b * q + r) = (4, 101, 0, 4, true)\n",
      "(a, b, q, r, a == b * q + r) = (125, 4, 31, 1, true)\n"
     ]
    }
   ],
   "source": [
    "for (a,b) in [(15,5), (4,101), (125,4)]\n",
    "    q, r = quo(a, b), rem(a, b)\n",
    "    @show (a, b, q, r, a == b * q + r)\n",
    "end"
   ]
  },
  {
   "cell_type": "markdown",
   "metadata": {},
   "source": [
    "Of course, in Julia we have `%` and `÷` for remainder and  and quotient.\n",
    "\n",
    "(Note that in Python `//` is the quotient whereas in Julia `//` defines a rational type)."
   ]
  },
  {
   "cell_type": "code",
   "execution_count": 8,
   "metadata": {},
   "outputs": [
    {
     "data": {
      "text/plain": [
       "(2//3, 0.6666666666666666)"
      ]
     },
     "execution_count": 8,
     "metadata": {},
     "output_type": "execute_result"
    }
   ],
   "source": [
    "2 // 3, float(2//3)  #The first // is a rational type"
   ]
  },
  {
   "cell_type": "markdown",
   "metadata": {},
   "source": [
    "---\n",
    "## Elementary Number Theory\n",
    "\n",
    "The sets $\\ZZ_n = \\{0,1,\\ldots,n-1\\}$ for $n \\in \\NN$ are rings called *residue classes* when addition and multiplication are done 'mod n'.  This is sometimes called 'clock arithmetic' as three hours past eleven is two because $11 + 3 \\cong 2 \\mod 12$. \n",
    "\n",
    "We say/write \n",
    "$$a \\cong b \\mod c$$ \n",
    "when *$a$ is congruent to $b$ modulo $c$*.  Also:\n",
    "$$a \\cong b \\mod c \\iff \\mathop{\\textrm{rem}}(a,c) = b \\iff \\texttt{a % c = b}.$$\n",
    "\n"
   ]
  },
  {
   "cell_type": "code",
   "execution_count": 9,
   "metadata": {},
   "outputs": [
    {
     "data": {
      "text/plain": [
       "0x01"
      ]
     },
     "execution_count": 9,
     "metadata": {},
     "output_type": "execute_result"
    }
   ],
   "source": [
    "# We have already seen something similar with overflow, for example:\n",
    "UInt8(253) + UInt8(4)"
   ]
  },
  {
   "cell_type": "code",
   "execution_count": 10,
   "metadata": {},
   "outputs": [
    {
     "data": {
      "text/plain": [
       "0x10"
      ]
     },
     "execution_count": 10,
     "metadata": {},
     "output_type": "execute_result"
    }
   ],
   "source": [
    "UInt8(16) * UInt8(17)"
   ]
  },
  {
   "cell_type": "markdown",
   "metadata": {},
   "source": [
    "---\n",
    "\n",
    "#### Example\n",
    "$\\ZZ_6 = \\{0,\\ldots,5\\}$ has the following addition table"
   ]
  },
  {
   "cell_type": "code",
   "execution_count": 11,
   "metadata": {},
   "outputs": [
    {
     "data": {
      "text/plain": [
       "0:5"
      ]
     },
     "execution_count": 11,
     "metadata": {},
     "output_type": "execute_result"
    }
   ],
   "source": [
    "n = 6\n",
    "Z_n = 0:(n-1)"
   ]
  },
  {
   "cell_type": "code",
   "execution_count": 12,
   "metadata": {},
   "outputs": [
    {
     "data": {
      "text/plain": [
       "UnitRange{Int64}"
      ]
     },
     "execution_count": 12,
     "metadata": {},
     "output_type": "execute_result"
    }
   ],
   "source": [
    "typeof(Z_n)"
   ]
  },
  {
   "cell_type": "code",
   "execution_count": 13,
   "metadata": {},
   "outputs": [
    {
     "data": {
      "text/plain": [
       "6×6 Matrix{Int64}:\n",
       " 0  1  2  3  4  5\n",
       " 1  2  3  4  5  0\n",
       " 2  3  4  5  0  1\n",
       " 3  4  5  0  1  2\n",
       " 4  5  0  1  2  3\n",
       " 5  0  1  2  3  4"
      ]
     },
     "execution_count": 13,
     "metadata": {},
     "output_type": "execute_result"
    }
   ],
   "source": [
    "A = [(x+y) % n for y in Z_n, x in Z_n]"
   ]
  },
  {
   "cell_type": "markdown",
   "metadata": {},
   "source": [
    "Notice: \n",
    " 1.  the addition table is symmetric (equal to its transpose) which can only happen when the addition is commutative,\n",
    " 1.  the additive identity is $0$,\n",
    " 1.  each column (and row) has $0$ and thereby each element has an additive inverse: for instance, the third column indicates that $2$ has additive inverse $4$ and correspondingly $2 + 4 \\cong 0 \\mod 6$."
   ]
  },
  {
   "cell_type": "code",
   "execution_count": 14,
   "metadata": {},
   "outputs": [
    {
     "name": "stdout",
     "output_type": "stream",
     "text": [
      "[0, 5, 4, 3, 2, 1]\n"
     ]
    }
   ],
   "source": [
    "additive_inverses = [findfirst((A .== 0)[:,k+1])-1 for k in Z_n] #Can this be done more nicely?\n",
    "println(additive_inverses)"
   ]
  },
  {
   "cell_type": "markdown",
   "metadata": {},
   "source": [
    "$\\ZZ_6$ has the following multiplication table"
   ]
  },
  {
   "cell_type": "code",
   "execution_count": 15,
   "metadata": {},
   "outputs": [
    {
     "data": {
      "text/plain": [
       "6×6 Matrix{Int64}:\n",
       " 0  0  0  0  0  0\n",
       " 0  1  2  3  4  5\n",
       " 0  2  4  0  2  4\n",
       " 0  3  0  3  0  3\n",
       " 0  4  2  0  4  2\n",
       " 0  5  4  3  2  1"
      ]
     },
     "execution_count": 15,
     "metadata": {},
     "output_type": "execute_result"
    }
   ],
   "source": [
    "M = [(x*y) % n for y in Z_n, x in Z_n]"
   ]
  },
  {
   "cell_type": "markdown",
   "metadata": {},
   "source": [
    "Notice:\n",
    "1.  the multiplicative identity is $1$,\n",
    "1.  not all rows contain one, which means there are some elements that do *not* have *multiplicative inverse*.  For instance there is no $b \\in \\ZZ_6$ such that $2 \\cdot b \\cong 1 \\mod 6$."
   ]
  },
  {
   "cell_type": "code",
   "execution_count": 17,
   "metadata": {},
   "outputs": [
    {
     "name": "stdout",
     "output_type": "stream",
     "text": [
      "[0, 2, 4, 0, 2, 4]\n"
     ]
    }
   ],
   "source": [
    "println([(2*y) % n for y in Z_n])"
   ]
  },
  {
   "cell_type": "code",
   "execution_count": 18,
   "metadata": {},
   "outputs": [
    {
     "name": "stdout",
     "output_type": "stream",
     "text": [
      "Elements with a multiplicative inverse: [1, 5]\n",
      "Elements withoout a multiplicative inverse: [0, 2, 3, 4]\n"
     ]
    }
   ],
   "source": [
    "mult_inverses = Z_n[[sum((M .== 1)[:,k+1]) > 0 for k in Z_n]] #Can this be done more nicely?\n",
    "println(\"Elements with a multiplicative inverse: \", mult_inverses )\n",
    "println(\"Elements withoout a multiplicative inverse: \", setdiff(Z_n,mult_inverses))"
   ]
  },
  {
   "cell_type": "markdown",
   "metadata": {},
   "source": [
    "---\n",
    "\n",
    "Notice $\\ZZ_6$ is *not* a field because, recall, there is no multiplicative inverse for $2$.  However, $\\ZZ_p$ is a field when $p$ is a prime number.\n",
    "\n",
    "##### Example\n",
    "\n",
    "$\\ZZ_5 = \\{0,\\ldots,5\\}$ is a field and has the following multiplication table. "
   ]
  },
  {
   "cell_type": "code",
   "execution_count": 16,
   "metadata": {},
   "outputs": [
    {
     "data": {
      "text/plain": [
       "0:4"
      ]
     },
     "execution_count": 16,
     "metadata": {},
     "output_type": "execute_result"
    }
   ],
   "source": [
    "n = 5\n",
    "Z_n = 0:(n-1)"
   ]
  },
  {
   "cell_type": "code",
   "execution_count": 17,
   "metadata": {},
   "outputs": [
    {
     "data": {
      "text/plain": [
       "5×5 Matrix{Int64}:\n",
       " 0  0  0  0  0\n",
       " 0  1  2  3  4\n",
       " 0  2  4  1  3\n",
       " 0  3  1  4  2\n",
       " 0  4  3  2  1"
      ]
     },
     "execution_count": 17,
     "metadata": {},
     "output_type": "execute_result"
    }
   ],
   "source": [
    "M = [(x*y) % n for y in Z_n, x in Z_n]"
   ]
  },
  {
   "cell_type": "code",
   "execution_count": 21,
   "metadata": {},
   "outputs": [
    {
     "name": "stdout",
     "output_type": "stream",
     "text": [
      "Elements with a multiplicative inverse: [1, 2, 3, 4]\n",
      "Elements withoout a multiplicative inverse: [0]\n"
     ]
    }
   ],
   "source": [
    "mult_inverses = Z_n[[sum((M .== 1)[:,k+1]) > 0 for k in Z_n]] #Can this be done more nicely?\n",
    "println(\"Elements with a multiplicative inverse: \", mult_inverses )\n",
    "println(\"Elements withoout a multiplicative inverse: \", setdiff(Z_n,mult_inverses))"
   ]
  },
  {
   "cell_type": "markdown",
   "metadata": {},
   "source": [
    "Notice every column (and row) contains $1$ asides the first column (and row) which corresponds to $0$.  For instance, the third column indicates the inverse of $3$ is $2$ and correspondingly $3 \\cdot 2 \\cong 1 \\mod 5$.\n",
    "\n",
    "---"
   ]
  },
  {
   "cell_type": "markdown",
   "metadata": {},
   "source": [
    "### Greatest Common Divisor\n",
    "\n",
    "The *greatest common divisor* is one of the fundamental operations of a computer algebra system.  For instance, we need `gcd` to reduce fractions to their canonical form.\n",
    "\n",
    "##### Def (GCD)\n",
    "\n",
    "Let $a,b \\in \\ZZ$ not both 0.  We say $g \\in \\ZZ$ is the *greatest common divsor* of $a$ and $b$, denoted $\\gcd(a,b)$, when\n",
    "1.  $g | a$ and $g | b$ ($g$ is a common divisor), \n",
    "1.  $h | a \\;\\wedge\\; h | b \\implies h | g$ (greatest),\n",
    "1.  $g > 0$ (required for uniqueness) \n",
    "\n",
    "##### Example (GCD)\n",
    "The $\\gcd(6,4) = \\gcd(2\\cdot 3, 2 \\cdot 2) = 2$.\n",
    "\n",
    "---"
   ]
  },
  {
   "cell_type": "code",
   "execution_count": 18,
   "metadata": {},
   "outputs": [
    {
     "name": "stdout",
     "output_type": "stream",
     "text": [
      "(a_test, b_test) = (884473730, 11119680)\n"
     ]
    },
    {
     "data": {
      "text/plain": [
       "10"
      ]
     },
     "execution_count": 18,
     "metadata": {},
     "output_type": "execute_result"
    }
   ],
   "source": [
    "#The is an in-built gcd() function for integers (and a few more types) \n",
    "#but we'll soon make our own\n",
    "using Random; Random.seed!(0)\n",
    "\n",
    "a_test = *(rand(1:100,5)...)\n",
    "b_test = *(rand(1:100,5)...)\n",
    "@show a_test, b_test\n",
    "Base.gcd(a_test, b_test)"
   ]
  },
  {
   "cell_type": "markdown",
   "metadata": {},
   "source": [
    "#### Euclid's Algorithm\n",
    "\n",
    "The **Euclidean Algorithm** computes the gcd of two integers.  (Actually the Euclidean Algorithm computers gcds for any two elements of a *Euclidean Domain*).  The algorithm exploits the following property of the gcd:\n",
    "\n",
    "##### Lemma\n",
    "Let $a,b\\in \\ZZ$ and $a>0$, $b>0$ and $a = b\\cdot q + r$ with $r \\in [0,b)$.  Then\n",
    "1.  $\\gcd(b,a) = \\gcd(a,b)$,\n",
    "1.  $\\gcd(a,b) = gcd(r,b)$,\n",
    "1.  $\\gcd(a,b) = \\gcd(a-b,b)$.\n",
    "\n",
    "Is is straightforward to turn this lemma into an algorithm:"
   ]
  },
  {
   "cell_type": "code",
   "execution_count": 19,
   "metadata": {},
   "outputs": [
    {
     "data": {
      "text/plain": [
       "(2, 3, 1)"
      ]
     },
     "execution_count": 19,
     "metadata": {},
     "output_type": "execute_result"
    }
   ],
   "source": [
    "function euclid_alg(a,b)\n",
    "    (b == 0) && return a\n",
    "    return euclid_alg(b, a % b)\n",
    "end\n",
    "\n",
    "euclid_alg(2, 2*2), euclid_alg(2*3, 3*7), euclid_alg(2*2, 13)"
   ]
  },
  {
   "cell_type": "code",
   "execution_count": 20,
   "metadata": {},
   "outputs": [
    {
     "data": {
      "text/plain": [
       "(10, 10)"
      ]
     },
     "execution_count": 20,
     "metadata": {},
     "output_type": "execute_result"
    }
   ],
   "source": [
    "Base.gcd(a_test, b_test), euclid_alg(a_test,b_test)"
   ]
  },
  {
   "cell_type": "markdown",
   "metadata": {},
   "source": [
    "--- \n",
    "\n",
    "#### Extended Euclid's Algorithm\n",
    "\n",
    "The **Extended Euclidean Algorithm** in addition to the **gcd(a, b)**, also computes $s$ and $t$ such that\n",
    "$$as + bt = gcd(a,b).$$"
   ]
  },
  {
   "cell_type": "code",
   "execution_count": 21,
   "metadata": {},
   "outputs": [
    {
     "name": "stdout",
     "output_type": "stream",
     "text": [
      "4 × 1 + 12 × 0 = 4\n",
      "9 × -1 + 12 × 1 = 3\n",
      "4 × -3 + 13 × 1 = 1\n"
     ]
    }
   ],
   "source": [
    "function i_ext_euclid_alg(a,b)\n",
    "    a == 0 && return b, 0, 1\n",
    "    g, s, t = i_ext_euclid_alg(b % a, a)\n",
    "    return g, t - (b ÷ a)*s, s\n",
    "end\n",
    "\n",
    "pretty_print_egcd((a,b),(g,s,t)) = println(\"$a × $s + $b × $t = $g\") #\\times + [TAB]\n",
    "\n",
    "for (a,b) in [(4,12), (9,12), (4,13)]\n",
    "    pretty_print_egcd((a,b),i_ext_euclid_alg(a,b))\n",
    "end"
   ]
  },
  {
   "cell_type": "code",
   "execution_count": 22,
   "metadata": {},
   "outputs": [
    {
     "data": {
      "text/plain": [
       "((10, 293957, -23381720), (10, 293957, -23381720))"
      ]
     },
     "execution_count": 22,
     "metadata": {},
     "output_type": "execute_result"
    }
   ],
   "source": [
    "#Note there is an in-built gcdx - let's compare against that too\n",
    "Base.gcdx(a_test,b_test), i_ext_euclid_alg(a_test,b_test)"
   ]
  },
  {
   "cell_type": "code",
   "execution_count": 27,
   "metadata": {},
   "outputs": [
    {
     "name": "stdout",
     "output_type": "stream",
     "text": [
      "search: \u001b[0m\u001b[1mg\u001b[22m\u001b[0m\u001b[1mc\u001b[22m\u001b[0m\u001b[1md\u001b[22m\u001b[0m\u001b[1mx\u001b[22m \u001b[0m\u001b[1mg\u001b[22m\u001b[0m\u001b[1mc\u001b[22m\u001b[0m\u001b[1md\u001b[22m lo\u001b[0m\u001b[1mg\u001b[22m\u001b[0m\u001b[1mc\u001b[22m\u001b[0m\u001b[1md\u001b[22mf invlo\u001b[0m\u001b[1mg\u001b[22m\u001b[0m\u001b[1mc\u001b[22m\u001b[0m\u001b[1md\u001b[22mf lo\u001b[0m\u001b[1mg\u001b[22m\u001b[0m\u001b[1mc\u001b[22mc\u001b[0m\u001b[1md\u001b[22mf invlo\u001b[0m\u001b[1mg\u001b[22m\u001b[0m\u001b[1mc\u001b[22mc\u001b[0m\u001b[1md\u001b[22mf pretty_print_e\u001b[0m\u001b[1mg\u001b[22m\u001b[0m\u001b[1mc\u001b[22m\u001b[0m\u001b[1md\u001b[22m\n",
      "\n"
     ]
    },
    {
     "data": {
      "text/latex": [
       "\\begin{verbatim}\n",
       "gcdx(a, b)\n",
       "\\end{verbatim}\n",
       "Computes the greatest common (positive) divisor of \\texttt{a} and \\texttt{b} and their Bézout coefficients, i.e. the integer coefficients \\texttt{u} and \\texttt{v} that satisfy $ua+vb = d = gcd(a, b)$. $gcdx(a, b)$ returns $(d, u, v)$.\n",
       "\n",
       "The arguments may be integer and rational numbers.\n",
       "\n",
       "\\begin{quote}\n",
       "\\textbf{compat}\n",
       "\n",
       "Julia 1.4\n",
       "\n",
       "Rational arguments require Julia 1.4 or later.\n",
       "\n",
       "\\end{quote}\n",
       "\\section{Examples}\n",
       "\\begin{verbatim}\n",
       "julia> gcdx(12, 42)\n",
       "(6, -3, 1)\n",
       "\n",
       "julia> gcdx(240, 46)\n",
       "(2, -9, 47)\n",
       "\\end{verbatim}\n",
       "\\begin{quote}\n",
       "\\textbf{note}\n",
       "\n",
       "Note\n",
       "\n",
       "Bézout coefficients are \\emph{not} uniquely defined. \\texttt{gcdx} returns the minimal Bézout coefficients that are computed by the extended Euclidean algorithm. (Ref: D. Knuth, TAoCP, 2/e, p. 325, Algorithm X.) For signed integers, these coefficients \\texttt{u} and \\texttt{v} are minimal in the sense that $|u| < |y/d|$ and $|v| < |x/d|$. Furthermore, the signs of \\texttt{u} and \\texttt{v} are chosen so that \\texttt{d} is positive. For unsigned integers, the coefficients \\texttt{u} and \\texttt{v} might be near their \\texttt{typemax}, and the identity then holds only via the unsigned integers' modulo arithmetic.\n",
       "\n",
       "\\end{quote}\n"
      ],
      "text/markdown": [
       "```\n",
       "gcdx(a, b)\n",
       "```\n",
       "\n",
       "Computes the greatest common (positive) divisor of `a` and `b` and their Bézout coefficients, i.e. the integer coefficients `u` and `v` that satisfy $ua+vb = d = gcd(a, b)$. $gcdx(a, b)$ returns $(d, u, v)$.\n",
       "\n",
       "The arguments may be integer and rational numbers.\n",
       "\n",
       "!!! compat \"Julia 1.4\"\n",
       "    Rational arguments require Julia 1.4 or later.\n",
       "\n",
       "\n",
       "# Examples\n",
       "\n",
       "```jldoctest\n",
       "julia> gcdx(12, 42)\n",
       "(6, -3, 1)\n",
       "\n",
       "julia> gcdx(240, 46)\n",
       "(2, -9, 47)\n",
       "```\n",
       "\n",
       "!!! note\n",
       "    Bézout coefficients are *not* uniquely defined. `gcdx` returns the minimal Bézout coefficients that are computed by the extended Euclidean algorithm. (Ref: D. Knuth, TAoCP, 2/e, p. 325, Algorithm X.) For signed integers, these coefficients `u` and `v` are minimal in the sense that $|u| < |y/d|$ and $|v| < |x/d|$. Furthermore, the signs of `u` and `v` are chosen so that `d` is positive. For unsigned integers, the coefficients `u` and `v` might be near their `typemax`, and the identity then holds only via the unsigned integers' modulo arithmetic.\n",
       "\n"
      ],
      "text/plain": [
       "\u001b[36m  gcdx(a, b)\u001b[39m\n",
       "\n",
       "  Computes the greatest common (positive) divisor of \u001b[36ma\u001b[39m and \u001b[36mb\u001b[39m and their Bézout\n",
       "  coefficients, i.e. the integer coefficients \u001b[36mu\u001b[39m and \u001b[36mv\u001b[39m that satisfy \u001b[35mua+vb = d =\n",
       "  gcd(a, b)\u001b[39m. \u001b[35mgcdx(a, b)\u001b[39m returns \u001b[35m(d, u, v)\u001b[39m.\n",
       "\n",
       "  The arguments may be integer and rational numbers.\n",
       "\n",
       "\u001b[39m\u001b[1m  │ \u001b[22m\u001b[39m\u001b[1mJulia 1.4\u001b[22m\n",
       "\u001b[39m\u001b[1m  │\u001b[22m\n",
       "\u001b[39m\u001b[1m  │\u001b[22m  Rational arguments require Julia 1.4 or later.\n",
       "\n",
       "\u001b[1m  Examples\u001b[22m\n",
       "\u001b[1m  ≡≡≡≡≡≡≡≡≡≡\u001b[22m\n",
       "\n",
       "\u001b[36m  julia> gcdx(12, 42)\u001b[39m\n",
       "\u001b[36m  (6, -3, 1)\u001b[39m\n",
       "\u001b[36m  \u001b[39m\n",
       "\u001b[36m  julia> gcdx(240, 46)\u001b[39m\n",
       "\u001b[36m  (2, -9, 47)\u001b[39m\n",
       "\n",
       "\u001b[36m\u001b[1m  │ \u001b[22m\u001b[39m\u001b[36m\u001b[1mNote\u001b[22m\u001b[39m\n",
       "\u001b[36m\u001b[1m  │\u001b[22m\u001b[39m\n",
       "\u001b[36m\u001b[1m  │\u001b[22m\u001b[39m  Bézout coefficients are \u001b[4mnot\u001b[24m uniquely defined. \u001b[36mgcdx\u001b[39m returns the\n",
       "\u001b[36m\u001b[1m  │\u001b[22m\u001b[39m  minimal Bézout coefficients that are computed by the extended\n",
       "\u001b[36m\u001b[1m  │\u001b[22m\u001b[39m  Euclidean algorithm. (Ref: D. Knuth, TAoCP, 2/e, p. 325, Algorithm\n",
       "\u001b[36m\u001b[1m  │\u001b[22m\u001b[39m  X.) For signed integers, these coefficients \u001b[36mu\u001b[39m and \u001b[36mv\u001b[39m are minimal in\n",
       "\u001b[36m\u001b[1m  │\u001b[22m\u001b[39m  the sense that \u001b[35m|u| < |y/d|\u001b[39m and \u001b[35m|v| < |x/d|\u001b[39m. Furthermore, the signs\n",
       "\u001b[36m\u001b[1m  │\u001b[22m\u001b[39m  of \u001b[36mu\u001b[39m and \u001b[36mv\u001b[39m are chosen so that \u001b[36md\u001b[39m is positive. For unsigned\n",
       "\u001b[36m\u001b[1m  │\u001b[22m\u001b[39m  integers, the coefficients \u001b[36mu\u001b[39m and \u001b[36mv\u001b[39m might be near their \u001b[36mtypemax\u001b[39m,\n",
       "\u001b[36m\u001b[1m  │\u001b[22m\u001b[39m  and the identity then holds only via the unsigned integers' modulo\n",
       "\u001b[36m\u001b[1m  │\u001b[22m\u001b[39m  arithmetic."
      ]
     },
     "execution_count": 27,
     "metadata": {},
     "output_type": "execute_result"
    }
   ],
   "source": [
    "?gcdx"
   ]
  },
  {
   "cell_type": "markdown",
   "metadata": {},
   "source": [
    "--- \n",
    "\n",
    "### Inversion in $\\ZZ_m$\n",
    "\n",
    "Notice the Extended Euclidean Algorithm computes inverses in $\\ZZ_m$.  Given $a \\in \\ZZ_m^{\\neq 0}$ the $egcd(a,m)$ returns $s$ and $t$ such that\n",
    "$$a \\cdot s + m \\cdot t = gcd(a,m).$$\n",
    "Taking the entire equation $\\mod m$ we get\n",
    "$$a \\cdot s + m \\cdot t \\cong \\gcd(a,m) \\mod m \\implies a \\cdot s + 0 \\cong \\gcd(a,m) \\mod m \\implies a \\cdot s \\cong \\gcd(a,m) \\mod m.$$\n",
    "Provided $\\gcd(a,m) = 1$ (i.e. \"coprime\" or \"relatively prime\") we get $a \\cdot s \\cong 1 \\mod m$ and thus $a^{-1} \\cong s \\mod m$.\n",
    "\n",
    "##### Example\n",
    "To find the inverse of $5 \\in \\ZZ_{13}$ do:"
   ]
  },
  {
   "cell_type": "code",
   "execution_count": 24,
   "metadata": {},
   "outputs": [
    {
     "data": {
      "text/plain": [
       "(1, -5, 2)"
      ]
     },
     "execution_count": 24,
     "metadata": {},
     "output_type": "execute_result"
    }
   ],
   "source": [
    "a, m = 5, 13\n",
    "i_ext_euclid_alg(5, 13)"
   ]
  },
  {
   "cell_type": "code",
   "execution_count": 26,
   "metadata": {},
   "outputs": [],
   "source": [
    "inverse_mod(a,m) = mod(i_ext_euclid_alg(a,m)[2],m);"
   ]
  },
  {
   "cell_type": "code",
   "execution_count": 30,
   "metadata": {},
   "outputs": [
    {
     "data": {
      "text/plain": [
       "8"
      ]
     },
     "execution_count": 30,
     "metadata": {},
     "output_type": "execute_result"
    }
   ],
   "source": [
    "i = inverse_mod(a,m)"
   ]
  },
  {
   "cell_type": "code",
   "execution_count": 31,
   "metadata": {},
   "outputs": [
    {
     "data": {
      "text/plain": [
       "1"
      ]
     },
     "execution_count": 31,
     "metadata": {},
     "output_type": "execute_result"
    }
   ],
   "source": [
    "mod(a*i,m)"
   ]
  },
  {
   "cell_type": "markdown",
   "metadata": {},
   "source": [
    "---\n",
    "### Chinese Remaindering\n",
    "\n",
    "##### Problem Statement\n",
    "Two integers $a$ and $b$ are *relatively prime* when $\\gcd(a,b) = 1$.  Given a finite sequence of relatively prime integers $m_1,\\ldots,m_k$ called the *moduli* and correspoing integers $u_1,\\ldots,u_k$ called the *images*, find $u \\in \\ZZ$ such that\n",
    "\\begin{align*}\n",
    "u &\\cong u_1 \\mod m_1 \\\\\n",
    "u &\\cong u_2 \\mod m_2 \\\\\n",
    "&\\; \\vdots \\\\\n",
    "u &\\cong u_k \\mod m_k\n",
    "\\end{align*}\n",
    "\n",
    "For example, given the following information\n",
    "\\begin{align*}\n",
    "u &\\cong 4 \\mod 5 &\\implies&& (u_1,\\, m_1) &= (4,\\, 5)\\\\\n",
    "u &\\cong 5 \\mod 7 &\\implies&& (u_2,\\, m_2) &= (5,\\, 7)\n",
    "\\end{align*}\n",
    "we want to deduce $u = 19$ because"
   ]
  },
  {
   "cell_type": "code",
   "execution_count": 32,
   "metadata": {},
   "outputs": [
    {
     "data": {
      "text/plain": [
       "(true, true)"
      ]
     },
     "execution_count": 32,
     "metadata": {},
     "output_type": "execute_result"
    }
   ],
   "source": [
    "(19 % 5 == 4, 19 % 7 == 5)"
   ]
  },
  {
   "cell_type": "markdown",
   "metadata": {},
   "source": [
    "---\n",
    "##### Theorem (CRT)\n",
    "\n",
    "Let $M = m_1 \\cdot m_2 \\cdots \\cdot m_k$.  There exists a unique $u \\in \\ZZ$ on $\\{0,\\ldots,M-1\\}$ such that $u \\cong u_i \\mod m_i$ for $i = 1,\\ldots,k$."
   ]
  },
  {
   "cell_type": "markdown",
   "metadata": {},
   "source": [
    "**Proof of Existence**:\n",
    "\n",
    "(This is a constructive proof which provides an algorithm for determining $u$).\n",
    "\n",
    "Let $u = v_1 + v_2m_1 + v_3m_1m_2 + \\cdots + v_{k+1} m_1 m_2 \\cdots m_{k}$ and notice the vanishing terms after reducing $u$ modulo $m_k$:\n",
    "$$\n",
    "u \\mod m_j = v_1 + v_2m_1 + \\cdots + v_{j+1}m_1\\cdots m_{j} + 0 + \\cdots + 0\n",
    "$$"
   ]
  },
  {
   "cell_type": "markdown",
   "metadata": {},
   "source": [
    "We have\n",
    "\\begin{align*}\n",
    "u_1 &\\cong v_1 \\mod m_1 &&\\implies v_1 \\gets u_1 \\\\\n",
    "u_2 &\\cong v_1 + v_2 m_1 \\mod m_2 &&\\implies v_2 \\gets (u_2 - v_1) \\cdot (m_1)^{-1} \\mod m_2 \\\\\n",
    "u_3 &\\cong v_1 + v_2 m_1 + v_3 m_1 m_2 \\mod m_3 &&\\implies v_3 \\gets (u_3-v_1-v_2 m_1)(m_1 m_2)^{-1} \\mod m_3\\\\\n",
    "&\\;\\,\\vdots\n",
    "\\end{align*}\n",
    "\n",
    "**Proof of Uniquenss**\n",
    "\n",
    "Left as an exercise. :P\n",
    "\n",
    "---\n",
    "\n",
    "##### Example (CRT)"
   ]
  },
  {
   "cell_type": "markdown",
   "metadata": {},
   "source": [
    "Suppose $u \\cong 2 \\mod 5$, $u \\cong 1 \\mod 7$, $u \\cong 1 \\mod 3$.  What is $u$?\n",
    "\n",
    "Proceeding with CRT..."
   ]
  },
  {
   "cell_type": "code",
   "execution_count": 27,
   "metadata": {},
   "outputs": [
    {
     "name": "stdout",
     "output_type": "stream",
     "text": [
      "v = [2, -3, 1]\n",
      "We have a solution, u = 22\n"
     ]
    }
   ],
   "source": [
    "uᵢ = [2, 1, 1] # \\_i + [TAB]\n",
    "m = [5, 7, 3]\n",
    "v = Vector{Int}(undef,3)\n",
    "\n",
    "v[1] = uᵢ[1]\n",
    "v[2] = (uᵢ[2] - v[1])*inverse_mod(m[1], m[2]) % m[2]\n",
    "v[3] = (uᵢ[3] - v[1] - v[2]*m[1])*inverse_mod(m[1]*m[2], m[3]) % m[3]\n",
    "@show v #intermediate \n",
    "\n",
    "u = v[1] + v[2]*m[1] + v[3]*m[1]*m[2]\n",
    "if [u % m[1], u % m[2], u % m[3]] == uᵢ\n",
    "    println(\"We have a solution, u = $u\")\n",
    "end"
   ]
  },
  {
   "cell_type": "markdown",
   "metadata": {
    "tags": []
   },
   "source": [
    "---\n",
    "\n",
    "## The Polynomial Ring $\\RR[x]$\n",
    "\n",
    "By this point in your mathematics career you have surely worked with *polynomials*.  A polynomial is something like $x^2 + 2x + 1$ but *not* like $\\frac{x^2+1}{x-1}$ or $x \\sin(x)$.\n",
    "\n",
    "##### Definition\n",
    "Let $\\RR$ be a ring and $a \\in \\RR[x]$.  Let \n",
    "$$\n",
    "a = a_n x^n + a_{n-1}x^{n-1} + \\cdots + a_1x + a_0\n",
    "$$\n",
    "with $a_n \\neq 0$.\n",
    "+ $a$ is called a **polynomial** in $x$.\n",
    "+ The **degree** of $a$ is $n$: $$\\deg(a) = n.$$\n",
    "+ The **leading coefficient** of $a$ is $a_n$: $$\\lc(a) = a_n.$$\n",
    "+ The **leading term** of $a$ is $a_n x^n$:  $$\\lt(a) = a_n x^n.$$\n",
    "\n",
    "By convention we let $\\lc(0) = \\lt(0) = 0$ and $\\deg(0) = - \\infty$."
   ]
  },
  {
   "cell_type": "markdown",
   "metadata": {},
   "source": [
    "### Addition in $\\RR[x]$\n",
    "\n",
    "For $\\RR[x]$ to be a *ring* we must define addition."
   ]
  },
  {
   "cell_type": "raw",
   "metadata": {},
   "source": [
    "def ADDITION: \n",
    "    Input   a, b in ZZ[x]\n",
    "    Ouput   a + b (definitionally)\n",
    "    \n",
    "    if deg(a) == deg(b)\n",
    "        term = lt(a) + lt(b)      # addtion on *terms* ax^n + bx^n = (a+b)x^n\n",
    "        return term + ADDITION(a-lt(a), b-lt(b))\n",
    "        \n",
    "    if deg(a) > deg(b)\n",
    "        return lt(a) + ADDITION(a-lt(a), b)\n",
    "    \n",
    "    # deg(b) > deg(a)\n",
    "    return lt(b) + ADDITION(a, b-lt(b))"
   ]
  },
  {
   "cell_type": "code",
   "execution_count": 34,
   "metadata": {},
   "outputs": [
    {
     "data": {
      "text/plain": [
       "+ (generic function with 277 methods)"
      ]
     },
     "execution_count": 34,
     "metadata": {},
     "output_type": "execute_result"
    }
   ],
   "source": [
    "#Addition function taken from polynomial_addition.jl\n",
    "#Note that there it is assumed the Polynomial type has a push!, pop!, leading, etc...\n",
    "function +(p1::Polynomial, p2::Polynomial)::Polynomial\n",
    "    p1, p2 = deepcopy(p1), deepcopy(p2)\n",
    "    p3 = Polynomial()\n",
    "    while !iszero(p1) && !iszero(p2)\n",
    "        t1, t2 = leading(p1), leading(p2) \n",
    "        if t1.degree == t2.degree\n",
    "            push!(p3, pop!(p1)+pop!(p2))\n",
    "        elseif t1.degree < t2.degree\n",
    "            push!(p3,pop!(p2))\n",
    "        else\n",
    "            push!(p3,pop!(p1))\n",
    "        end\n",
    "    end\n",
    "    while !iszero(p1)\n",
    "        push!(p3,pop!(p1))\n",
    "    end\n",
    "    while !iszero(p2)\n",
    "        push!(p3,pop!(p2))\n",
    "    end\n",
    "    return p3\n",
    "end"
   ]
  },
  {
   "cell_type": "code",
   "execution_count": 29,
   "metadata": {},
   "outputs": [
    {
     "data": {
      "text/plain": [
       "-1⋅x^2 + -1⋅x^1 + 1⋅x^0"
      ]
     },
     "execution_count": 29,
     "metadata": {},
     "output_type": "execute_result"
    }
   ],
   "source": [
    "x = x_poly()\n",
    "p1 = 2x^2+3x +(-5) #Note we need +(-5)... try later without... how to fix?\n",
    "p2 = -3x^2 - 4x +6\n",
    "p1+p2"
   ]
  },
  {
   "cell_type": "markdown",
   "metadata": {
    "tags": []
   },
   "source": [
    "### Multiplication in $\\RR[x]$\n",
    "\n",
    "For $\\RR[x]$ to be a *ring* we must define multiplication."
   ]
  },
  {
   "cell_type": "raw",
   "metadata": {},
   "source": [
    "def MULTIPLICATION: \n",
    "    Input   a, b in ZZ[x]\n",
    "    Ouput   a * b (definitionally)\n",
    "    \n",
    "    if a = 0 or b = 0:\n",
    "        return 0\n",
    "    \n",
    "    if lt(a) = a and lt(b) = b:   # a and b are single terms\n",
    "        return a * b              # product of *terms* ax^n * bx^m = (ab)x^(n+m)\n",
    "        \n",
    "    write a = a1 + a2 with deg(a1) != deg(a2)\n",
    "    write b = b1 + b2 with deg(b1) != deg(b2)\n",
    "    \n",
    "    # DISTRIBUTION PROPERTY\n",
    "    # (a1 + a2)*(b1 + b2) = a1*b1 + a1*b2 + a2*b1 + a2*b2\n",
    "    return M(a1,b1) + M(a1,b2) + M(a2,b1) + M(a2,b2) where M = MULTIPLICATION"
   ]
  },
  {
   "cell_type": "code",
   "execution_count": 36,
   "metadata": {},
   "outputs": [
    {
     "data": {
      "text/plain": [
       "* (generic function with 424 methods)"
      ]
     },
     "execution_count": 36,
     "metadata": {},
     "output_type": "execute_result"
    }
   ],
   "source": [
    "#Taken from polynomial_multiplication.jl \n",
    "#Note that this is a very inefficient implemintation\n",
    "function *(p1::Polynomial, p2::Polynomial)::Polynomial\n",
    "    p_out = Polynomial()\n",
    "    for t in p1\n",
    "        p_out = p_out + (t * p2)\n",
    "    end\n",
    "    return p_out\n",
    "end"
   ]
  },
  {
   "cell_type": "code",
   "execution_count": 30,
   "metadata": {},
   "outputs": [
    {
     "name": "stdout",
     "output_type": "stream",
     "text": [
      "p1 = 2⋅x^2 + 3⋅x^1 + -5⋅x^0\n",
      "p2 = -3⋅x^2 + -4⋅x^1 + 6⋅x^0\n"
     ]
    },
    {
     "data": {
      "text/plain": [
       "-6⋅x^4 + -17⋅x^3 + 15⋅x^2 + 38⋅x^1 + -30⋅x^0"
      ]
     },
     "execution_count": 30,
     "metadata": {},
     "output_type": "execute_result"
    }
   ],
   "source": [
    "@show p1\n",
    "@show p2\n",
    "p1 * p2"
   ]
  },
  {
   "cell_type": "markdown",
   "metadata": {
    "tags": []
   },
   "source": [
    "The following properties are consequences of our definition.  (They are obligated to be).\n",
    "\n",
    "##### Proposition (Polynomial Multiplication)\n",
    "When $\\RR$ is an **integral domain** (a nonzero commutative ring in which the product of any two nonzero elements is nonzero) and $a,b \\in \\RR[x]^{\\neq 0}$ then\n",
    "1.  $\\deg(ab) = \\deg a + \\deg b$,\n",
    "1.  $\\lc(ab) = a_b \\cdot b_m = \\lc(a) \\cdot \\lc(b)$,\n",
    "1.  $\\lm(ab) = \\lm(a) \\cdot \\lm(b)$,\n",
    "1.  $\\lt(ab) = \\lt(a) \\cdot \\lt(b)$.\n",
    "\n",
    "*Proof* (Sketch)\n",
    "$$\n",
    "\\begin{align*}\n",
    "a \\times b &= (a_n x^n + \\cdots + a_0)(b_mx^m + \\cdots + b_0) \\\\\n",
    "&= a_n \\cdot b_m x^{n+m} + \\cdots + a_0 \\cdot b_0\n",
    "\\end{align*}\n",
    "$$\n",
    "\n",
    "##### Proposition\n",
    "Every field is also an integral domain.\n",
    "\n",
    "*Proof* (Omitted)\n",
    "\n",
    "Later, we will discuss a faster way to do polynomial multiplication via Chinese Remainder Theorem."
   ]
  },
  {
   "cell_type": "markdown",
   "metadata": {
    "tags": []
   },
   "source": [
    "### Division in $\\FF[x]$\n",
    "\n",
    "We are unable to *divide* in $\\RR[x]$.  Consider the following operation in $\\ZZ[x]$\n",
    "$$\n",
    "\\frac{x^2}{2x} = \\frac{1}{2}x.\n",
    "$$\n",
    "Even though $x^2$ and $2x$ are from $\\ZZ[x]$ that their division is in $\\QQ[x]$.  This is because $\\ZZ$ is not a *field* but $\\QQ$ is.  \n",
    "\n",
    "It turns out $\\FF[x]$ is a **Euclidean Domain** when $\\FF$ is a field.  Re-consider the division, but this time let us do the calcuation in $\\ZZ_7[x]$\n",
    "$$\n",
    "\\begin{align*}\n",
    "\\frac{x^2}{2x} \n",
    "&\\cong \\frac{1}{2}x \\mod 7 \\\\\n",
    "&\\cong 2^{-1} x \\mod 7 \\\\\n",
    "&\\cong 4 x \\mod 7.\n",
    "\\end{align*}\n",
    "$$\n",
    "Note that $\\frac{1}{2} \\cong 4 \\mod 7$.\n",
    "\n",
    "##### Theorem (Division in $\\FF[x]$)\n",
    "Let $a,b \\in \\FF[x]$, $b\\neq0$.  There exists *unique* polynomials $q,r \\in \\FF[x]$ such that \n",
    "$$\n",
    "\\begin{align*}\n",
    "a = bq + r &&\\mbox{and}&& r = 0 &&\\mbox{or}&& \\deg r < \\deg b\n",
    "\\end{align*}\n",
    "$$\n",
    "\n",
    "*Proof* (Uniqueness) \n",
    "Let $a = b q_1 + r_1 = b q_2 + r_2$ with $\\deg r_1, \\deg r_2 < \\deg b$.\n",
    "\n",
    "Consider\n",
    "$$\n",
    "\\begin{align*}\n",
    "b q_1 + r_1 = b q_2 + r_2 \n",
    "&\\implies b(q_1 - q_2) = (r_2-r_1) \\\\\n",
    "&\\implies b | (r_2-r_1) & \\mbox{But }\\deg r_1, r_2 < \\deg b\\\\\n",
    "&\\implies r_2 - r_1 = 0 \\\\\n",
    "&\\implies r_2 = r_1\n",
    "\\end{align*}\n",
    "$$\n",
    "\n",
    "Therefore $b(q_1-q_2) = 0$. But since $\\FF[x]$ is an integral domain it cannot have zero divisors. As we assumed $b\\neq 0$ this implies $$(q_1-q_2)=0 \\implies q_1 = q_2. ~\\square$$\n",
    "\n",
    "*Proof* (Existence -- The Division Algorithm)"
   ]
  },
  {
   "cell_type": "raw",
   "metadata": {},
   "source": [
    "def DIVISION: \n",
    "    Input   a, b in ZZ_p[x] such that b != 0\n",
    "    Ouput   q, r such that a = b*q + r and deg r < deg b in ZZ_p[x]\n",
    "    \n",
    "    r, q = a, 0\n",
    "    while r != 0 and deg r >= deg b do:\n",
    "        t <- lt(r)/lt(b)    # division of *terms* in ZZ_p: (ax^n)/(bx^m) = a/b mod p x^(n-m), n>m\n",
    "        q <- q + t\n",
    "        r <- r - t*b        # deg r *must* monotonically decrease\n",
    "    return (q,r)\n",
    "    \n",
    "# A couple of convenience methods\n",
    "def QUO(a, b) = first(DIVISION(a,b)) in ZZ_p[x]\n",
    "def REM(a, b) = first(DIVISION(a,b)) in ZZ_p[x]"
   ]
  },
  {
   "cell_type": "code",
   "execution_count": 38,
   "metadata": {},
   "outputs": [
    {
     "data": {
      "text/plain": [
       "Base.rem"
      ]
     },
     "execution_count": 38,
     "metadata": {},
     "output_type": "execute_result"
    }
   ],
   "source": [
    "#Take from polynomial_division.jl\n",
    "#Note that as part of the project you will re-package this code as part of \n",
    "#the PolynomialModP type that you will create.\n",
    "\n",
    "#At the moment, the divide function and its friends (÷ and rem) return a function that then\n",
    "#uses a prime to return an actual polynomial\n",
    "function divide(num::Polynomial, den::Polynomial)\n",
    "    function division_function(p::Int)\n",
    "        f, g = mod(num,p), mod(den,p)\n",
    "        degree(f) < degree(num) && return nothing \n",
    "        iszero(g) && throw(DivideError())\n",
    "        q = Polynomial()\n",
    "        prev_degree = degree(f)\n",
    "        while degree(f) ≥ degree(g) \n",
    "            h = Polynomial( (leading(f) ÷ leading(g))(p) )  #syzergy \n",
    "            f = mod((f - h*g), p)\n",
    "            q = mod((q + h), p)  \n",
    "            prev_degree == degree(f) && break\n",
    "            prev_degree = degree(f)\n",
    "        end\n",
    "        @assert iszero( mod((num  - (q*g + f)),p))\n",
    "        return q, f\n",
    "    end\n",
    "    return division_function\n",
    "end\n",
    "\n",
    "\"\"\"\n",
    "The quotient from polynomial division. Returns a function of an integer.\n",
    "\"\"\"\n",
    "÷(num::Polynomial, den::Polynomial)  = (p::Int) -> first(divide(num,den)(p))\n",
    "\n",
    "\"\"\"\n",
    "The remainder from polynomial division. Returns a function of an integer.\n",
    "\"\"\"\n",
    "rem(num::Polynomial, den::Polynomial)  = (p::Int) -> last(divide(num,den)(p))"
   ]
  },
  {
   "cell_type": "code",
   "execution_count": 39,
   "metadata": {},
   "outputs": [
    {
     "name": "stdout",
     "output_type": "stream",
     "text": [
      "p1 = 2⋅x^2 + 3⋅x^1 + -5⋅x^0\n",
      "p2 = -3⋅x^2 + -4⋅x^1 + 6⋅x^0\n"
     ]
    },
    {
     "data": {
      "text/plain": [
       "(::var\"#division_function#47\"{Polynomial, Polynomial}) (generic function with 1 method)"
      ]
     },
     "execution_count": 39,
     "metadata": {},
     "output_type": "execute_result"
    }
   ],
   "source": [
    "@show p1\n",
    "@show p2\n",
    "divide(p1, p2)"
   ]
  },
  {
   "cell_type": "code",
   "execution_count": 40,
   "metadata": {},
   "outputs": [
    {
     "data": {
      "text/plain": [
       "(33⋅x^0, 34⋅x^1 + 100⋅x^0)"
      ]
     },
     "execution_count": 40,
     "metadata": {},
     "output_type": "execute_result"
    }
   ],
   "source": [
    "q , r = divide(p1,p2)(101)"
   ]
  },
  {
   "cell_type": "code",
   "execution_count": 41,
   "metadata": {},
   "outputs": [
    {
     "data": {
      "text/plain": [
       "33⋅x^0"
      ]
     },
     "execution_count": 41,
     "metadata": {},
     "output_type": "execute_result"
    }
   ],
   "source": [
    "q = (p1 ÷ p2)(101) #Not the nicest interface, but will be nicer with PolynomialModP"
   ]
  },
  {
   "cell_type": "code",
   "execution_count": 42,
   "metadata": {},
   "outputs": [
    {
     "data": {
      "text/plain": [
       "34⋅x^1 + 100⋅x^0"
      ]
     },
     "execution_count": 42,
     "metadata": {},
     "output_type": "execute_result"
    }
   ],
   "source": [
    "r = rem(p1,p2)(101) #Not the nicest interface, but will be nicer with PolynomialModP"
   ]
  },
  {
   "cell_type": "code",
   "execution_count": 43,
   "metadata": {},
   "outputs": [
    {
     "data": {
      "text/plain": [
       "0"
      ]
     },
     "execution_count": 43,
     "metadata": {},
     "output_type": "execute_result"
    }
   ],
   "source": [
    "mod(q*p2+r - p1,101)"
   ]
  },
  {
   "cell_type": "markdown",
   "metadata": {},
   "source": [
    "##### Example\n",
    "Consider $a = 10x^2 + 4x + 1$ divided by $b = 5x-3$ in $\\ZZ_{11}[x]$.\n",
    "\n",
    "$$\n",
    "\\begin{align*}\n",
    "r,q &\\gets 10x^2 + 4x + 1, 0 \\\\[1em]\n",
    "r \\neq 0 &\\mbox{ and } \\deg r = 2 \\geq \\deg b = 1 \\\\\n",
    "t &\\gets \\frac{10x^2}{5x} \\cong 2x \\mod 11\\\\\n",
    "q &\\gets 0 + 2x\\\\\n",
    "r &\\gets (10x^2 + 4x + 1) - 2x(5x-3) \\cong 10x + 1 \\mod 11\\\\[1em]\n",
    "r \\neq 0 &\\mbox{ and } \\deg r = 1 \\geq \\deg b = 1 \\\\\n",
    "t &\\gets \\frac{10x}{5x} \\cong 2 \\mod 11\\\\\n",
    "q &\\gets 2x + 2\\\\\n",
    "r &\\gets (10x+1) - 2(5x-3) \\cong 7 \\mod 11\\\\[1em]\n",
    "r \\neq 0 &\\mbox{ and } \\color{red}{\\deg r = 0 \\geq \\deg b = 1} \\\\[1em]\n",
    "&\\mbox{return } (2x+2, 7)\n",
    "\\end{align*}\n",
    "$$\n",
    "\n",
    "And notice $10x^2 + 4x + 1 \\cong (5x-3)(2x+2) + 7 \\mod 11$."
   ]
  },
  {
   "cell_type": "markdown",
   "metadata": {},
   "source": [
    "### GCDs in $\\ZZ_p[x]$\n",
    "\n",
    "##### Theorem \n",
    "Let $a,b \\in \\ZZ_p[x]^{\\neq 0}$. There is $s,t \\in \\ZZ_p[x]$ such that\n",
    "$$\n",
    "sa + tb = \\gcd(a,b).\n",
    "$$\n",
    "\n",
    "*Proof*\n",
    "The extended Euclidean Algorithm"
   ]
  },
  {
   "cell_type": "raw",
   "metadata": {},
   "source": [
    "#Taken from polynomial_gcd.jl\n",
    "#Note that as part of your project you'll implelment this for PolynomialModP \n",
    "#(without an input argument `prime`)\n",
    "function extended_euclid_alg(a::Polynomial, b::Polynomial, prime::Int)\n",
    "    old_r, r = mod(a,prime), mod(b,prime)\n",
    "    old_s, s = one(Polynomial), zero(Polynomial)\n",
    "    old_t, t = zero(Polynomial), one(Polynomial)\n",
    "\n",
    "    while !iszero(mod(r,prime))\n",
    "        q = divide(old_r, r)(prime) |> first\n",
    "        old_r, r = r, mod(old_r - q*r, prime)\n",
    "        old_s, s = s, mod(old_s - q*s, prime)\n",
    "        old_t, t = t, mod(old_t - q*t, prime)\n",
    "    end\n",
    "    g, s, t = old_r, old_s, old_t\n",
    "    @assert mod(s*a + t*b - g, prime) == 0\n",
    "    return g, s, t  \n",
    "end"
   ]
  },
  {
   "cell_type": "raw",
   "metadata": {},
   "source": [
    "x = x_poly()\n",
    "p1 = 2x^2+3x +(-5) #Note we need +(-5)... try later without... how to fix?\n",
    "p2 = -3x^2 - 4x +6\n",
    "p1+p2\n",
    "\n",
    "extended_euclid_alg(p1*p2,p2,101)"
   ]
  },
  {
   "cell_type": "raw",
   "metadata": {},
   "source": [
    "(98⋅x^2 + 97⋅x^1 + 6⋅x^0, 0, 1⋅x^0)"
   ]
  },
  {
   "cell_type": "markdown",
   "metadata": {
    "tags": []
   },
   "source": [
    "# Unit 5: Computer Algebra Systems and Symbolic Computation "
   ]
  },
  {
   "cell_type": "markdown",
   "metadata": {
    "tags": []
   },
   "source": [
    "## Factorization in $\\ZZ[x]$\n",
    "\n",
    "Analogous to *factoring* integers into *primes* we wish to *factor* polynomials into *irreducible components*.\n",
    "\n",
    "##### Definition (Irreducible Polynomial)\n",
    "An **irreducible polynomial** is a polynomial that cannot be factored into the product of two non-constant polynomials. In particular, $a \\in \\ZZ[x]$ is **irreducible** when\n",
    "$$\n",
    "a = b \\cdot c \\implies \\deg b = 1 \\mbox{ or } \\deg c = 1.\n",
    "$$\n",
    "---\n",
    "\n",
    "Irreducibility depends on the coefficient field:\n",
    "\n",
    "Consider $f = x^4 - 4$.  The polynomial $f$ will have different factorizations depending on which coefficient ring we are working with:\n",
    "+ *over $\\ZZ$* we have $f = (x^2-2)(x^2+2)$,\n",
    "+ *over $\\mathbb{R}$* we have $f = \\left(x-\\sqrt{2}\\right)\\left(x+\\sqrt{2}\\right)\\left(x^2+2\\right)$\n",
    "+ *over $\\mathbb{C}$* we have $f = \\left(x-\\sqrt{2}\\right)\\left(x+\\sqrt{2}\\right)\\left(x-\\sqrt{2}i\\right)\\left(x+\\sqrt{2}i\\right)$  (which is why the complex number are called a *splitting field*)."
   ]
  },
  {
   "cell_type": "markdown",
   "metadata": {
    "tags": []
   },
   "source": [
    "### Factorization in $\\ZZ[x]$ using Integer Factorization\n",
    "\n",
    "To premise this section, we acknowledge that integer factorization is *intractable* and thus reducing polynomial factorization to integer factorization is somewhat pointless.  It is, however, the first strategy devised for factorizations and was used until a better method was discovered in 1970.\n",
    "\n",
    "Consider evaluating $f(x) = 9x^4-1$ at various integral points.  We can see\n",
    "$$\n",
    "f(10) = 89\\,999 = 7 \\cdot 13 \\cdot 23 \\cdot 43 = \\left[(x-3)(x+3)(2x+3)(4x+3)\\right]_{x=10}\n",
    "$$\n",
    "which gives us a reasonable guess at the polynomial factorization.  Unfortunately, none of those factors divide $f$ \n",
    "which means they cannot be a part of the factorization.  So, we try groups of two integers to search for a factor:\n",
    "$$\n",
    "\\begin{align*}\n",
    "(7 \\cdot 13) = 91 = (100-10+1) = [(x^2-x+1)]_{x=10} && \\mbox{ does not divide $f$} \\\\\n",
    "(7 \\cdot 23) = 161 =(200-40+1) = [(2x^2-4x+1)]_{x=10} && \\mbox{ does not divide $f$} \\\\\n",
    "(7 \\cdot 43) = 301 =(300+1) = [(3x^2+1)]_{x=10} && \\mbox{ yes! this divides $f$}\n",
    "\\end{align*}\n",
    "$$\n",
    "We have deduced $f = (3x^2 + 1) \\frac{9x^4-1}{3x^2+1} = (3x^2+1)(3x^2-1)$.\n",
    "\n",
    "We may get **luckier** by chosing different eval points that have **fewer** integer factors:\n",
    "$$\n",
    "f(12) = 186\\,623 = 431 \\cdot 433 = [(3x^2-1)(3x^2+1)]_{x=12}\n",
    "$$\n",
    "Or we may get **unlucky** by choosing eval points that have more **integer** factors:\n",
    "$$\n",
    "f(11) = 2^3 \\cdot 7 \\cdot 13 \\cdot 181\n",
    "$$\n",
    "\n",
    "In any case.  This is not the method we are going to use.\n"
   ]
  },
  {
   "cell_type": "markdown",
   "metadata": {},
   "source": [
    "## Simplifying the Factoring Problem\n",
    "\n",
    "There are various things we assume that will simplify our algorithms.  \n",
    "\n",
    "First, notice that we do not care about scaling factors.  If we can factor $k \\cdot a$ for $k \\in \\ZZ$ and $a \\in \\ZZ[x]$ then we can factor $a$.  Thus, we will presume the polynomials given to us are\n",
    "1.  primitive (that is, have unit *content*), and\n",
    "2.  monic (that is, have unit leading coefficients).\n",
    "\n",
    "Making a polynomial monic is easy.  When the coefficients are taken from a field, $\\lc(a)$ is guaranteed invertible and $\\frac{a}{\\lc(a)}$ will be monic.  This will also guarantee that the factorization will be into *monic* irreducibles.\n",
    "\n",
    "##### Definition (Content)\n",
    "The **content** of a polynomial is the gcd of its coefficients.  Namely, if $a = a_nx^n + \\cdots a_0$ then\n",
    "$$\n",
    "\\content(a) = \\gcd(a_0,\\, a_1,\\, \\ldots, a_n)\n",
    "$$\n",
    "The **primitive part** of $a$ is \n",
    "$$\n",
    "\\primpart(a) = \\frac{a}{\\content(a)}\n",
    "$$\n",
    "\n",
    "##### Example\n",
    "$\\content(6x^3 + 3x + 3) = 3$ and $\\primpart(6x^3 + 3x + 3) = 2x^3 + x + 1$.\n",
    "\n",
    "Second, given a polynomial to factor like\n",
    "$$a = (x-1)^3(x^2+x+1)^2(x^3-3x-1)^7$$\n",
    "we are satisfied *finding only the irreducible components*: $x-1$, $x^2 + x + 1$, and $x^3 - 3x -1$ because we can recover their degrees by repeated division."
   ]
  },
  {
   "cell_type": "code",
   "execution_count": 44,
   "metadata": {},
   "outputs": [
    {
     "data": {
      "text/plain": [
       "3"
      ]
     },
     "execution_count": 44,
     "metadata": {},
     "output_type": "execute_result"
    }
   ],
   "source": [
    "x = x_poly()\n",
    "p = 6x^3 + 3x + 3\n",
    "content(p)"
   ]
  },
  {
   "cell_type": "code",
   "execution_count": 45,
   "metadata": {},
   "outputs": [
    {
     "data": {
      "text/plain": [
       "2⋅x^3 + 1⋅x^1 + 1⋅x^0"
      ]
     },
     "execution_count": 45,
     "metadata": {},
     "output_type": "execute_result"
    }
   ],
   "source": [
    "prim_part(p)(101) #Again, here prim_part returns a function that uses a prime\n",
    "                  #but with PolynomialModP prim_part will have a simpler interface"
   ]
  },
  {
   "cell_type": "markdown",
   "metadata": {},
   "source": [
    "## Factorization in $\\ZZ_p[x]$\n",
    "\n",
    "Let $p$ be an *odd* prime.  That is, $p$ cannot be two.  \n",
    "\n",
    "##### Proposition\n",
    "Let $a \\in \\ZZ[x]$, $\\content(a) = 1$, $\\gcd(a,a')=1$, and $a = f_1 \\cdot f_2 \\cdot \\cdots \\cdot f_\\ell$ where each $f_k$ is irreducible over $\\ZZ$.  Let $p$ be a prime, $\\phi_p(a) = (a \\mod p)$, and suppose we factor $\\phi_p(a)$ over $\\ZZ_p$.  Then\n",
    "$$\n",
    "\\phi_p(f_1 f_2 \\cdots f_\\ell) = \\phi_p(f_1) \\cdot \\phi_p(f_2) \\cdot \\cdots \\cdot \\phi_p(f_\\ell)\n",
    "$$\n",
    "\n",
    "##### Example \n",
    "Consider $a = 9x^4-1 = (3x^2-1)(3x^2+1)$.  We say $a$ has two factors and therefore with $\\ell = 2$.  But also\n",
    "$$\n",
    "\\begin{align*}\n",
    "a &\\cong (3x^2-1)(3x^2+1) \\mod 5\\\\\n",
    "a &\\cong (3x^2-1) \\cdot 3(x-2)(x+3) \\mod 7\\\\\n",
    "a &\\cong 2 \\mod 3\n",
    "\\end{align*}\n",
    "$$\n",
    "\n",
    "##### Lemma 3\n",
    "If $p \\not\\mid \\lc(a)$ then number of factors of $a$ over $\\ZZ_p$ is $\\geq \\ell$.\n",
    "\n",
    "##### Notation ($D_p$)\n",
    "Let $D_p(a)$ be the set of possible degrees of factors of $a \\in \\ZZ[x]$ inferred from the factorization of $a$ over $\\ZZ_p$.\n",
    "\n",
    "##### Example\n",
    "Let $a = 85x^5 + 55x^4 + 37x^3 + 35x^2 - 97x - 50$\n",
    "$$\n",
    "\\begin{align*}\n",
    "a &\\cong (x+1)(x^4+x^3+x^2+x+1) \\mod 2 &&\\implies D_2(a) = \\{1,4,5\\}\\\\\n",
    "a &\\cong (x+1)(x^4+x^2+x+1) \\mod 3 &&\\implies D_3(a) = \\{1,4,5\\}\\\\\n",
    "a &\\cong 0 \\mod 5 && \\mbox{ bad prime} \\\\\n",
    "a &\\cong (x^2+5x+5)(x^3+6x+4) \\mod 7 &&\\implies D_7(a) = \\{2,3,5\\}\\\\\n",
    "\\end{align*}\n",
    "$$\n",
    "\n",
    "Now $D_2(a) \\cap D_3(a) \\cap D_7(a) = \\{5\\} \\implies a$ is irreducible over $\\mathbb{Z}$."
   ]
  },
  {
   "cell_type": "markdown",
   "metadata": {
    "jp-MarkdownHeadingCollapsed": true,
    "tags": []
   },
   "source": [
    "---\n",
    "### Square-Free Polynomials\n",
    "\n",
    "Note here we are **not** presuming that $f_i$ is *irreducible*.\n",
    "\n",
    "Square-free polynomials, as their name suggests, are polynomials with no repeated factors. A factor that repeats, say, three times also repeats two times and hence square-free implies repeated-root free.\n",
    "\n",
    "##### Definition (Square-Free)\n",
    "$a \\in \\FF[x]$ is *square-free* if $a$ has no repeated factors.  That is, \n",
    "$$\\lnot\\exists b \\in \\FF[x]; \\, \\deg(b)>0 \\mbox{ and } b^2 \\mid a$$\n",
    "\n",
    "##### Lemma 1\n",
    "$a \\in \\ZZ_p[x]$ is *square-free* $\\iff$ $\\gcd(a,a') = 1$.\n",
    "\n",
    "_Proof_  Omitted.\n",
    "\n",
    "##### Lemma 2\n",
    "Let $a \\in \\ZZ_p[x]$ and $a = f_1^1 \\cdot f_2^2 \\cdot f_3^3 \\cdot \\cdots \\cdot f_n^n$ be a square-free factorization for $a$.  Then\n",
    "$$\\gcd(a,a') = f_2^1 f_3^2 f_4^3 \\cdots f_n^{n-1}.$$\n",
    "\n",
    "_Proof_ Omitted.\n",
    "\n",
    "Notice that\n",
    "$$\n",
    "\\frac f {\\gcd(f,\\, f')} = \\frac{ f_1^1  f_2^2  f_3^3  \\cdots  f_n^n}{f_2^1 f_3^2 f_4^3 \\cdots f_n^{n-1}} = f_1f_2\\cdots f_n\n",
    "$$\n",
    "is a square-free polynomial.\n",
    "\n",
    "\n",
    "##### Example\n",
    "Consider $f = (x^2 + x + 1)^3 (x^3 - 3x -1)^2 \\in \\ZZ_{11}[x]$.  We have\n",
    "$$\n",
    "g = \\gcd(f, f') = x^5 + x^4 + 9x^3 + 7x^2 + 7x + 10\n",
    "$$\n",
    "and\n",
    "$$\n",
    "\\frac{f}{g} = (x^2+x+1)(x^3+8x+10).\n",
    "$$"
   ]
  },
  {
   "cell_type": "code",
   "execution_count": 8,
   "metadata": {},
   "outputs": [
    {
     "data": {
      "text/plain": [
       "35⋅x^2 + 35⋅x^1 + 35⋅x^0"
      ]
     },
     "execution_count": 8,
     "metadata": {},
     "output_type": "execute_result"
    }
   ],
   "source": [
    "x = x_poly()\n",
    "p = (x^2+x+1)^3 \n",
    "square_free(p, 101)"
   ]
  },
  {
   "cell_type": "markdown",
   "metadata": {},
   "source": [
    "## Cantor Zassenhaus Factorization\n",
    "\n",
    "Let $a \\in \\ZZ_p[x]$, $d = \\deg a > 0$.  Suppose $\\gcd(a,a')=1$ (i.e. $a$ has no repeated factors).  \n",
    "\n",
    "**Question** How can we compute the linear factors of $a$ in $\\ZZ_p[x]$?\n",
    "\n",
    "*Idea 1:* \n",
    "$$\\gcd(a,\\, (x-0)(x-1)\\cdots(x-p+1)) \\mod p$$\n",
    "\n",
    "**Question** How can factor the product of linears into its linear components.\n",
    "\n",
    "*Idea 2:* Pick $k=\\frac{p-1}{2}$ (half) the linear factors at random.  *Maybe* generate nontrivial GCD.  Recurse.\n",
    "$$\\gcd(a,\\, (x-\\sigma_0)\\cdots(x-\\sigma_k)) \\in \\left\\{a,\\,1,\\, \\mbox{proper factor of } a\\right\\}$$\n",
    "(Note:  $\\sigma$ is some permutation of $\\ZZ_p$.)\n",
    "\n",
    "**Question** How can we get do the same thing for irreducible quadratics, cubics, quartics, $\\ldots$\n",
    "\n",
    "*Answer:* Essentially the same way.  It will take some theory to express."
   ]
  },
  {
   "cell_type": "markdown",
   "metadata": {},
   "source": [
    "### Distinct Degree Factorization (Idea 1)\n",
    "\n",
    "#### Fermat's \"little\" Theorem (FlT) \n",
    "Let $p > 2$ a prime and $0 < a < p$ then $a^{p-1} \\cong 1 \\mod p$, or equivalently,\n",
    "$$a^p \\cong a \\mod p.$$"
   ]
  },
  {
   "cell_type": "code",
   "execution_count": 47,
   "metadata": {},
   "outputs": [
    {
     "data": {
      "text/plain": [
       "5"
      ]
     },
     "execution_count": 47,
     "metadata": {},
     "output_type": "execute_result"
    }
   ],
   "source": [
    "a = 5\n",
    "p = 23\n",
    "mod(a^p-p,p)"
   ]
  },
  {
   "cell_type": "code",
   "execution_count": 48,
   "metadata": {},
   "outputs": [
    {
     "data": {
      "text/plain": [
       "0"
      ]
     },
     "execution_count": 48,
     "metadata": {},
     "output_type": "execute_result"
    }
   ],
   "source": [
    "a = 24\n",
    "p = 29\n",
    "mod(a^p-p,p) #Why does this break? There is an overflow.... \n",
    "             # by analogy your power mod p will improve this"
   ]
  },
  {
   "cell_type": "code",
   "execution_count": 49,
   "metadata": {},
   "outputs": [
    {
     "data": {
      "text/plain": [
       "BigInt"
      ]
     },
     "execution_count": 49,
     "metadata": {},
     "output_type": "execute_result"
    }
   ],
   "source": [
    "big(24) |> typeof"
   ]
  },
  {
   "cell_type": "code",
   "execution_count": 50,
   "metadata": {},
   "outputs": [
    {
     "data": {
      "text/plain": [
       "24"
      ]
     },
     "execution_count": 50,
     "metadata": {},
     "output_type": "execute_result"
    }
   ],
   "source": [
    "a = big(24)\n",
    "p = 29\n",
    "mod(a^p-p,p)"
   ]
  },
  {
   "cell_type": "markdown",
   "metadata": {},
   "source": [
    "##### Corollary\n",
    "Let $f(x) = x^p -x \\in \\ZZ_p[x]$, then for any $a \\in \\ZZ_p$,\n",
    "$$f(a) \\cong 0 \\mod p$$ \n",
    "and thus $(x-a) | f$ which means $(x-a)$ is a factor $f$ for every $a$.  Thus $x^p -x$ is a product of all the linear irreducible polynomials of $\\ZZ_p[x]$:\n",
    "$$\n",
    "x^p - x = (x-0)\\cdots(x-p+1)\n",
    "$$\n",
    "\n",
    "Supposing that $f \\in \\ZZ_p[x]$ is square-free and primitive we have that\n",
    "$$g = \\gcd(x^p-x,\\, f)$$\n",
    "**is the product of all *monic linear factors* of $f$.**\n",
    "\n",
    "##### Theorem \n",
    "In $\\ZZ_p[x]$, \n",
    "$$x^{p^k}-x$$ \n",
    "is the product of all *monic* irreducible polynomials in $\\ZZ_p[x]$ of degreee $d | k$.\n",
    "\n",
    "This means that\n",
    "$$\n",
    "\\begin{align*}\n",
    "g_1 &= gcd(a, x^p-x)  && \\mbox{contains all irreducible linear factors of } a \\\\\n",
    "g_2 &= gcd(a/g_1, x^{p^2}-x) && \\mbox{contains all irreducible quadratic factors of } a \\\\\n",
    "g_3 &= gcd(a/g_1/g_2, x^{p^3}-x) && \\mbox{contains all irreducible cubic factors of } a \\\\\n",
    "&\\;\\vdots\n",
    "\\end{align*}\n",
    "$$\n",
    "\n",
    "Notice we now have an algorithm for decomposing a polynomial into groups of products of irreducible polyomials of the same degree."
   ]
  },
  {
   "cell_type": "raw",
   "metadata": {},
   "source": [
    "def DISTINCT_DEGREE_FACTORIZATION:\n",
    "    Input   a in ZZ_p[x] such that d = deg a > 0, a is monic, primitive, and a square-free.\n",
    "    Ouput   g_1, g_2, ..., g_m such that a = g_1 * g_2 * ... * g_m and \n",
    "            g_i = Product of irreducible polynomials of degree i\n",
    "\n",
    "    w <- x\n",
    "\n",
    "    for k from 1 to degree(a) do\n",
    "        w    <- Rem(w^p, a)\n",
    "        g[k] <- Gcd(w-x, a)\n",
    "        f    <- Quo(a, g[k])\n",
    "    end do\n",
    "\n",
    "    if f <> 1 then\n",
    "        g[k] <- a\n",
    "    end if\n",
    "\n",
    "    return [g_1, ... , g_d]"
   ]
  },
  {
   "cell_type": "code",
   "execution_count": 51,
   "metadata": {},
   "outputs": [
    {
     "name": "stdout",
     "output_type": "stream",
     "text": [
      "Will factor this polynomial (mod 17): 7⋅x^5 + 9⋅x^4 + 11⋅x^2 + 9⋅x^1 + 1⋅x^0\n",
      "Starting with dd_factor\n"
     ]
    },
    {
     "data": {
      "text/plain": [
       "5-element Vector{Polynomial}:\n",
       " 16⋅x^1 + 9⋅x^0\n",
       " 10⋅x^4 + 13⋅x^3 + 15⋅x^2 + 5⋅x^1 + 2⋅x^0\n",
       " 1⋅x^0\n",
       " 1⋅x^0\n",
       " 1⋅x^0"
      ]
     },
     "execution_count": 51,
     "metadata": {},
     "output_type": "execute_result"
    }
   ],
   "source": [
    "#Taken from example_script.jl:\n",
    "\n",
    "prime = 17\n",
    "p = mod((7x^3 + 2x^2 + 8x + 1)*(x^2+x+1),prime)\n",
    "println(\"Will factor this polynomial (mod $prime): \", p)\n",
    "println(\"Starting with dd_factor\")\n",
    "dds = dd_factor(p,prime)"
   ]
  },
  {
   "cell_type": "markdown",
   "metadata": {},
   "source": [
    "### Distinct Degree Splitting (Idea 2)\n",
    "\n",
    "Consider that we know how to factor *differences of squares* like $x^2 - 1 = (x+1)(x-1)$.  In our case we have\n",
    "$$\n",
    "x^p - x = x(x^{p-1}-1) = x\\left(x^\\frac{p-1}{2}-1\\right)\\left(x^\\frac{p-1}{2}+1\\right).\n",
    "$$\n",
    "and also\n",
    "$$\n",
    "(x-0)(x-1)\\cdots(x-p+1) = x\\left(x^\\frac{p-1}{2}-1\\right)\\left(x^\\frac{p-1}{2}+1\\right)\n",
    "$$\n",
    "so\n",
    "$$\\left(x^\\frac{p-1}{2}-1\\right)$$\n",
    "must be a product of *half* the roots.\n",
    "\n",
    "Thereby,\n",
    "$$\n",
    "\\gcd(g, x^\\frac{p-1}{2}-1 ) \\in \\left\\{1, g, \\mbox{ proper divisor of g} \\right\\}.\n",
    "$$\n",
    "\n",
    "Notice the effect of shifting $x$ by $\\alpha \\in \\ZZ_p$:\n",
    "$$\n",
    "(x+\\alpha)^\\frac{p-1}{2}-1 = (x-\\sigma_0) \\cdots (x-\\sigma_k)\n",
    "$$\n",
    "for $\\sigma$ a permutation on $\\ZZ_p$ and $k = \\frac{p-1}2$.  In particular, we have merely pushed\n",
    "the roots around.\n",
    "\n",
    "Similarily,\n",
    "$$\n",
    "x^{p^k}-x = x(x^\\frac{p^k-1}2 - 1)(x^\\frac{p^k-1}2 + 1)\n",
    "$$\n",
    "is the product of *all* monic polynomials of degree $k$.  Thereby\n",
    "$$\n",
    "(x^\\frac{p^k-1}2 - 1)\n",
    "$$\n",
    "is a product of *half* the monic polynomials of degree $k$.\n",
    "\n",
    "##### Theorem\n",
    "Suppose $g_k \\in \\ZZ_p[x]$ is the product of monic polynomials of degree $k$.   Let $w$ be a *random* monic polynomial of degree $k$.  Then\n",
    "$$\n",
    "\\mbox{Prob}\\left[\\gcd(g_k, w^\\frac{p^k-1}2 - 1) \\not\\in \\left\\{1, g_k \\right\\}\\right] > \\frac12 - \\frac 1 {2p^2} \\geq \\frac49.\n",
    "$$\n",
    "\n",
    "Notice this means we have an algorithm for splitting the groups returned by the distinct degree factorization."
   ]
  },
  {
   "cell_type": "raw",
   "metadata": {},
   "source": [
    "def DISTINCT_DEGREE_SPLIT: \n",
    "    Input   a in ZZ_p[x] monic and d in ZZ such that a = g_1 * g_2 * ... * g_m, \n",
    "            g_k in \\ZZ_p[x] irreducible, and deg g_k = d\n",
    "    Ouput   [g_1, g_2, ..., g_m]\n",
    "\n",
    "    if degree(a) = d then\n",
    "        return [a]\n",
    "    end if\n",
    "\n",
    "    if degree(a) = 0 then\n",
    "        return []\n",
    "    end if\n",
    "    \n",
    "    w <- rand_monic_poly(d, p)               # Monte Carlo step\n",
    "    \n",
    "    g    <- Gcd(w^((p^d-1)/2)-1, f)          # Project:  Optimize this.\n",
    "    gbar <- Quo(f, g, x)\n",
    "\n",
    "    DDS = DISTINCT_DEGREE_SPLIT\n",
    "    return DDS(g, d) + DDS(gbar, d)          # + is list concatenation"
   ]
  },
  {
   "cell_type": "code",
   "execution_count": 52,
   "metadata": {},
   "outputs": [
    {
     "data": {
      "text/plain": [
       "5-element Vector{Polynomial}:\n",
       " 16⋅x^1 + 9⋅x^0\n",
       " 10⋅x^4 + 13⋅x^3 + 15⋅x^2 + 5⋅x^1 + 2⋅x^0\n",
       " 1⋅x^0\n",
       " 1⋅x^0\n",
       " 1⋅x^0"
      ]
     },
     "execution_count": 52,
     "metadata": {},
     "output_type": "execute_result"
    }
   ],
   "source": [
    "dds"
   ]
  },
  {
   "cell_type": "code",
   "execution_count": 53,
   "metadata": {},
   "outputs": [
    {
     "data": {
      "text/plain": [
       "2-element Vector{Polynomial}:\n",
       " 1⋅x^2 + 2⋅x^1 + 7⋅x^0\n",
       " 11⋅x^2 + 11⋅x^1 + 11⋅x^0"
      ]
     },
     "execution_count": 53,
     "metadata": {},
     "output_type": "execute_result"
    }
   ],
   "source": [
    "dd_split(dds[2],2,prime)"
   ]
  },
  {
   "cell_type": "markdown",
   "metadata": {},
   "source": [
    "### Factoring in $\\ZZ_p[x]$\n",
    "\n",
    "All that remains is to use utilize the previous two algorithms to factor an arbitrary polynomial from $\\ZZ_p[x]$."
   ]
  },
  {
   "cell_type": "raw",
   "metadata": {},
   "source": [
    "# Cantor Zassenhaus Factorization #\n",
    "let DDF = DISTINCT_DEGREE_FACTORIZATION\n",
    "let DDS = DISTINCT_DEGREE_SPLIT\n",
    "\n",
    "def FACTOR():   \n",
    "    Input   a in ZZ_p[x]\n",
    "    Ouput   [[g1, d1], [g2, d2], ..., [gm, dm]] such that gk, irreducible, and\n",
    "            a == g1^d1 * g2^d2 * ... * gm^dm (mod p)\n",
    "       \n",
    "    f <- a\n",
    "    \n",
    "    f <- Quo(f, content(f))        # make f primitive;\n",
    "    f <- Quo(f, lc(f), x)          # make f monic\n",
    "    f <- Quo(f, Gcd(f, f'))        # make f square-free\n",
    "    \n",
    "    [d1,...,dk] <- DDF(f)\n",
    "    [g1,...,gm] <- DDS(d1, 1) + ... + DDS(dk, k)   # + is list concatenation\n",
    "    [e1,...,em] <- [max(k in ZZ : e1^k | a),..., max(k in ZZ : em^k | a)]\n",
    "   \n",
    "    return [[lc(a),1], [g1, e1], ..., [gm, em]]"
   ]
  },
  {
   "cell_type": "code",
   "execution_count": 9,
   "metadata": {},
   "outputs": [
    {
     "name": "stdout",
     "output_type": "stream",
     "text": [
      "Will factor this polynomial (mod 17): 7⋅x^5 + 9⋅x^4 + 11⋅x^2 + 9⋅x^1 + 1⋅x^0\n",
      "Here is the factorization: Tuple{Polynomial, Int64}[(1⋅x^1 + 8⋅x^0, 1), (1⋅x^2 + 1⋅x^1 + 1⋅x^0, 1), (1⋅x^2 + 2⋅x^1 + 7⋅x^0, 1), (7⋅x^0, 1)]\n",
      "Reconstructing: 7⋅x^5 + 9⋅x^4 + 11⋅x^2 + 9⋅x^1 + 1⋅x^0\n"
     ]
    }
   ],
   "source": [
    "#Taken from example_script.jl\n",
    "\n",
    "prime = 17\n",
    "p = mod((7x^3 + 2x^2 + 8x + 1)*(x^2+x+1),prime)\n",
    "println(\"Will factor this polynomial (mod $prime): \", p)\n",
    "factorization = factor(p,prime)\n",
    "println(\"Here is the factorization: \", factorization)\n",
    "\n",
    "pr = mod(expand_factorization(factorization),prime)\n",
    "println(\"Reconstructing: \", pr)\n"
   ]
  },
  {
   "cell_type": "markdown",
   "metadata": {},
   "source": [
    "## Optimizations\n",
    "\n",
    "For your project you are tasked with two optimizations.\n",
    "\n",
    "### PowMod\n",
    "\n",
    "**Question:** How do we compute $\\gcd(a,x^{p^k}-x)$ when $k$ large?\n",
    "\n",
    "*Answer:* Use binary powering with remainder.\n",
    "\n",
    "Consider that there is a **foolish** way of calculating $8^{17^3} \\mod 17 \\ldots$\n",
    "$$\n",
    "8^{17^3} = 11417981541647679048466287755595961091061972992 \\mod 17 = 9 \\mod 17\n",
    "$$\n",
    "Here we are doing $8^{17^3}$ in $\\ZZ$ (not in $\\ZZ_p$).  *The first optimization is to fix this* by doing:\n",
    "$$\n",
    "(\\cdots((8 \\cdot 8 \\mod 17) \\cdot 8 \\mod 17) \\cdot \\cdots \\cdot 8 \\mod 17)\n",
    "$$\n",
    "instead.\n",
    "\n",
    "Second, we want to *many* less multiplications than $17^3$ many.  We can accomplish this via **repeated squaring** (also called binary powering).  Suppose we want to do $w^{103} \\mod m$.  First notice\n",
    "$$\n",
    "103 = 64 + 32 + 4 + 2 + 1 = (1100111)\n",
    "$$\n",
    "where $(x)_2$ is the binary representaiton of $x$.  Thereby\n",
    "$$\n",
    "w^{103} \\mod p = (w^{64}) \\cdot (w^{32}) \\cdot (w^4) \\cdot (w^2) \\cdot w^1 \\mod m\n",
    "$$\n",
    "So we just need to calculate\n",
    "$$\n",
    "\\begin{align*}\n",
    "&& s &\\gets w \\\\\n",
    "w^2 \\mod a && s &\\gets s^2 \\mod a \\\\\n",
    "w^4 \\mod a && s &\\gets s^2 \\mod a \\\\\n",
    "w^8 \\mod a && s &\\gets s^2 \\mod a \\\\\n",
    "w^{16} \\mod a && s &\\gets s^2 \\mod a \\\\\n",
    "w^{32} \\mod a && s &\\gets s^2 \\mod a \\\\\n",
    "w^{64} \\mod a && s &\\gets s^2 \\mod a \n",
    "\\end{align*}\n",
    "$$\n",
    "So, instead of doing $103$ multiplications we are doing less than $2 \\cdot 5 = 10$ mutiplications (5 to get the squares, then worst case multiply those 5 squares together).\n",
    "\n",
    "Returning to $8^{17^3}$ we have \n",
    "$$17^3 = (1001100110001)_2 = 2^{12} + 2^9 + 2^8 + 2^5 + 2^4 + 2^0$$ \n",
    "So here we do 12 multiplications (to get the powers of two by squaring) and then 5 more to get\n",
    "$$\n",
    "8^{2^{12}} \\cdot 8^{2^9}  \\cdot 8^{2^8}  \\cdot 8^{2^5}  \\cdot 8^{2^4} \\cdot 8^{2^0}.\n",
    "$$\n",
    "\n",
    "For comparison, the naive method requires $17^3 = 4913$ multiplications.\n",
    "\n",
    "#### Task\n",
    "Implement a `PowMod(x, m, p)` which computes $x^m \\mod p$ using repeated squaring in $\\ZZ_p$."
   ]
  },
  {
   "cell_type": "raw",
   "metadata": {},
   "source": [
    "def POWMOD:\n",
    "    Input   x in ZZ, m in ZZ such that m >= 0, p a prime.\n",
    "    Ouput   x^m mod p\n",
    "    \n",
    "    let m = b0*2^0 + b1*2^1 + ... + bk*2^k with bi in {0, 1}  # i.e. determine the binary representation of m\n",
    "    \n",
    "    ans, w = 1, x\n",
    "    \n",
    "    for i from 0 to k do\n",
    "        if bi == 1 then\n",
    "            ans *= w\n",
    "        w *= w\n",
    "    \n",
    "    return ans"
   ]
  },
  {
   "cell_type": "markdown",
   "metadata": {},
   "source": [
    "### Multiplication by Chinese Remainder Theorem\n",
    "\n",
    "Let $a = a_nx^n + a_{n-1}x^{n-1} + \\cdots + a_1 x + a_0$.  Define the **height** of a polynomial by\n",
    "$$\n",
    "||a||_{\\infty} := \\max{|a_0|, \\ldots, |a_n|}.\n",
    "$$\n",
    "So, for instance $||2x^2-5||_{\\infty} = 5$.\n",
    "\n",
    "Further let \n",
    "$$\\# a := \\mbox{number of nonzero terms of }a.$$  \n",
    "So, for instance $\\# 2x^2-5 = 2 \\leq \\deg(2x^2-5) + 1$.\n",
    "\n",
    "Consider that, if we intend to use CRT to cacluate the product $c = a \\cdot b$ of $a,b \\in \\ZZ_p[x]$ we need $M = p_1,\\ldots,p_\\ell$ satisfying\n",
    "$$\n",
    "M = p_1 \\cdot \\cdots \\cdot p_\\ell > 2 \\cdot ||c||_\\infty.\n",
    "$$\n",
    "\n",
    "It is *twice* $||c||_\\infty$ to account for negative ceofficients.  For instance, $3x^2 - 3x +1$ requires coefficients in $\\{ -3,-2,-1,0,1,2,3\\}$ which is $\\ZZ_7$ and not $\\ZZ_5$.\n",
    "\n",
    "##### Proposition\n",
    "Let $a,b \\in \\ZZ[x]$.\n",
    "$$\n",
    "||c||_{\\infty} \\leq ||a||_{\\infty} \\cdot ||b||_{\\infty} \\cdot \\min(\\# a,\\, \\# b)\n",
    "$$\n",
    "\n",
    "*Proof* (Sketch)\n",
    "Do a worst case analysis where you mutiply $a = \\alpha x^n + \\alpha x^{n-1} + \\cdots + \\alpha$ by  $b = \\beta x^n + \\beta x^{n-1} + \\cdots + \\beta$ and see what the largest coefficient will end up being."
   ]
  },
  {
   "cell_type": "markdown",
   "metadata": {},
   "source": [
    "##### Example \n",
    "Let\n",
    "\\begin{align*}\n",
    "a = 3x - 4, && b = 6x+5, && c = 18x^2-9x-20\n",
    "\\end{align*}\n",
    "and notice $ab = c$.\n",
    "\n",
    "$$||c||_\\infty \\leq 4 \\cdot 6 \\cdot \\min(2,2) = 48$$\n",
    "\n",
    "$$\n",
    "\\begin{align*}\n",
    "& && a_i && b_i && c_i \\\\[1em]\n",
    "\\hline\n",
    "p_1 &= 5 && 3x + 1 && 1x + 0 && 3x^2 + 1x + 0 \\\\[1.5em]\n",
    "\\hline\n",
    "p_2 &= 7 && 3x + 3 && 6x + 5 && 4x^2 + 5x + 1 \\\\[1.5em]\n",
    "\\hline\n",
    "p_3 &= 3 && 0x + 2 && 0x + 2 && 0x^2 + 0x + 1 \\\\[1.5em]\n",
    "\\hline\n",
    "\\end{align*}\n",
    "$$"
   ]
  },
  {
   "cell_type": "markdown",
   "metadata": {},
   "source": [
    "Suppose you have defined a function:\n",
    "\n",
    "    CRT([u1, u2, ..., um], [p1, p2, ..., pm]) = u  such that u == uk mod pk"
   ]
  },
  {
   "cell_type": "raw",
   "metadata": {},
   "source": [
    "CRT([3,4,0], [5,7,3]) = 18 mod 3*5*7\n",
    "CRT([1,5,0], [5,7,3]) = 96 mod 3*5*7\n",
    "CRT([0,1,1], [5,7,3]) = 85 mod 3*5*7"
   ]
  },
  {
   "cell_type": "markdown",
   "metadata": {},
   "source": [
    "Let the **symmetric mod** be given by\n",
    "\n",
    "    smod(a, m) = (a mod m) if (a mod m) <= m//2 else (a mod m) - m\n",
    "\n",
    "For instance, \n",
    "\n",
    "    smod(0, 7) = 0\n",
    "    smod(1, 7) = 1\n",
    "    smod(2, 7) = 2\n",
    "    smod(3, 7) = 3\n",
    "    smod(4, 7) = -3\n",
    "    smod(5, 7) = -2\n",
    "    smod(6, 7) = -1"
   ]
  },
  {
   "cell_type": "raw",
   "metadata": {},
   "source": [
    "CRT([3,4,0], [5,7,3]) = 18 mod 3*5*7\n",
    "CRT([1,5,0], [5,7,3]) = 96 mod 3*5*7 = -9 smod 3*5*7 \n",
    "CRT([0,1,1], [5,7,3]) = 85 mod 3*5*7 = -20 smod 3*5*7 "
   ]
  },
  {
   "cell_type": "raw",
   "metadata": {},
   "source": [
    "# Chinese Remainder Theorem on two polynomials\n",
    "def CRT:\n",
    "    Input   [a,b] and [n,m] \n",
    "                such that a = in \\ZZ_n[x], b in \\ZZ_m[x], and gcd(n,m)=1.\n",
    "    Ouput   c \\in \\ZZ_{nm}[x] \n",
    "                such that c = a (mod n) and c = b (mod m).\n",
    "    \n",
    "    c <- 0                             # the 0 polynomial\n",
    "    for k from max(deg a, deg b) to 0 by -1 do\n",
    "        ak <- 0 if k > deg a else ak   # = coefficient on x^k in a\n",
    "        bk <- 0 if k > deg b else bk   # = coefficient on x^k in b\n",
    "        ck <- iCRT([ak, bk], [n, m])    # integer chinese remainder\n",
    "        c  <- c + ck * x^k\n",
    "    \n",
    "    return c"
   ]
  },
  {
   "cell_type": "raw",
   "metadata": {},
   "source": [
    "def MULTIPLICATION: \n",
    "    Input   a = an x^n + ... a1 x + a0, b = bm x^m + ... b1 x + b0 in ZZ[x]\n",
    "    Ouput   a * b in ZZ[x]\n",
    "    \n",
    "    height_a <- max(|an|, ..., |a1|, |a0|)\n",
    "    height_b <- max(|bm|, ..., |b1|, |b0|)\n",
    "    \n",
    "    B <- 2 * height_a * height_b * min(n+1, m+1)\n",
    "    p <- 3\n",
    "    M <- p\n",
    "    c <- (a*b) mod M          # multiplication in ZZ_3[x]\n",
    "    \n",
    "    while M < B do\n",
    "       p  <- NextPrime(p)     # the first prime > p\n",
    "       c' <- a*b mod p        # multiplication in ZZ_p[x]\n",
    "       c  <- CRT([c, c'], [M, p])\n",
    "       M  <- M*p\n",
    "         \n",
    "    return c smod M           # restore negative coefficients with symemetric mod"
   ]
  },
  {
   "cell_type": "raw",
   "metadata": {},
   "source": [
    "END"
   ]
  }
 ],
 "metadata": {
  "kernelspec": {
   "display_name": "Julia 1.6.0",
   "language": "julia",
   "name": "julia-1.6"
  },
  "language_info": {
   "file_extension": ".jl",
   "mimetype": "application/julia",
   "name": "julia",
   "version": "1.6.0"
  }
 },
 "nbformat": 4,
 "nbformat_minor": 5
}
