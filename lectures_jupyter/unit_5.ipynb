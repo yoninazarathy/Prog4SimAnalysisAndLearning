{
 "cells": [
  {
   "cell_type": "markdown",
   "id": "feef46da",
   "metadata": {},
   "source": [
    "# Unit 5: Computer Algebra Systems and Symbolic Computation\n",
    "\n",
    "*The following presentation is mostly taken from the notes of Dr Michael Monagan of Simon Fraser University for the course _Introduction to Computer Algebra_.  The typesetting author (Paul Vrbik) has made some additions which are probably the source of any errors.  The Julia code was provided by Dr Yoni Nazarathy.*"
   ]
  },
  {
   "cell_type": "markdown",
   "id": "aa57366d",
   "metadata": {},
   "source": [
    "$\\newcommand{\\RR}{\\mathcal{R}}$\n",
    "$\\newcommand{\\FF}{\\mathbb{F}}$\n",
    "$\\newcommand{\\QQ}{\\mathbb{Q}}$\n",
    "$\\newcommand{\\ZZ}{\\mathbb{Z}}$\n",
    "$\\newcommand{\\NN}{\\mathbb{N}}$\n",
    "$\\newcommand{\\PP}{\\mathbb{P}}$\n",
    "$\\renewcommand{\\cong}{\\equiv}$\n",
    "$\\renewcommand{\\mod}{\\bmod}$\n",
    "$\\renewcommand{\\mod}{\\bmod}$\n",
    "\n",
    "$\\DeclareMathOperator{\\content}{cont}$\n",
    "$\\DeclareMathOperator{\\primpart}{primpart}$\n",
    "$\\DeclareMathOperator{\\deg}{deg}$\n",
    "$\\DeclareMathOperator{\\lc}{lc}$\n",
    "$\\DeclareMathOperator{\\lt}{lt}$\n",
    "$\\DeclareMathOperator{\\lm}{lm}$"
   ]
  },
  {
   "cell_type": "markdown",
   "id": "bb0ab25b",
   "metadata": {},
   "source": [
    "See [slides](https://courses.smp.uq.edu.au/MATH2504/2022/slides/L07.pdf) of first lecture."
   ]
  },
  {
   "cell_type": "markdown",
   "id": "a0b59b86",
   "metadata": {},
   "source": [
    "Note that we use the [GitHub repo](https://github.com/yoninazarathy/2504_2021_project1) for the base [project](https://courses.smp.uq.edu.au/MATH2504/assessment_html/project1.html)."
   ]
  },
  {
   "cell_type": "code",
   "execution_count": null,
   "id": "5de1e7c4",
   "metadata": {},
   "outputs": [],
   "source": [
    "using Pkg;\n",
    "# To be able to run this, have the project repository \"next to\" the course materials repository\n",
    "cd(\"../../2504_2022_project1-main\");"
   ]
  },
  {
   "cell_type": "code",
   "execution_count": null,
   "id": "65423a5e",
   "metadata": {},
   "outputs": [],
   "source": [
    "# You only need to do this once\n",
    "#Pkg.resolve()\n",
    "Pkg.instantiate();"
   ]
  },
  {
   "cell_type": "code",
   "execution_count": null,
   "id": "f0e37243",
   "metadata": {},
   "outputs": [],
   "source": [
    "Pkg.activate(\".\");"
   ]
  },
  {
   "cell_type": "code",
   "execution_count": null,
   "id": "f3c65ec2",
   "metadata": {},
   "outputs": [],
   "source": [
    "include(\"poly_factorization_project.jl\");"
   ]
  },
  {
   "cell_type": "code",
   "execution_count": null,
   "id": "7e630ca7",
   "metadata": {},
   "outputs": [],
   "source": [
    "x = x_poly()"
   ]
  },
  {
   "cell_type": "code",
   "execution_count": null,
   "id": "47faa448",
   "metadata": {},
   "outputs": [],
   "source": [
    "z = zero(Polynomial)"
   ]
  },
  {
   "cell_type": "markdown",
   "id": "8213097a",
   "metadata": {},
   "source": [
    "## Symbolic Computation\n",
    "\n",
    "To compute *exactly* means no error is introduced during arithmetic --- something *not* true when working with floats.  In a computer algebra system $\\sqrt{2} = \\sqrt{2}$ and not $\\sqrt{2} = 1.41\\ldots$ as one may expect.\n",
    "\n",
    "Our interest is performing *exact* arithmetic in rings with efficient algorithms.  In particular we are interested in the: *ring of integers* \n",
    "$$\\ZZ = \\{0, -1, 1, 2, -2, 3, -3, \\ldots \\}$$\n",
    "and *polynomials* \n",
    "$$\\RR[x] = \\left\\{ \\sum_{k=0}^{N} a_kx^k \\, : \\, k \\in \\NN,\\, a_k \\in \\RR \\right\\}.$$"
   ]
  },
  {
   "cell_type": "markdown",
   "id": "9b13545a",
   "metadata": {},
   "source": [
    "## Preliminaries\n",
    "\n",
    "It is first necessary to establish terms and definitions.\n",
    "\n",
    "Let $\\NN = \\{0,1,2,\\ldots\\}$ be the set of *natural numbers*, $\\ZZ = \\{\\ldots,-2,-1,0,1,2,\\ldots\\}$ be the *integers* and $\\PP$ be the set of odd primes.\n",
    "\n",
    "##### Definition (Ring)\n",
    "\n",
    "A ring $\\RR$ is a set with addition $(+)$ andmultiplicationn $(\\cdot)$ satisfying the following conditions called the *ring axioms*:\n",
    "\n",
    "- $(\\RR,+)$ is an abelian group, that is:\n",
    "    - $(+)$ is associative *and* commutative,\n",
    "    - $\\exists b \\in \\RR$ called the *additive identity* satisfying $\\forall a \\in \\RR \\; a + b = a$,\n",
    "    - $\\forall a \\in \\RR\\; \\exists b \\in \\RR$ called the *additive inverse* satisfying $a + b = 0$.\n",
    "-  $(\\RR,\\cdot)$ is a monoid, that is:\n",
    "    -  $(\\cdot)$ is associative, and\n",
    "    -  $\\exists b \\in \\RR$ called the *multiplicative identity* satisfying $\\forall a \\in \\RR; \\; a \\cdot b = b \\cdot a = a$\n",
    "-  Multiplication *distributes* over addition.  That is, $\\forall a,b,c \\in \\RR$:\n",
    "    - $a \\cdot (b+c) = (a \\cdot b) + (a \\cdot c)$\n",
    "    - $(b+c) \\cdot a = (b \\cdot a) + (c \\cdot a)$\n",
    "    \n",
    "#### Example\n",
    "1.  The $\\RR = \\{ 0 \\}$ (the *zero ring*) is a trivial ring.\n",
    "1.  The naturals $\\NN$ do *not* form a ring as they lack additive idenity.\n",
    "1.  Arithmetic on the clock forms a ring.\n",
    "\n",
    "##### Definition (Zero Divisor)\n",
    "An element $a \\in \\RR$ is called a *zero divisor* if there is nonzero $b \\in \\RR$ such that $ab = 0$.\n",
    "\n",
    "##### Definition (Integral Domain)\n",
    "An integral domain is a nonzero commutative ring without zero divisors.\n",
    "\n",
    "#### Examples\n",
    "1.  The integers $\\ZZ$ form an integral domain.\n",
    "1.  'Clock arithmetic' does not form an integral domain because, for instance, $3 \\cdot 4$ is 12 which is the zero.\n",
    "\n",
    "##### Definition (Field)\n",
    "A ring $\\RR$ is also a *field* when each non-zero element has a *multiplicative inverse*.  Equivalently, $\\RR$ is a ring when\n",
    "$$\n",
    "\\forall a \\in \\RR^{\\neq 0};\\; \\exists b \\in \\RR \\; : \\; a \\cdot b.\n",
    "$$\n",
    "\n",
    "#### Example\n",
    "For instance, the *rationals* $$\\QQ = \\left\\{ \\frac{a}{b} \\,:\\, a,b \\in \\ZZ, \\, b \\neq 0 \\right\\}$$\n",
    "is a field because $\\frac a b \\cdot \\frac b a = 1$ when $a,b \\neq 0$.\n",
    "\n",
    "##### Theorem (Division Algorithm)\n",
    "Let $a,b \\in \\ZZ$ with $b > 0$.  There is *unique* $q$ and $r$ (called the *quotient* and *remainder*) satisfying\n",
    "$$a = b \\cdot q + r$$\n",
    "with $r < |q|$."
   ]
  },
  {
   "cell_type": "code",
   "execution_count": null,
   "id": "f576fe5c",
   "metadata": {},
   "outputs": [],
   "source": [
    "# An example\n",
    "a, b = 23, 7"
   ]
  },
  {
   "cell_type": "code",
   "execution_count": null,
   "id": "ae34623b",
   "metadata": {},
   "outputs": [],
   "source": [
    "q = a ÷ b # \\div + [TAB]"
   ]
  },
  {
   "cell_type": "code",
   "execution_count": null,
   "id": "166ce809",
   "metadata": {},
   "outputs": [],
   "source": [
    "r = a % b"
   ]
  },
  {
   "cell_type": "code",
   "execution_count": null,
   "id": "8351c1a6",
   "metadata": {},
   "outputs": [],
   "source": [
    "a == b * q + r"
   ]
  },
  {
   "cell_type": "code",
   "execution_count": null,
   "id": "97040db9",
   "metadata": {},
   "outputs": [],
   "source": [
    "# Recall: abstract type «name» <: «supertype» end\n",
    "function remainder(a::T, b::T) where T <: Integer \n",
    "    #Note that later we'll extend this to integral domains\n",
    "    \n",
    "    #short circuit evaluation gives cheeky if statements\n",
    "    a < 0 && return remainder(-a, b) #later replace `0` with `zero(T)`\n",
    "    a < b && return a\n",
    "    return remainder(a-b, b)\n",
    "end"
   ]
  },
  {
   "cell_type": "code",
   "execution_count": null,
   "id": "e0091b5f",
   "metadata": {},
   "outputs": [],
   "source": [
    "#note there is an in-built `rem`\n",
    "remainder(23, 7), rem(23, 7), 23 % 7, 23 - (23 ÷ 7)*7"
   ]
  },
  {
   "cell_type": "code",
   "execution_count": null,
   "id": "fa857a44",
   "metadata": {},
   "outputs": [],
   "source": [
    "remainder(15, 5), remainder(4, 101), remainder(125, 4)"
   ]
  },
  {
   "cell_type": "code",
   "execution_count": null,
   "id": "654adfd3",
   "metadata": {},
   "outputs": [],
   "source": [
    "function quo(a::T, b::T) where T <: Integer\n",
    "    a < 0 && return -quo(-a,b)\n",
    "    a < b && return 0\n",
    "    return 1 + quo(a-b, b)\n",
    "end"
   ]
  },
  {
   "cell_type": "code",
   "execution_count": null,
   "id": "231e7480",
   "metadata": {},
   "outputs": [],
   "source": [
    "quo(15, 5), quo(4, 101), quo(125, 4)"
   ]
  },
  {
   "cell_type": "code",
   "execution_count": null,
   "id": "dcec9f29",
   "metadata": {},
   "outputs": [],
   "source": [
    "for (a,b) in [(15, 5), (4, 101), (125,4 )]\n",
    "    q, r = quo(a, b), rem(a, b)\n",
    "    println(\"$a = $q⋅$b + $r\")\n",
    "end"
   ]
  },
  {
   "cell_type": "markdown",
   "id": "bf2b70f3",
   "metadata": {},
   "source": [
    "Of course, in Julia we have `%` and `÷` for remainder and  and quotient.\n",
    "\n",
    "(Note that in Python `//` is the quotient whereas in Julia `//` defines a rational type)."
   ]
  },
  {
   "cell_type": "code",
   "execution_count": null,
   "id": "ad46fe9c",
   "metadata": {},
   "outputs": [],
   "source": [
    "23 // 7, float(23//7)  #The first // is a rational type #!!! Note in Python // is ÷"
   ]
  },
  {
   "cell_type": "markdown",
   "id": "2b0cdf37",
   "metadata": {},
   "source": [
    "Incidentally, another way to express the quotient/remainder relation is by way of \"proper\" fractions.\n",
    "$$\n",
    "23 = 3\\cdot 7 + 2 \\iff \\frac {23} 7 = 3 + \\frac {2} {7}\n",
    "$$"
   ]
  },
  {
   "cell_type": "code",
   "execution_count": null,
   "id": "754788e7",
   "metadata": {},
   "outputs": [],
   "source": [
    "(23 ÷ 7), (23 % 7) // 7"
   ]
  },
  {
   "cell_type": "code",
   "execution_count": null,
   "id": "ed49da9a",
   "metadata": {},
   "outputs": [],
   "source": [
    "23 // 7 == (23 ÷ 7) + (23 % 7) // 7"
   ]
  },
  {
   "cell_type": "markdown",
   "id": "5daf749c",
   "metadata": {},
   "source": [
    "---\n",
    "## Elementary Number Theory\n",
    "\n",
    "The sets $\\ZZ_n = \\{0,1,\\ldots,n-1\\}$ for $n \\in \\NN$ are rings called *residue classes* when addition and multiplication are done 'mod n'.  This is sometimes called 'clock arithmetic' as three hours past eleven is two because $11 + 3 \\cong 2 \\mod 12$. \n",
    "\n",
    "We say/write \n",
    "$$a \\cong b \\mod c$$ \n",
    "when *$a$ is congruent to $b$ modulo $c$*.  Also:\n",
    "$$a \\cong b \\mod c \\iff \\mathop{\\textrm{rem}}(a,c) = b \\iff \\texttt{a % c = b}.$$"
   ]
  },
  {
   "cell_type": "markdown",
   "id": "1006fc2a",
   "metadata": {},
   "source": [
    "We have already seen something similar with overflow. In particular, working in an 8-bit register is essentially doing arithmetic modulo $2^8$."
   ]
  },
  {
   "cell_type": "code",
   "execution_count": null,
   "id": "bd351e80",
   "metadata": {},
   "outputs": [],
   "source": [
    "UInt8(2^8-3) + UInt8(4)"
   ]
  },
  {
   "cell_type": "code",
   "execution_count": null,
   "id": "2297f325",
   "metadata": {},
   "outputs": [],
   "source": [
    "(2^8-3 + 4) % 2^8"
   ]
  },
  {
   "cell_type": "markdown",
   "id": "29acdfce",
   "metadata": {},
   "source": [
    "### Symmetric Mod\n",
    "\n",
    "We may also use negatives values, here \n",
    "$\\ZZ_n = \\{ -{\\rm quo}(n,2),\\, 0,\\,\\ldots,\\,{\\rm quo}(n,2)\\}$. For instance, $\\ZZ_7 = \\{-3,-2,-1,0,1,2,3\\}$ and\n",
    "$$\n",
    "5 \\cong -2 ~{\\rm smod}~ 7.\n",
    "$$\n",
    "We do not use this notation and simply move use `mod` as `smod` when we want as there is no effect on the theory and presentation."
   ]
  },
  {
   "cell_type": "markdown",
   "id": "255e3d75",
   "metadata": {},
   "source": [
    "---\n",
    "\n",
    "#### Example (Addition Table)\n",
    "$\\ZZ_6 = \\{0,\\ldots,5\\}$ has the following addition table"
   ]
  },
  {
   "cell_type": "code",
   "execution_count": null,
   "id": "e3199483",
   "metadata": {},
   "outputs": [],
   "source": [
    "n = 6\n",
    "Z_n = 0:(n-1)"
   ]
  },
  {
   "cell_type": "code",
   "execution_count": null,
   "id": "f121aff2",
   "metadata": {},
   "outputs": [],
   "source": [
    "typeof(Z_n)"
   ]
  },
  {
   "cell_type": "code",
   "execution_count": null,
   "id": "51c01293",
   "metadata": {},
   "outputs": [],
   "source": [
    "A = [(x+y) % n for y in Z_n, x in Z_n]"
   ]
  },
  {
   "cell_type": "markdown",
   "id": "f9718afb",
   "metadata": {},
   "source": [
    "Notice: \n",
    " 1.  the addition table is symmetric (equal to its transpose) which can only happen when the addition is commutative,\n",
    " 1.  the additive identity is $0$,\n",
    " 1.  each column (and row) has $0$ and thereby each element has an additive inverse: for instance, the third column indicates that $2$ has additive inverse $4$ and correspondingly $2 + 4 \\cong 0 \\mod 6$."
   ]
  },
  {
   "cell_type": "code",
   "execution_count": null,
   "id": "a7c07e97",
   "metadata": {},
   "outputs": [],
   "source": [
    "(A .== 0)"
   ]
  },
  {
   "cell_type": "code",
   "execution_count": null,
   "id": "94c696fe",
   "metadata": {},
   "outputs": [],
   "source": [
    "additive_inverses = [findfirst((A .== 0)[:,k+1])-1 for k in Z_n]\n",
    "println(additive_inverses)  # print horizontally instead of vertically"
   ]
  },
  {
   "cell_type": "markdown",
   "id": "a68b9644",
   "metadata": {},
   "source": [
    "#### Example (Multiplication Table)\n",
    "\n",
    "$\\ZZ_6$ has the following multiplication table"
   ]
  },
  {
   "cell_type": "code",
   "execution_count": null,
   "id": "110ed5b1",
   "metadata": {},
   "outputs": [],
   "source": [
    "M = [(x*y) % n for y in Z_n, x in Z_n]"
   ]
  },
  {
   "cell_type": "markdown",
   "id": "1b44ee31",
   "metadata": {},
   "source": [
    "Notice:\n",
    "1.  the multiplicative identity is $1$,\n",
    "1.  *not* all rows contain one, which means there are some elements that do *not* have *multiplicative inverse*.  For instance there is no $b \\in \\ZZ_6$ such that $2 \\cdot b \\cong 1 \\mod 6$."
   ]
  },
  {
   "cell_type": "code",
   "execution_count": null,
   "id": "e23e21f7",
   "metadata": {},
   "outputs": [],
   "source": [
    "println([(2*y) % n for y in Z_n])"
   ]
  },
  {
   "cell_type": "code",
   "execution_count": null,
   "id": "632cbfbc",
   "metadata": {},
   "outputs": [],
   "source": [
    "mult_inverses = Z_n[[sum((M .== 1)[:,k+1]) > 0 for k in Z_n]]\n",
    "println(\"Elements with a multiplicative inverse: \", mult_inverses )\n",
    "println(\"Elements withoout a multiplicative inverse: \", setdiff(Z_n,mult_inverses))"
   ]
  },
  {
   "cell_type": "markdown",
   "id": "2fda8e45",
   "metadata": {},
   "source": [
    "---\n",
    "\n",
    "Notice $\\ZZ_6$ is *not* a field because, recall, there is no multiplicative inverse for $2$.  However, $\\ZZ_p$ is a field when $p$ is a prime number.\n",
    "\n",
    "#### Example\n",
    "\n",
    "$\\ZZ_5 = \\{0,\\ldots,4\\}$ is a field and has the following multiplication table. "
   ]
  },
  {
   "cell_type": "code",
   "execution_count": null,
   "id": "829818b3",
   "metadata": {},
   "outputs": [],
   "source": [
    "n = 5\n",
    "Z_n = 0:(n-1)"
   ]
  },
  {
   "cell_type": "code",
   "execution_count": null,
   "id": "0dd727a5",
   "metadata": {},
   "outputs": [],
   "source": [
    "M = [(x*y) % n for y in Z_n, x in Z_n]"
   ]
  },
  {
   "cell_type": "code",
   "execution_count": null,
   "id": "d7b4382e",
   "metadata": {},
   "outputs": [],
   "source": [
    "mult_inverses = Z_n[[sum((M .== 1)[:,k+1]) > 0 for k in Z_n]]\n",
    "println(\"Elements with a multiplicative inverse: \", mult_inverses )\n",
    "println(\"Elements withoout a multiplicative inverse: \", setdiff(Z_n,mult_inverses))"
   ]
  },
  {
   "cell_type": "markdown",
   "id": "baad16c6",
   "metadata": {},
   "source": [
    "Notice every column (and row) contains $1$ asides the first column (and row) which corresponds to $0$.  For instance, the third column indicates the inverse of $3$ is $2$ and correspondingly $3 \\cdot 2 \\cong 1 \\mod 5$.\n",
    "\n",
    "---"
   ]
  },
  {
   "cell_type": "markdown",
   "id": "9ed1f11f",
   "metadata": {},
   "source": [
    "### Greatest Common Divisor\n",
    "\n",
    "The *greatest common divisor* is one of the fundamental operations of a computer algebra system.  For instance, we need `gcd` to reduce fractions to their canonical form.\n",
    "\n",
    "##### Def (GCD)\n",
    "\n",
    "Let $a,b \\in \\ZZ$ not both 0.  We say $g \\in \\ZZ$ is the *greatest common divisor* of $a$ and $b$, denoted $\\gcd(a,b)$, when\n",
    "1.  $g | a$ and $g | b$ ($g$ is a common divisor), \n",
    "1.  $h | a \\;\\wedge\\; h | b \\implies h | g$ (greatest),\n",
    "1.  $g > 0$ (required for uniqueness) \n",
    "\n",
    "#### Example (GCD)\n",
    "- The $\\gcd(6,4) = \\gcd(2\\cdot 3, 2 \\cdot 2) = 2$.\n",
    "- The $\\gcd(6,0) = \\gcd(1\\cdot6, 0\\cdot 6) = 6$.\n",
    "\n",
    "---"
   ]
  },
  {
   "cell_type": "code",
   "execution_count": null,
   "id": "9785da37",
   "metadata": {},
   "outputs": [],
   "source": [
    "#The is an in-built gcd() function for integers (and a few more types) \n",
    "#but we'll soon make our own\n",
    "using Random; Random.seed!(10)\n",
    "\n",
    "a_test = *(rand(1:100,5)...)  \n",
    "b_test = *(rand(1:100,5)...)\n",
    "@show a_test, b_test\n",
    "Base.gcd(a_test, b_test)"
   ]
  },
  {
   "cell_type": "markdown",
   "id": "1740a091",
   "metadata": {},
   "source": [
    "#### Euclid's Algorithm\n",
    "\n",
    "The **Euclidean Algorithm** computes the gcd of two integers.  (Actually the Euclidean Algorithm computers gcds for any two elements of a *Euclidean Domain*).  The algorithm exploits the following property of the gcd:\n",
    "\n",
    "##### Lemma\n",
    "Let $a,b\\in \\ZZ^{>0}$  and $a = b\\cdot q + r$ with $r \\in [0,b)$.  Then\n",
    "1.  $\\gcd(b, a) = \\gcd(a, b)$,\n",
    "1.  $\\gcd(a, b) = gcd(r, b)$,\n",
    "1.  $\\gcd(a, b) = \\gcd(a-b, b)$.\n",
    "\n",
    "It is straightforward to turn this lemma into an algorithm:"
   ]
  },
  {
   "cell_type": "code",
   "execution_count": null,
   "id": "c0492500",
   "metadata": {},
   "outputs": [],
   "source": [
    "function euclid_alg(a,b)\n",
    "    (b == 0) && return a\n",
    "    return euclid_alg(b, a % b)  # Rule 1 and 2\n",
    "end\n",
    "\n",
    "euclid_alg(2, 2*2), euclid_alg(3*7, 2*3), euclid_alg(2*2, 13)"
   ]
  },
  {
   "cell_type": "code",
   "execution_count": null,
   "id": "6d9f437b",
   "metadata": {},
   "outputs": [],
   "source": [
    "Base.gcd(a_test, b_test), euclid_alg(a_test,b_test)"
   ]
  },
  {
   "cell_type": "markdown",
   "id": "00079330",
   "metadata": {},
   "source": [
    "--- \n",
    "\n",
    "#### Extended Euclid's Algorithm\n",
    "\n",
    "The **Extended Euclidean Algorithm** in addition to the **gcd(a, b)**, also computes $s$ and $t$ (called the Bézout coefficients) such that\n",
    "$$as + bt = gcd(a,b).$$"
   ]
  },
  {
   "cell_type": "code",
   "execution_count": null,
   "id": "f7a8f611",
   "metadata": {},
   "outputs": [],
   "source": [
    "function i_ext_euclid_alg(a,b)\n",
    "    (a == 0) && return b, 0, 1\n",
    "    g, s, t = i_ext_euclid_alg(b % a, a)\n",
    "    return g, t - (b ÷ a)*s, s\n",
    "end\n",
    "\n",
    "pretty_print_egcd((a,b),(g,s,t)) = println(\"$a×$s + $b×$t = $g = gcd($a, $b)\") #\\times + [TAB]\n",
    "\n",
    "for (a,b) in [(4,12), (9,12), (4,13)]\n",
    "    pretty_print_egcd((a,b), i_ext_euclid_alg(a,b))\n",
    "end"
   ]
  },
  {
   "cell_type": "code",
   "execution_count": null,
   "id": "520226dc",
   "metadata": {},
   "outputs": [],
   "source": [
    "#Note there is an in-built gcdx - let's compare against that too\n",
    "Base.gcdx(a_test,b_test), i_ext_euclid_alg(a_test,b_test)"
   ]
  },
  {
   "cell_type": "code",
   "execution_count": null,
   "id": "dcab410b",
   "metadata": {},
   "outputs": [],
   "source": [
    "?gcdx"
   ]
  },
  {
   "cell_type": "markdown",
   "id": "813dd984",
   "metadata": {},
   "source": [
    "--- \n",
    "\n",
    "### Inversion in $\\ZZ_m$\n",
    "\n",
    "Notice the Extended Euclidean Algorithm computes inverses in $\\ZZ_m$.  Given $a \\in \\ZZ_m^{\\neq 0}$ the ${\\rm egcd}(a,m)$ returns $s$ and $t$ such that\n",
    "$$a \\cdot s + m \\cdot t = gcd(a,m).$$\n",
    "Taking the entire equation $\\mod m$ we get\n",
    "$$\n",
    "\\begin{align*}\n",
    "&\\gcd(a,m) \\cong a \\cdot s + m \\cdot t ~\\mod m  \\\\\n",
    "&\\implies \\gcd(a,m) \\cong a \\cdot s + 0 ~\\mod m  \\\\\n",
    "&\\implies \\gcd(a,m) \\cong a \\cdot s ~\\mod m.\n",
    "\\end{align*}$$\n",
    "Provided $\\gcd(a,m) = 1$ (i.e. \"coprime\" or \"relatively prime\") we get $a \\cdot s \\cong 1 \\mod m$ and thus $a^{-1} \\cong s \\mod m$.\n",
    "\n",
    "##### Example\n",
    "To find the inverse of $5 \\in \\ZZ_{13}$ do:"
   ]
  },
  {
   "cell_type": "code",
   "execution_count": null,
   "id": "d935577f",
   "metadata": {},
   "outputs": [],
   "source": [
    "a, m = 5, 13\n",
    "i_ext_euclid_alg(5, 13)"
   ]
  },
  {
   "cell_type": "code",
   "execution_count": null,
   "id": "3e3b7a2a",
   "metadata": {},
   "outputs": [],
   "source": [
    "inverse_mod(a,m) = mod(i_ext_euclid_alg(a,m)[2], m)"
   ]
  },
  {
   "cell_type": "code",
   "execution_count": null,
   "id": "43599d58",
   "metadata": {},
   "outputs": [],
   "source": [
    "i = inverse_mod(a,m)"
   ]
  },
  {
   "cell_type": "code",
   "execution_count": null,
   "id": "5926de17",
   "metadata": {},
   "outputs": [],
   "source": [
    "mod(a*i, m)"
   ]
  },
  {
   "cell_type": "markdown",
   "id": "32869cd1",
   "metadata": {},
   "source": [
    "---\n",
    "### Chinese Remaindering\n",
    "\n",
    "##### Problem Statement\n",
    "Two integers $a$ and $b$ are *relatively prime* when $\\gcd(a,b) = 1$.  Given a finite sequence of relatively prime integers $m_1,\\ldots,m_k$ called the *moduli* and corresponding integers $u_1,\\ldots,u_k$ called the *images*, find $u \\in \\ZZ$ such that\n",
    "\\begin{align*}\n",
    "u &\\cong u_1 \\mod m_1 \\\\\n",
    "u &\\cong u_2 \\mod m_2 \\\\\n",
    "&\\; \\vdots \\\\\n",
    "u &\\cong u_k \\mod m_k\n",
    "\\end{align*}\n",
    "\n",
    "#### Example\n",
    "For example, given the following information\n",
    "\\begin{align*}\n",
    "u &\\cong 4 \\mod 5 &\\implies&& (u_1,\\, m_1) &= (4,\\, 5)\\\\\n",
    "u &\\cong 5 \\mod 7 &\\implies&& (u_2,\\, m_2) &= (5,\\, 7)\n",
    "\\end{align*}\n",
    "we want to deduce $u = 19$ because"
   ]
  },
  {
   "cell_type": "code",
   "execution_count": null,
   "id": "5ae027f2",
   "metadata": {},
   "outputs": [],
   "source": [
    "(19 % 5, 19 % 7)"
   ]
  },
  {
   "cell_type": "markdown",
   "id": "d6230763",
   "metadata": {},
   "source": [
    "---\n",
    "##### Theorem (CRT)\n",
    "\n",
    "Let $M = m_1 \\cdot m_2 \\cdots \\cdot m_k$.  There exists a unique $u \\in \\ZZ$ on $\\{0,\\ldots,M-1\\}$ such that $u \\cong u_i \\mod m_i$ for $i = 1,\\ldots,k$."
   ]
  },
  {
   "cell_type": "markdown",
   "id": "a5419084",
   "metadata": {},
   "source": [
    "**Proof of Existence**:\n",
    "\n",
    "(This is a constructive proof which provides an algorithm for determining $u$).\n",
    "\n",
    "Let \n",
    "$$\n",
    "u = v_1 + v_2m_1 + v_3m_1m_2 + \\cdots + v_{k+1} m_1 m_2 \\cdots m_{k}\n",
    "$$\n",
    "and notice the vanishing terms after reducing $u$ modulo $m_j$:\n",
    "$$\n",
    "u \\mod m_j = v_1 + v_2m_1 + \\cdots + v_{j}m_1\\cdots m_{j-1} + 0 + \\cdots + 0\n",
    "$$"
   ]
  },
  {
   "cell_type": "markdown",
   "id": "cdfe150a",
   "metadata": {},
   "source": [
    "We have\n",
    "\\begin{align*}\n",
    "u_1 &\\cong v_1 \\mod m_1 &&\\implies v_1 \\gets u_1 \\\\\n",
    "u_2 &\\cong v_1 + v_2 m_1 \\mod m_2 &&\\implies v_2 \\gets (u_2 - v_1) \\cdot (m_1)^{-1} \\mod m_2 \\\\\n",
    "u_3 &\\cong v_1 + v_2 m_1 + v_3 m_1 m_2 \\mod m_3 &&\\implies v_3 \\gets (u_3-v_1-v_2 m_1)(m_1 m_2)^{-1} \\mod m_3\\\\\n",
    "&\\;\\,\\vdots\n",
    "\\end{align*}\n",
    "\n",
    "**Proof of Uniquenss**\n",
    "\n",
    "Left as an exercise. :P\n",
    "\n",
    "---\n",
    "\n",
    "##### Example (CRT)"
   ]
  },
  {
   "cell_type": "markdown",
   "id": "85e71573",
   "metadata": {},
   "source": [
    "Suppose $u \\cong 2 \\mod 3$, $u \\cong 1 \\mod 5$, $u \\cong 5 \\mod 7$.  What is $u$?\n",
    "\n",
    "Proceeding with CRT..."
   ]
  },
  {
   "cell_type": "code",
   "execution_count": null,
   "id": "82ebebb4",
   "metadata": {},
   "outputs": [],
   "source": [
    "uᵢ = [2, 1, 5] # \\_i + [TAB]\n",
    "m = [3, 5, 7]\n",
    "v = Vector{Int}(undef,3)\n",
    "\n",
    "v[1] = uᵢ[1]\n",
    "v[2] = (uᵢ[2] - v[1]) * inverse_mod(m[1], m[2]) % m[2]\n",
    "v[3] = (uᵢ[3] - v[1] - v[2]*m[1]) * inverse_mod(m[1]*m[2], m[3]) % m[3]\n",
    "@show v #intermediate \n",
    "\n",
    "u = v[1] + v[2]*m[1] + v[3]*m[1]*m[2]\n",
    "for i in [1, 2, 3]\n",
    "    println(\"$u ≡ $(uᵢ[i]) mod $(m[i])\")\n",
    "end"
   ]
  },
  {
   "cell_type": "markdown",
   "id": "66a3f9d5",
   "metadata": {
    "tags": []
   },
   "source": [
    "---\n",
    "\n",
    "## The Polynomial Ring $\\RR[x]$\n",
    "\n",
    "By this point in your mathematics career you have surely worked with *polynomials*.  A polynomial is something like $x^2 + 2x + 1$ but *not* like $\\frac{x^2+1}{x-1}$ or $x \\sin(x)$.\n",
    "\n",
    "##### Definition\n",
    "Let $\\RR$ be a ring and $a \\in \\RR[x]$.  Let \n",
    "$$\n",
    "a = a_n x^n + a_{n-1}x^{n-1} + \\cdots + a_1x + a_0\n",
    "$$\n",
    "with $a_n \\neq 0$.\n",
    "+ $a$ is called a **polynomial** in $x$ and $a_k x^k$ are its **terms**.\n",
    "+ The **degree** of $a$ is $n$: $$\\deg(a) = n.$$\n",
    "+ The **leading coefficient** of $a$ is $a_n$: $$\\lc(a) = a_n.$$\n",
    "+ The **leading term** of $a$ is $a_n x^n$:  $$\\lt(a) = a_n x^n.$$\n",
    "\n",
    "By convention we let $\\lc(0) = \\lt(0) = 0$ and $\\deg(0) = - \\infty$."
   ]
  },
  {
   "cell_type": "markdown",
   "id": "f4d0481f",
   "metadata": {},
   "source": [
    "#### Representation of Polynomials in Project"
   ]
  },
  {
   "cell_type": "code",
   "execution_count": null,
   "id": "a8d5ae62",
   "metadata": {},
   "outputs": [],
   "source": [
    "\"\"\"\n",
    "A term.\n",
    "\"\"\"\n",
    "struct Term  #structs are immutable by default\n",
    "    coeff::Int\n",
    "    degree::Int\n",
    "    function Term(coeff::Int, degree::Int)\n",
    "        degree < 0 && error(\"Degree must be non-negative\")\n",
    "        coeff != 0 ? new(coeff,degree) : new(coeff,0)\n",
    "    end\n",
    "end\n",
    "\n",
    "\"\"\"\n",
    "Creates the zero term.\n",
    "\"\"\"\n",
    "zero(::Type{Term})::Term = Term(0,0)\n",
    "\n",
    "\"\"\"\n",
    "Creates the unit term.\n",
    "\"\"\"\n",
    "one(::Type{Term})::Term = Term(1,0)"
   ]
  },
  {
   "cell_type": "code",
   "execution_count": null,
   "id": "1e7b7471",
   "metadata": {},
   "outputs": [],
   "source": [
    "x+x"
   ]
  },
  {
   "cell_type": "code",
   "execution_count": null,
   "id": "2fcd91fd",
   "metadata": {},
   "outputs": [],
   "source": [
    "\"\"\"\n",
    "A Polynomial type - designed to be for polynomials with integer coefficients.\n",
    "\"\"\"\n",
    "struct Polynomial\n",
    "    #Inner constructor of 0 polynomial\n",
    "    Polynomial() = new([zero(Term)])\n",
    "\n",
    "    #Inner constructor of polynomial based on arbitrary list of terms\n",
    "    function Polynomial(vt::Vector{Term})\n",
    "\n",
    "        #Filter the vector so that there is not more than a single zero term\n",
    "        vt = filter((t)->!iszero(t), vt)\n",
    "        if isempty(vt)\n",
    "            vt = [zero(Term)]\n",
    "        end\n",
    "\n",
    "        max_degree = maximum((t)->t.degree, vt)\n",
    "        terms = [zero(Term) for i in 0:max_degree] #First set all terms with zeros\n",
    "\n",
    "        #now update based on the input terms\n",
    "        for t in vt\n",
    "            terms[t.degree + 1] = t #+1 accounts for 1-indexing\n",
    "        end\n",
    "        return new(terms)\n",
    "    end\n",
    "end\n",
    "\n",
    "\"\"\"\n",
    "Construct a polynomial of the form x.\n",
    "\"\"\"\n",
    "x_poly() = Polynomial(Term(1,1))\n",
    "\n",
    "\"\"\"\n",
    "Creates the zero polynomial.\n",
    "\"\"\"\n",
    "zero(::Type{Polynomial})::Polynomial = Polynomial()\n",
    "\n",
    "\"\"\"\n",
    "Creates the unit polynomial.\n",
    "\"\"\"\n",
    "one(::Type{Polynomial})::Polynomial = Polynomial(one(Term))\n",
    "one(p::Polynomial) = one(typeof(p))"
   ]
  },
  {
   "cell_type": "markdown",
   "id": "b64bf1e9",
   "metadata": {},
   "source": [
    "### Addition in $\\RR[x]$\n",
    "\n",
    "For $\\RR[x]$ to be a *ring* we must define addition."
   ]
  },
  {
   "cell_type": "raw",
   "id": "ed49ec84",
   "metadata": {},
   "source": [
    "def ADDITION: \n",
    "    Input   a, b in ZZ[x]\n",
    "    Ouput   a + b (definitionally)\n",
    "    \n",
    "    if deg(a) == deg(b)\n",
    "        term = lt(a) + lt(b)      # addtion on *terms* ax^n + bx^n = (a+b)x^n\n",
    "        return term + ADDITION(a-lt(a), b-lt(b))\n",
    "        \n",
    "    if deg(a) > deg(b)\n",
    "        return lt(a) + ADDITION(a-lt(a), b)\n",
    "    \n",
    "    # deg(b) > deg(a)\n",
    "    return lt(b) + ADDITION(a, b-lt(b))"
   ]
  },
  {
   "cell_type": "code",
   "execution_count": null,
   "id": "8d64217b",
   "metadata": {},
   "outputs": [],
   "source": [
    "\"\"\"\n",
    "Add a polynomial and an integer.\n",
    "\"\"\"\n",
    "+(p::Polynomial, n::Int) = p + Term(n,0)\n",
    "+(n::Int, p::Polynomial) = p + Term(n,0)\n",
    "\n",
    "\"\"\"\n",
    "Add a polynomial and a term.\n",
    "\"\"\"\n",
    "function +(p::Polynomial, t::Term)\n",
    "    p = deepcopy(p)\n",
    "    if t.degree > degree(p)\n",
    "        push!(p, t)\n",
    "    else\n",
    "        if !iszero(p.terms[t.degree + 1]) #+1 is due to indexing\n",
    "            p.terms[t.degree + 1] += t\n",
    "        else\n",
    "            p.terms[t.degree + 1] = t\n",
    "        end\n",
    "    end\n",
    "\n",
    "    return trim!(p)\n",
    "end\n",
    "+(t::Term, p::Polynomial) = p + t\n",
    "\n",
    "\"\"\"\n",
    "Add two polynomials.  Does not assume dense (or spart) representation\n",
    "\"\"\"\n",
    "function +(p1::Polynomial, p2::Polynomial)::Polynomial\n",
    "    p = deepcopy(p1)\n",
    "    for t in p2\n",
    "        p += t\n",
    "    end\n",
    "    return p\n",
    "end"
   ]
  },
  {
   "cell_type": "code",
   "execution_count": null,
   "id": "9b4a74f8",
   "metadata": {},
   "outputs": [],
   "source": [
    "x = x_poly()\n",
    "p1 = 2x^2 + 3x + (-5) #Project: Fix this so we can simply do 2x^2+3x-5\n",
    "p2 = -3x^2 - 4x + 6\n",
    "p1+p2"
   ]
  },
  {
   "cell_type": "markdown",
   "id": "311dd260",
   "metadata": {
    "tags": []
   },
   "source": [
    "### Multiplication in $\\RR[x]$\n",
    "\n",
    "For $\\RR[x]$ to be a *ring* we must define multiplication."
   ]
  },
  {
   "cell_type": "raw",
   "id": "d37c0102",
   "metadata": {},
   "source": [
    "def MULTIPLICATION: \n",
    "    Input   a, b in ZZ[x]\n",
    "    Ouput   a * b (definitionally)\n",
    "    \n",
    "    if a = 0 or b = 0:\n",
    "        return 0\n",
    "    \n",
    "    if lt(a) = a and lt(b) = b:   # a and b are single terms\n",
    "        return a * b              # product of *terms* ax^n * bx^m = (ab)x^(n+m)\n",
    "        \n",
    "    write a = a1 + a2 with deg(a1) != deg(a2)\n",
    "    write b = b1 + b2 with deg(b1) != deg(b2)\n",
    "    \n",
    "    # DISTRIBUTION PROPERTY\n",
    "    # (a1 + a2)*(b1 + b2) = a1*b1 + a1*b2 + a2*b1 + a2*b2\n",
    "    return M(a1,b1) + M(a1,b2) + M(a2,b1) + M(a2,b2) where M = MULTIPLICATION"
   ]
  },
  {
   "cell_type": "code",
   "execution_count": null,
   "id": "0aa9565f",
   "metadata": {},
   "outputs": [],
   "source": [
    "\"\"\"\n",
    "Multiplication of polynomial and term.\n",
    "\"\"\"\n",
    "*(t::Term, p1::Polynomial)::Polynomial = iszero(t) ? Polynomial() : Polynomial(map((pt)->t*pt, p1.terms))\n",
    "*(p1::Polynomial, t::Term)::Polynomial = t*p1\n",
    "\n",
    "\"\"\"\n",
    "Multiplication of polynomial and polynomial.\n",
    "\"\"\"\n",
    "function *(p1::Polynomial, p2::Polynomial)::Polynomial\n",
    "    p_out = Polynomial()\n",
    "    for t in p1\n",
    "        p_out = p_out + (t * p2)\n",
    "    end\n",
    "    return p_out\n",
    "end"
   ]
  },
  {
   "cell_type": "code",
   "execution_count": null,
   "id": "02a35b31",
   "metadata": {},
   "outputs": [],
   "source": [
    "x = x_poly()\n",
    "p1 = 2x^2 + 3x + (-5)\n",
    "p2 = -3x^2 - 4x + 6\n",
    "p1 * p2"
   ]
  },
  {
   "cell_type": "markdown",
   "id": "6d52f7f6",
   "metadata": {
    "tags": []
   },
   "source": [
    "The following properties are consequences of our definition.  (They are obligated to be).\n",
    "\n",
    "##### Proposition (Polynomial Multiplication)\n",
    "When $\\RR$ is an **integral domain** (a nonzero commutative ring in which the product of any two nonzero elements is nonzero) and $a,b \\in \\RR[x]^{\\neq 0}$ then\n",
    "1.  $\\deg(ab) = \\deg a + \\deg b$,\n",
    "1.  $\\lc(ab) = a_b \\cdot b_m = \\lc(a) \\cdot \\lc(b)$,\n",
    "1.  $\\lm(ab) = \\lm(a) \\cdot \\lm(b)$,\n",
    "1.  $\\lt(ab) = \\lt(a) \\cdot \\lt(b)$.\n",
    "\n",
    "*Proof* (Sketch)\n",
    "$$\n",
    "\\begin{align*}\n",
    "a \\times b &= (a_n x^n + \\cdots + a_0)(b_mx^m + \\cdots + b_0) \\\\\n",
    "&= a_n \\cdot b_m x^{n+m} + \\cdots + a_0 \\cdot b_0\n",
    "\\end{align*}\n",
    "$$\n",
    "\n",
    "##### Proposition\n",
    "Every field is also an integral domain.\n",
    "\n",
    "*Proof* (Omitted)"
   ]
  },
  {
   "cell_type": "markdown",
   "id": "20f5e14d",
   "metadata": {},
   "source": [
    "### Multiplication by Chinese Remainder Theorem (Project)\n",
    "\n",
    "Let $a = a_nx^n + a_{n-1}x^{n-1} + \\cdots + a_1 x + a_0$.  Define the **height** of a polynomial by\n",
    "$$\n",
    "||a||_{\\infty} := \\max\\{|a_0|, \\ldots, |a_n|\\}.\n",
    "$$\n",
    "So, for instance $||2x^2-5||_{\\infty} = 5$.\n",
    "\n",
    "Further let \n",
    "$$\\# a := \\mbox{number of nonzero terms of }a.$$  \n",
    "So, for instance $\\# 2x^2-5 = 2$.\n",
    "\n",
    "If we intend to use CRT to calculate the product $c = a \\cdot b$ of $a,b \\in \\ZZ_p[x]$ we need $M = p_1,\\ldots,p_\\ell$ satisfying\n",
    "$$\n",
    "M = p_1 \\cdot \\cdots \\cdot p_\\ell > 2 \\cdot ||c||_\\infty.\n",
    "$$\n",
    "It is *twice* $||c||_\\infty$ to account for negative coefficients.  For instance, $3x^2 - 3x +1$ requires coefficients in $\\{ -3,-2,-1,0,1,2,3\\}$ which is $\\ZZ_7$ and not $\\ZZ_5$.\n",
    "\n",
    "##### Proposition\n",
    "Let $a,b \\in \\ZZ[x]$.\n",
    "$$\n",
    "||c||_{\\infty} \\leq ||a||_{\\infty} \\cdot ||b||_{\\infty} \\cdot \\min(\\# a,\\, \\# b)\n",
    "$$\n",
    "\n",
    "*Proof* (Sketch)\n",
    "Do a worst case analysis where you multiply $a = \\alpha x^n + \\alpha x^{n-1} + \\cdots + \\alpha$ by  $b = \\beta x^n + \\beta x^{n-1} + \\cdots + \\beta$ and see what the largest coefficient will end up being."
   ]
  },
  {
   "cell_type": "markdown",
   "id": "021ecfa4",
   "metadata": {},
   "source": [
    "##### Example \n",
    "Let\n",
    "\\begin{align*}\n",
    "a = 3x - 4, && b = 6x+5, && c = 18x^2-9x-20\n",
    "\\end{align*}\n",
    "and notice $ab = c$.\n",
    "\n",
    "$$||c||_\\infty \\leq 4 \\cdot 6 \\cdot \\min(2,2) = 48$$\n",
    "\n",
    "$$\n",
    "\\begin{align*}\n",
    "& && a_i && b_i && c_i \\\\[1em]\n",
    "\\hline\n",
    "p_1 &= 5 && 3x + 1 && 1x + 0 && 3x^2 + 1x + 0 \\\\[1.5em]\n",
    "\\hline\n",
    "p_2 &= 7 && 3x + 3 && 6x + 5 && 4x^2 + 5x + 1 \\\\[1.5em]\n",
    "\\hline\n",
    "p_3 &= 3 && 0x + 2 && 0x + 2 && 0x^2 + 0x + 1 \\\\[1.5em]\n",
    "\\hline\n",
    "\\end{align*}\n",
    "$$"
   ]
  },
  {
   "cell_type": "markdown",
   "id": "5bc16e50",
   "metadata": {},
   "source": [
    "Suppose you have defined a function:\n",
    "\n",
    "    CRT([u1, u2, ..., um], [p1, p2, ..., pm]) = u  such that u == uk mod pk"
   ]
  },
  {
   "cell_type": "raw",
   "id": "fbf178c0",
   "metadata": {},
   "source": [
    "CRT([3,4,0], [5,7,3]) = 18 mod 3*5*7\n",
    "CRT([1,5,0], [5,7,3]) = 96 mod 3*5*7\n",
    "CRT([0,1,1], [5,7,3]) = 85 mod 3*5*7"
   ]
  },
  {
   "cell_type": "markdown",
   "id": "949cf79e",
   "metadata": {},
   "source": [
    "Let the **symmetric mod** be given by\n",
    "\n",
    "    smod(a, m) = (a mod m) if (a mod m) <= m//2 else (a mod m) - m\n",
    "\n",
    "For instance, \n",
    "\n",
    "    smod(0, 7) = 0\n",
    "    smod(1, 7) = 1\n",
    "    smod(2, 7) = 2\n",
    "    smod(3, 7) = 3\n",
    "    smod(4, 7) = -3\n",
    "    smod(5, 7) = -2\n",
    "    smod(6, 7) = -1"
   ]
  },
  {
   "cell_type": "raw",
   "id": "148553d6",
   "metadata": {},
   "source": [
    "CRT([3,4,0], [5,7,3]) = 18 mod 3*5*7\n",
    "CRT([1,5,0], [5,7,3]) = 96 mod 3*5*7 = -9 smod 3*5*7 \n",
    "CRT([0,1,1], [5,7,3]) = 85 mod 3*5*7 = -20 smod 3*5*7 "
   ]
  },
  {
   "cell_type": "markdown",
   "id": "4faf598f",
   "metadata": {},
   "source": [
    "$$\n",
    "\\begin{align*}\n",
    "& && a_i && b_i && c_i \\\\[1em]\n",
    "\\hline\n",
    "p_1 &= 5 && 3x + 1 && 1x + 0 && 3x^2 + 1x + 0 \\\\[1.5em]\n",
    "\\hline\n",
    "p_2 &= 7 && 3x + 3 && 6x + 5 && 4x^2 + 5x + 1 \\\\[1.5em]\n",
    "\\hline\n",
    "p_3 &= 3 && 0x + 2 && 0x + 2 && 0x^2 + 0x + 1 \\\\[1.5em]\n",
    "\\hline\n",
    "p &= 105 && 3x + 101 && 6x+5 && 18x^2 + 96 x + 85 \\\\[1.5em]\n",
    "\\hline\n",
    "\\end{align*}\n",
    "$$\n",
    "\n",
    "So we, apply the symmetric mod and deduce $$(3x - 4)(6x+5) = 18x^2 -9x - 20.$$"
   ]
  },
  {
   "cell_type": "raw",
   "id": "6ae24ac9",
   "metadata": {},
   "source": [
    "# Chinese Remainder Theorem on TWO polynomials\n",
    "def CRT:\n",
    "    Input   [a,b] and [n,m] \n",
    "                such that a in \\ZZ_n[x], b in \\ZZ_m[x], and gcd(n,m)=1.\n",
    "    Ouput   c \\in \\ZZ_{nm}[x] \n",
    "                such that c ≡ a (mod n) and c ≡ b (mod m).\n",
    "    \n",
    "    c <- 0                             # the 0 polynomial\n",
    "    for k from max(deg a, deg b) to 0 by -1 do\n",
    "        ak <- 0 if k > deg a else ak   # = coefficient on x^k in a\n",
    "        bk <- 0 if k > deg b else bk   # = coefficient on x^k in b\n",
    "        ck <- iCRT([ak, bk], [n, m])   # integer chinese remainder\n",
    "        c  <- c + ck * x^k\n",
    "    \n",
    "    return c"
   ]
  },
  {
   "cell_type": "raw",
   "id": "56a0ac91",
   "metadata": {},
   "source": [
    "def MULTIPLICATION: \n",
    "    Input   a = an x^n + ... a1 x + a0, b = bm x^m + ... b1 x + b0 in ZZ[x]\n",
    "    Output   a * b in ZZ[x]\n",
    "    \n",
    "    height_a <- max(|an|, ..., |a1|, |a0|)\n",
    "    height_b <- max(|bm|, ..., |b1|, |b0|)\n",
    "    \n",
    "    B <- 2 * height_a * height_b * min(n+1, m+1)\n",
    "    p <- 3\n",
    "    M <- p\n",
    "    c <- (a*b) mod M          # multiplication in ZZ_3[x]\n",
    "    \n",
    "    while M < B do\n",
    "       p  <- NextPrime(p)     # the first prime > p\n",
    "       c' <- a*b mod p        # multiplication in ZZ_p[x]\n",
    "       c  <- CRT([c, c'], [M, p])  # spatial optimization \n",
    "       M  <- M*p\n",
    "         \n",
    "    return c smod M           # restore negative coefficients with symmetric mod"
   ]
  },
  {
   "cell_type": "markdown",
   "id": "e4b65a82",
   "metadata": {
    "tags": []
   },
   "source": [
    "### Division in $\\FF[x]$\n",
    "\n",
    "We are unable to *divide* in $\\RR[x]$.  Consider the following operation in $\\ZZ[x]$\n",
    "$$\n",
    "\\frac{x^2}{2x} = \\frac{1}{2}x.\n",
    "$$\n",
    "Even though $x^2$ and $2x$ are from $\\ZZ[x]$ that their division is in $\\QQ[x]$.  This is because $\\ZZ$ is not a *field* but $\\QQ$ is.  \n",
    "\n",
    "It turns out $\\FF[x]$ is a **Euclidean Domain** when $\\FF$ is a field.  Re-consider the division, but this time let us do the calculation in $\\ZZ_7[x]$\n",
    "$$\n",
    "\\begin{align*}\n",
    "\\frac{x^2}{2x} \n",
    "&\\cong \\frac{1}{2}x \\mod 7 \\\\\n",
    "&\\cong 2^{-1} x \\mod 7 \\\\\n",
    "&\\cong 4 x \\mod 7.\n",
    "\\end{align*}\n",
    "$$\n",
    "Note that $\\frac{1}{2} \\cong 4 \\mod 7$.\n",
    "\n",
    "##### Theorem (Division in $\\FF[x]$)\n",
    "Let $a,b \\in \\FF[x]$, $b\\neq0$.  There exists *unique* polynomials $q,r \\in \\FF[x]$ such that \n",
    "$$\n",
    "\\begin{align*}\n",
    "a = bq + r &&\\mbox{and}&& r = 0 &&\\mbox{or}&& \\deg r < \\deg b\n",
    "\\end{align*}\n",
    "$$\n",
    "\n",
    "*Proof* (Uniqueness) \n",
    "Let $a = b q_1 + r_1 = b q_2 + r_2$ with $\\deg r_1, \\deg r_2 < \\deg b$.\n",
    "\n",
    "Consider\n",
    "$$\n",
    "\\begin{align*}\n",
    "b q_1 + r_1 = b q_2 + r_2 \n",
    "&\\implies b(q_1 - q_2) = (r_2-r_1) \\\\\n",
    "&\\implies b | (r_2-r_1) & \\mbox{But }\\deg r_1, r_2 < \\deg b\\\\\n",
    "&\\implies r_2 - r_1 = 0 \\\\\n",
    "&\\implies r_2 = r_1\n",
    "\\end{align*}\n",
    "$$\n",
    "\n",
    "Therefore $b(q_1-q_2) = 0$. But since $\\FF[x]$ is an integral domain it cannot have zero divisors. As we assumed $b\\neq 0$ this implies $$(q_1-q_2)=0 \\implies q_1 = q_2. ~\\square$$\n",
    "\n",
    "*Proof* (Existence -- The Division Algorithm)"
   ]
  },
  {
   "cell_type": "raw",
   "id": "bc7ae7f3",
   "metadata": {},
   "source": [
    "def DIVISION: \n",
    "    Input   a, b in ZZ_p[x] such that b != 0\n",
    "    Output   q, r such that a = b*q + r and deg r < deg b in ZZ_p[x]\n",
    "    \n",
    "    r, q = a, 0\n",
    "    while r != 0 and deg r >= deg b do:\n",
    "        t <- lt(r)/lt(b)    # division of *terms* in ZZ_p: (ax^n)/(bx^m) = a/b mod p x^(n-m), n>m\n",
    "        q <- q + t\n",
    "        r <- r - t*b        # deg r *must* monotonically decrease\n",
    "    return (q,r)\n",
    "    \n",
    "# A couple of convenience methods\n",
    "def QUO(a, b) = first(DIVISION(a,b)) in ZZ_p[x]\n",
    "def REM(a, b) = first(DIVISION(a,b)) in ZZ_p[x]"
   ]
  },
  {
   "cell_type": "code",
   "execution_count": null,
   "id": "c40a13ca",
   "metadata": {},
   "outputs": [],
   "source": [
    "#At the moment, the divide function and it's friends (÷ and rem) return a function that then\n",
    "#uses a prime to return an actual polynomial\n",
    "function divide(num::Polynomial, den::Polynomial)\n",
    "    function division_function(p::Int)\n",
    "        f, g = mod(num,p), mod(den,p)\n",
    "        degree(f) < degree(num) && return nothing \n",
    "        iszero(g) && throw(DivideError())\n",
    "        q = Polynomial()\n",
    "        prev_degree = degree(f)\n",
    "        while degree(f) ≥ degree(g) \n",
    "            h = Polynomial( (leading(f) ÷ leading(g))(p) )  #syzergy \n",
    "            f = mod((f - h*g), p)\n",
    "            q = mod((q + h), p)  \n",
    "            prev_degree == degree(f) && break\n",
    "            prev_degree = degree(f)\n",
    "        end\n",
    "        @assert iszero( mod((num  - (q*g + f)),p))\n",
    "        return q, f\n",
    "    end\n",
    "    return division_function\n",
    "end\n",
    "\n",
    "\"\"\"\n",
    "The quotient from polynomial division. Returns a function of an integer.\n",
    "\"\"\"\n",
    "÷(num::Polynomial, den::Polynomial)  = (p::Int) -> first(divide(num,den)(p))\n",
    "\n",
    "\"\"\"\n",
    "The remainder from polynomial division. Returns a function of an integer.\n",
    "\"\"\"\n",
    "rem(num::Polynomial, den::Polynomial)  = (p::Int) -> last(divide(num,den)(p))"
   ]
  },
  {
   "cell_type": "code",
   "execution_count": null,
   "id": "fc2ef6db",
   "metadata": {},
   "outputs": [],
   "source": [
    "@show p1\n",
    "@show p2\n",
    "divide(p1, p2)"
   ]
  },
  {
   "cell_type": "code",
   "execution_count": null,
   "id": "1404b059",
   "metadata": {},
   "outputs": [],
   "source": [
    "q , r = divide(p1,p2)(101)"
   ]
  },
  {
   "cell_type": "code",
   "execution_count": null,
   "id": "ed14624f",
   "metadata": {},
   "outputs": [],
   "source": [
    "q = (p1 ÷ p2)(101) #Not the nicest interface, but will be nicer with PolynomialModP"
   ]
  },
  {
   "cell_type": "code",
   "execution_count": null,
   "id": "be9e0442",
   "metadata": {},
   "outputs": [],
   "source": [
    "r = rem(p1,p2)(101) #Not the nicest interface, but will be nicer with PolynomialModP"
   ]
  },
  {
   "cell_type": "code",
   "execution_count": null,
   "id": "2bc93eb3",
   "metadata": {},
   "outputs": [],
   "source": [
    "mod(q*p2+r - p1,101)"
   ]
  },
  {
   "cell_type": "markdown",
   "id": "3c75cd88",
   "metadata": {},
   "source": [
    "##### Example\n",
    "Consider $a = 10x^2 + 4x + 1$ divided by $b = 5x-3$ in $\\ZZ_{11}[x]$.\n",
    "\n",
    "$$\n",
    "\\begin{align*}\n",
    "r,q &\\gets 10x^2 + 4x + 1, 0 \\\\[1em]\n",
    "r \\neq 0 &\\mbox{ and } \\deg r = 2 \\geq \\deg b = 1 \\\\\n",
    "t &\\gets \\frac{10x^2}{5x} \\cong 2x \\mod 11\\\\\n",
    "q &\\gets 0 + 2x\\\\\n",
    "r &\\gets (10x^2 + 4x + 1) - 2x(5x-3) \\cong 10x + 1 \\mod 11\\\\[1em]\n",
    "r \\neq 0 &\\mbox{ and } \\deg r = 1 \\geq \\deg b = 1 \\\\\n",
    "t &\\gets \\frac{10x}{5x} \\cong 2 \\mod 11\\\\\n",
    "q &\\gets 2x + 2\\\\\n",
    "r &\\gets (10x+1) - 2(5x-3) \\cong 7 \\mod 11\\\\[1em]\n",
    "r \\neq 0 &\\mbox{ and } \\color{red}{\\deg r = 0 \\geq \\deg b = 1} \\\\[1em]\n",
    "&\\mbox{return } (2x+2, 7)\n",
    "\\end{align*}\n",
    "$$\n",
    "\n",
    "And notice $10x^2 + 4x + 1 \\cong (5x-3)(2x+2) + 7 \\mod 11$."
   ]
  },
  {
   "cell_type": "markdown",
   "id": "465f7b2c",
   "metadata": {},
   "source": [
    "### GCDs in $\\ZZ_p[x]$\n",
    "\n",
    "##### Theorem \n",
    "Let $a,b \\in \\ZZ_p[x]^{\\neq 0}$. There is $s,t \\in \\ZZ_p[x]$ such that\n",
    "$$\n",
    "sa + tb = \\gcd(a,b).\n",
    "$$\n",
    "\n",
    "*Proof*\n",
    "The extended Euclidean Algorithm"
   ]
  },
  {
   "cell_type": "code",
   "execution_count": null,
   "id": "ac38664c",
   "metadata": {},
   "outputs": [],
   "source": [
    "#Taken from polynomial_gcd.jl\n",
    "#Note that as part of your project you'll implement this for PolynomialModP \n",
    "#(without an input argument `prime`)\n",
    "\n",
    "function extended_euclid_alg(a::Polynomial, b::Polynomial, prime::Int)\n",
    "    old_r, r = mod(a,prime), mod(b,prime)\n",
    "    old_s, s = one(Polynomial), zero(Polynomial)\n",
    "    old_t, t = zero(Polynomial), one(Polynomial)\n",
    "\n",
    "    while !iszero(mod(r,prime))\n",
    "        q = divide(old_r, r)(prime) |> first    # |> is the pipe operator\n",
    "        old_r, r = r, mod(old_r - q*r, prime)\n",
    "        old_s, s = s, mod(old_s - q*s, prime)\n",
    "        old_t, t = t, mod(old_t - q*t, prime)\n",
    "    end\n",
    "    g, s, t = old_r, old_s, old_t\n",
    "    @assert mod(s*a + t*b - g, prime) == 0\n",
    "    return g, s, t  \n",
    "end"
   ]
  },
  {
   "cell_type": "code",
   "execution_count": null,
   "id": "194e1f21",
   "metadata": {},
   "outputs": [],
   "source": [
    "x = x_poly()\n",
    "p1 = 2x^2+3x +(-5) #Note we need +(-5)... try later without... how to fix?\n",
    "p2 = -3x^2 - 4x +6\n",
    "\n",
    "extended_euclid_alg(p1*p2, p2, 101)"
   ]
  },
  {
   "cell_type": "markdown",
   "id": "7a9bafef",
   "metadata": {
    "tags": []
   },
   "source": [
    "# Unit 5: Computer Algebra Systems and Symbolic Computation "
   ]
  },
  {
   "cell_type": "markdown",
   "id": "ba29a7d4",
   "metadata": {
    "tags": []
   },
   "source": [
    "## Factorization in $\\ZZ[x]$\n",
    "\n",
    "Analogous to *factoring* integers into *primes* we wish to *factor* polynomials into *irreducible components*.\n",
    "\n",
    "##### Definition (Irreducible Polynomial)\n",
    "An **irreducible polynomial** is a polynomial that cannot be factored into the product of two non-constant polynomials. In particular, $a \\in \\ZZ[x]$ is **irreducible** when\n",
    "$$\n",
    "a = b \\cdot c \\implies \\deg b = 0 \\mbox{ or } \\deg c = 0.\n",
    "$$\n",
    "---\n",
    "\n",
    "Irreducibility depends on the coefficient field:\n",
    "\n",
    "Consider $f = x^4 - 4$.  The polynomial $f$ will have different factorizations depending on which coefficient ring we are working with:\n",
    "+ *over $\\ZZ$* we have $f = (x^2-2)(x^2+2)$,\n",
    "+ *over $\\mathbb{R}$* we have $f = \\left(x-\\sqrt{2}\\right)\\left(x+\\sqrt{2}\\right)\\left(x^2+2\\right)$\n",
    "+ *over $\\mathbb{C}$* we have $f = \\left(x-\\sqrt{2}\\right)\\left(x+\\sqrt{2}\\right)\\left(x-\\sqrt{2}i\\right)\\left(x+\\sqrt{2}i\\right)$  (which is why the complex number are called a *splitting field*)."
   ]
  },
  {
   "cell_type": "markdown",
   "id": "aff8b0c0",
   "metadata": {
    "tags": []
   },
   "source": [
    "### Factorization in $\\ZZ[x]$ using Integer Factorization\n",
    "\n",
    "To premise this section, we acknowledge that integer factorization is *intractable* and thus reducing polynomial factorization to integer factorization is somewhat pointless.  It is, however, the first strategy devised for factorizations and was used until a better method was discovered in 1970.\n",
    "\n",
    "Consider evaluating $f(x) = 9x^4-1$ at various integral points.  We can see\n",
    "$$\n",
    "f(10) = 89\\,999 = 7 \\cdot 13 \\cdot 23 \\cdot 43 = \\left[(x-3)(x+3)(2x+3)(4x+3)\\right]_{x=10}\n",
    "$$\n",
    "which gives us a reasonable guess at the polynomial factorization.  Unfortunately, none of those factors divide $f$ \n",
    "which means they cannot be a part of the factorization.  So, we try groups of two integers to search for a factor:\n",
    "$$\n",
    "\\begin{align*}\n",
    "(7 \\cdot 13) = 91 = (100-10+1) = [(x^2-x+1)]_{x=10} && \\mbox{ does not divide $f$} \\\\\n",
    "(7 \\cdot 23) = 161 =(200-40+1) = [(2x^2-4x+1)]_{x=10} && \\mbox{ does not divide $f$} \\\\\n",
    "(7 \\cdot 43) = 301 =(300+1) = [(3x^2+1)]_{x=10} && \\mbox{ yes! this divides $f$}\n",
    "\\end{align*}\n",
    "$$\n",
    "We have deduced $f = (3x^2 + 1) \\frac{9x^4-1}{3x^2+1} = (3x^2+1)(3x^2-1)$.\n",
    "\n",
    "We may get **luckier** by choosing different eval points that have **fewer** integer factors:\n",
    "$$\n",
    "f(12) = 186\\,623 = 431 \\cdot 433 = [(3x^2-1)(3x^2+1)]_{x=12}\n",
    "$$\n",
    "Or we may get **unlucky** by choosing eval points that have more **integer** factors:\n",
    "$$\n",
    "f(11) = 2^3 \\cdot 7 \\cdot 13 \\cdot 181\n",
    "$$\n",
    "\n",
    "In any case.  This is not the method we are going to use.\n"
   ]
  },
  {
   "cell_type": "markdown",
   "id": "bbd0c17f",
   "metadata": {},
   "source": [
    "## Simplifying the Factoring Problem\n",
    "\n",
    "There are various things we assume that will simplify our algorithms.  \n",
    "\n",
    "First, notice that we do not care about scaling factors.  If we can factor $k \\cdot a$ for $k \\in \\ZZ$ and $a \\in \\ZZ[x]$ then we can factor $a$.  Thus, we will presume the polynomials given to us are\n",
    "1.  primitive (that is, have unit *content*), and\n",
    "2.  monic (that is, have unit leading coefficients).\n",
    "\n",
    "Making a polynomial monic is easy.  When the coefficients are taken from a field, $\\lc(a)$ is guaranteed invertible and $\\frac{a}{\\lc(a)}$ will be monic.  This will also guarantee that the factorization will be into *monic* irreducibles.\n",
    "\n",
    "##### Definition (Content)\n",
    "The **content** of a polynomial is the gcd of its coefficients.  Namely, if $a = a_nx^n + \\cdots a_0$ then\n",
    "$$\n",
    "\\content(a) = \\gcd(a_0,\\, a_1,\\, \\ldots, a_n)\n",
    "$$\n",
    "The **primitive part** of $a$ is \n",
    "$$\n",
    "\\primpart(a) = \\frac{a}{\\content(a)}\n",
    "$$\n",
    "\n",
    "##### Example\n",
    "$\\content(6x^3 + 3x + 3) = 3$ and $\\primpart(6x^3 + 3x + 3) = 2x^3 + x + 1$.\n",
    "\n",
    "Second, given a polynomial to factor like\n",
    "$$a = (x-1)^3(x^2+x+1)^2(x^3-3x-1)^7$$\n",
    "we are satisfied *finding only the irreducible components*: $x-1$, $x^2 + x + 1$, and $x^3 - 3x -1$ because we can recover their degrees by repeated division."
   ]
  },
  {
   "cell_type": "code",
   "execution_count": null,
   "id": "fbf3e831",
   "metadata": {},
   "outputs": [],
   "source": [
    "x = x_poly()\n",
    "p = 6x^3 + 3x + 3\n",
    "content(p)"
   ]
  },
  {
   "cell_type": "code",
   "execution_count": null,
   "id": "837de04e",
   "metadata": {},
   "outputs": [],
   "source": [
    "prim_part(p)(101) #Again, here prim_part returns a function that uses a prime\n",
    "                  #but with PolynomialModP prim_part will have a simpler interface"
   ]
  },
  {
   "cell_type": "markdown",
   "id": "3ec7a3b3",
   "metadata": {
    "jp-MarkdownHeadingCollapsed": true,
    "tags": []
   },
   "source": [
    "---\n",
    "### Square-Free Polynomials\n",
    "\n",
    "Note here we are **not** presuming that $f_i$ is *irreducible*.\n",
    "\n",
    "Square-free polynomials, as their name suggests, are polynomials with no repeated factors. A factor that repeats, say, three times also repeats two times and hence square-free implies repeated-root free.\n",
    "\n",
    "##### Definition (Square-Free)\n",
    "$a \\in \\FF[x]$ is *square-free* if $a$ has no repeated factors.  That is, \n",
    "$$\\lnot\\exists b \\in \\FF[x]; \\, \\deg(b)>0 \\mbox{ and } b^2 \\mid a$$\n",
    "\n",
    "##### Lemma 1\n",
    "$a \\in \\ZZ_p[x]$ is *square-free* $\\iff$ $\\gcd(a,a') = 1$.\n",
    "\n",
    "_Proof_  Omitted.\n",
    "\n",
    "##### Lemma 2\n",
    "Let $a \\in \\ZZ_p[x]$ and $a = f_1^1 \\cdot f_2^2 \\cdot f_3^3 \\cdot \\cdots \\cdot f_n^n$ be a square-free factorization for $a$.  Then\n",
    "$$\\gcd(a,a') = f_2^1 f_3^2 f_4^3 \\cdots f_n^{n-1}.$$\n",
    "\n",
    "_Proof_ Omitted.\n",
    "\n",
    "Notice that\n",
    "$$\n",
    "\\frac f {\\gcd(f,\\, f')} = \\frac{ f_1^1  f_2^2  f_3^3  \\cdots  f_n^n}{f_2^1 f_3^2 f_4^3 \\cdots f_n^{n-1}} = f_1f_2\\cdots f_n\n",
    "$$\n",
    "is a square-free polynomial.\n",
    "\n",
    "\n",
    "##### Example\n",
    "Consider $f = (x^2 + x + 1)^3 (x^3 - 3x -1)^2 \\in \\ZZ_{11}[x]$.  We have\n",
    "$$\n",
    "g = \\gcd(f, f') = x^5 + x^4 + 9x^3 + 7x^2 + 7x + 10\n",
    "$$\n",
    "and\n",
    "$$\n",
    "\\frac{f}{g} = (x^2+x+1)(x^3+8x+10).\n",
    "$$"
   ]
  },
  {
   "cell_type": "code",
   "execution_count": null,
   "id": "1585c83b",
   "metadata": {},
   "outputs": [],
   "source": [
    "x = x_poly()\n",
    "p = (x^2+x+1)^3 \n",
    "square_free(p, 101)"
   ]
  },
  {
   "cell_type": "markdown",
   "id": "c19b3960",
   "metadata": {},
   "source": [
    "## Factorization in $\\ZZ_p[x]$\n",
    "\n",
    "Let $p$ be an *odd* prime.  That is, $p$ cannot be two.  \n",
    "\n",
    "##### Proposition\n",
    "Let $a \\in \\ZZ[x]$ be *primitive*, *square-free* and \n",
    "$$a = f_1 \\cdot f_2 \\cdot \\cdots \\cdot f_\\ell$$\n",
    "where each $f_k$ is irreducible over $\\ZZ$.  If $p \\not\\mid \\lc(a)$ then the number of factors of $a$ over $\\ZZ_p$ is $\\geq \\ell$.\n",
    "\n",
    "##### Example \n",
    "Consider $a = 9x^4-1 = (3x^2-1)(3x^2+1)$.  We say $a$ has two factors and therefore has $\\ell = 2$.  But also\n",
    "$$\n",
    "\\begin{align*}\n",
    "a &\\cong (3x^2-1)(3x^2+1) \\mod 5\\\\\n",
    "a &\\cong (3x^2-1) \\cdot 3(x-2)(x+3) \\mod 7\\\\\n",
    "a &\\cong 2 \\mod 3  && \\mbox{3 | $\\lc(a)$}\n",
    "\\end{align*}\n",
    "$$\n",
    "\n",
    "\n",
    "\n",
    "##### Notation ($D_p$)\n",
    "Let $D_p(a)$ be the set of possible degrees of factors of $a \\in \\ZZ[x]$ inferred from the factorization of $a$ over $\\ZZ_p$.\n",
    "\n",
    "##### Example (How to determine if $a \\in \\ZZ[x]$ is irreducible)\n",
    "Let $a = 85x^5 + 55x^4 + 37x^3 + 35x^2 - 97x - 50$\n",
    "$$\n",
    "\\begin{align*}\n",
    "a &\\cong (x+1)(x^4+x^3+x^2+x+1) \\mod 2 &&\\implies D_2(a) = \\{1,4,5\\}\\\\\n",
    "a &\\cong (x+1)(x^4+x^2+x+1) \\mod 3 &&\\implies D_3(a) = \\{1,4,5\\}\\\\\n",
    "a &\\cong 0 \\mod 5 && \\mbox{ bad prime} \\\\\n",
    "a &\\cong (x^2+5x+5)(x^3+6x+4) \\mod 7 &&\\implies D_7(a) = \\{2,3,5\\}\\\\\n",
    "\\end{align*}\n",
    "$$\n",
    "\n",
    "Now $D_2(a) \\cap D_3(a) \\cap D_7(a) = \\{5\\} \\implies a$ is irreducible over $\\mathbb{Z}$."
   ]
  },
  {
   "cell_type": "markdown",
   "id": "b5672e28",
   "metadata": {},
   "source": [
    "## Cantor Zassenhaus Factorization\n",
    "\n",
    "Let $a \\in \\ZZ_p[x]$, $d = \\deg a > 0$.  Suppose $\\gcd(a,a')=1$ (i.e. $a$ has no repeated factors).  \n",
    "\n",
    "**Question** How can we compute the linear factors of $a$ in $\\ZZ_p[x]$?\n",
    "\n",
    "*Idea 1:* \n",
    "$$\\gcd(a,\\, (x-0)(x-1)\\cdots(x-p+1)) \\mod p$$\n",
    "\n",
    "**Question** How can factor the product of linears into its linear components.\n",
    "\n",
    "*Idea 2:* Pick $k=\\frac{p-1}{2}$ (half) the linear factors at random.  *Maybe* generate nontrivial GCD.  Recurse.\n",
    "$$\\gcd(a,\\, (x-\\sigma_0)\\cdots(x-\\sigma_k)) \\in \\left\\{a,\\,1,\\, \\mbox{proper factor of } a\\right\\}$$\n",
    "(Note:  $\\sigma$ is some permutation of $\\ZZ_p$.)\n",
    "\n",
    "**Question** How can we get do the same thing for irreducible quadratics, cubics, quartics, $\\ldots$\n",
    "\n",
    "*Answer:* Essentially the same way.  It will take some theory to express."
   ]
  },
  {
   "cell_type": "markdown",
   "id": "aa237ad3",
   "metadata": {},
   "source": [
    "### Distinct Degree Factorization (Idea 1)\n",
    "\n",
    "#### Fermat's \"little\" Theorem (FlT) \n",
    "Let $p > 2$ a prime and $0 < a < p$ then $a^{p-1} \\cong 1 \\mod p$, or equivalently,\n",
    "$$a^p \\cong a \\mod p \\implies a^p - a \\cong 0 \\mod p$$"
   ]
  },
  {
   "cell_type": "code",
   "execution_count": null,
   "id": "958157ad",
   "metadata": {},
   "outputs": [],
   "source": [
    "a = 5\n",
    "p = 23\n",
    "mod(a^p-a, p)"
   ]
  },
  {
   "cell_type": "code",
   "execution_count": null,
   "id": "7da25374",
   "metadata": {},
   "outputs": [],
   "source": [
    "a = 15\n",
    "p = 29\n",
    "mod(a^p-a, p)  #WRONG! \n",
    "\n",
    "             # There is an overflow.... \n",
    "             # by analogy your power mod p will improve this"
   ]
  },
  {
   "cell_type": "code",
   "execution_count": null,
   "id": "22e30e90",
   "metadata": {},
   "outputs": [],
   "source": [
    "big(24) |> typeof"
   ]
  },
  {
   "cell_type": "code",
   "execution_count": null,
   "id": "a544ffa8",
   "metadata": {},
   "outputs": [],
   "source": [
    "a = big(15)\n",
    "p = 29\n",
    "mod(a^p-a, p)"
   ]
  },
  {
   "cell_type": "markdown",
   "id": "392f6d67",
   "metadata": {},
   "source": [
    "##### Corollary\n",
    "Let $f(x) = x^p -x \\in \\ZZ_p[x]$, then for any $a \\in \\ZZ_p$,\n",
    "$$f(a) \\cong 0 \\mod p$$ \n",
    "and thus $(x-a) | f$ which means $(x-a)$ is a factor $f$ for every $a$.  Thus $x^p -x$ is a product of all the linear irreducible polynomials of $\\ZZ_p[x]$:\n",
    "$$\n",
    "x^p - x = (x-0)\\cdots(x-p+1)\n",
    "$$\n",
    "\n",
    "Supposing that $f \\in \\ZZ_p[x]$ is square-free and primitive we have that\n",
    "$$g = \\gcd(x^p-x,\\, f)$$\n",
    "**is the product of all *monic linear factors* of $f$.**\n",
    "\n",
    "##### Theorem \n",
    "In $\\ZZ_p[x]$, \n",
    "$$x^{p^k}-x$$ \n",
    "is the product of all *monic* irreducible polynomials in $\\ZZ_p[x]$ of degree $d | k$.\n",
    "\n",
    "This means that\n",
    "$$\n",
    "\\begin{align*}\n",
    "g_1 &= gcd(a, x^p-x)  && \\mbox{contains all irreducible linear factors of } a \\\\\n",
    "g_2 &= gcd(a/g_1, x^{p^2}-x) && \\mbox{contains all irreducible quadratic factors of } a \\\\\n",
    "g_3 &= gcd(a/g_1/g_2, x^{p^3}-x) && \\mbox{contains all irreducible cubic factors of } a \\\\\n",
    "&\\;\\vdots\n",
    "\\end{align*}\n",
    "$$\n",
    "\n",
    "Notice we now have an algorithm for decomposing a polynomial into groups of products of irreducible polynomials of the same degree."
   ]
  },
  {
   "cell_type": "raw",
   "id": "4037d31c",
   "metadata": {},
   "source": [
    "def DISTINCT_DEGREE_FACTORIZATION:\n",
    "    Input   a in ZZ_p[x] such that d = deg a > 0, a is monic, primitive, and a square-free.\n",
    "    Output   g_1, g_2, ..., g_m such that a = g_1 * g_2 * ... * g_m and \n",
    "            g_i = Product of irreducible polynomials of degree i\n",
    "\n",
    "    w <- x\n",
    "\n",
    "    for k from 1 to degree(a) do\n",
    "        w    <- Rem(w^p, a)\n",
    "        g[k] <- Gcd(w-x, a)\n",
    "        f    <- Quo(a, g[k])\n",
    "    end do\n",
    "\n",
    "    if f <> 1 then\n",
    "        g[k] <- a\n",
    "    end if\n",
    "\n",
    "    return [g_1, ... , g_d]"
   ]
  },
  {
   "cell_type": "code",
   "execution_count": null,
   "id": "bc9b16be",
   "metadata": {},
   "outputs": [],
   "source": [
    "function dd_factor(f::Polynomial, prime::Int)::Array{Polynomial}\n",
    "    x = x_poly()\n",
    "    w = deepcopy(x)\n",
    "    g = Array{Polynomial}(undef,degree(f)) #Array of polynomials indexed by degree\n",
    "\n",
    "    #Looping over degrees\n",
    "    for k in 1:degree(f)\n",
    "        w = rem(pow_mod(w,prime,prime), f)(prime)\n",
    "        g[k] = gcd(w - x, f, prime) \n",
    "        f = (f ÷ g[k])(prime)\n",
    "    end\n",
    "\n",
    "    #edge case for final factor\n",
    "    f != one(Polynomial) && push!(g,f)\n",
    "    \n",
    "    return g\n",
    "end"
   ]
  },
  {
   "cell_type": "code",
   "execution_count": null,
   "id": "d54c0128",
   "metadata": {},
   "outputs": [],
   "source": [
    "#Taken from example_script.jl:\n",
    "\n",
    "prime = 17\n",
    "p = mod((7x^3 + 2x^2 + 8x + 1)*(x^2+x+1),prime)\n",
    "println(\"Will factor this polynomial (mod $prime): \", p)\n",
    "println(\"Starting with dd_factor\")\n",
    "dds = dd_factor(p,prime)"
   ]
  },
  {
   "cell_type": "markdown",
   "id": "b3099696",
   "metadata": {},
   "source": [
    "### Distinct Degree Splitting (Idea 2)\n",
    "\n",
    "Consider that we know how to factor *differences of squares* like $x^2 - 1 = (x+1)(x-1)$.  In our case we have\n",
    "$$\n",
    "x^p - x = x(x^{p-1}-1) = x\\left(x^\\frac{p-1}{2}-1\\right)\\left(x^\\frac{p-1}{2}+1\\right).\n",
    "$$\n",
    "and also\n",
    "$$\n",
    "(x-0)(x-1)\\cdots(x-p+1) = x\\left(x^\\frac{p-1}{2}-1\\right)\\left(x^\\frac{p-1}{2}+1\\right)\n",
    "$$\n",
    "so\n",
    "$$\\left(x^\\frac{p-1}{2}-1\\right)$$\n",
    "must be a product of *half* the roots.\n",
    "\n",
    "Thereby,\n",
    "$$\n",
    "\\gcd(g, x^\\frac{p-1}{2}-1 ) \\in \\left\\{1, g, \\mbox{ proper divisor of g} \\right\\}.\n",
    "$$\n",
    "\n",
    "Notice the effect of shifting $x$ by $\\alpha \\in \\ZZ_p$:\n",
    "$$\n",
    "(x+\\alpha)^\\frac{p-1}{2}-1 = (x-\\sigma_0) \\cdots (x-\\sigma_k)\n",
    "$$\n",
    "for $\\sigma$ a permutation on $\\ZZ_p$ and $k = \\frac{p-1}2$.  In particular, we have merely pushed\n",
    "the roots around.\n",
    "\n",
    "Similarly,\n",
    "$$\n",
    "x^{p^k}-x = x(x^\\frac{p^k-1}2 - 1)(x^\\frac{p^k-1}2 + 1)\n",
    "$$\n",
    "is the product of *all* monic polynomials of degree $k$.  Thereby\n",
    "$$\n",
    "(x^\\frac{p^k-1}2 - 1)\n",
    "$$\n",
    "is a product of *half* the monic polynomials of degree $k$.\n",
    "\n",
    "##### Theorem\n",
    "Suppose $g_k \\in \\ZZ_p[x]$ is the product of monic polynomials of degree $k$.   Let $w$ be a *random* monic polynomial of degree $k$.  Then\n",
    "$$\n",
    "\\mbox{Prob}\\left[\\gcd(g_k, w^\\frac{p^k-1}2 - 1) \\not\\in \\left\\{1, g_k \\right\\}\\right] > \\frac12 - \\frac 1 {2p^2} \\geq \\frac49.\n",
    "$$\n",
    "\n",
    "Notice this means we have an algorithm for splitting the groups returned by the distinct degree factorization."
   ]
  },
  {
   "cell_type": "raw",
   "id": "923e77e4",
   "metadata": {},
   "source": [
    "def DISTINCT_DEGREE_SPLIT: \n",
    "    Input   a in ZZ_p[x] monic and d in ZZ such that a = g_1 * g_2 * ... * g_m, \n",
    "            g_k in \\ZZ_p[x] irreducible, and deg g_k = d\n",
    "    Output   [g_1, g_2, ..., g_m]\n",
    "\n",
    "    if degree(a) = d then\n",
    "        return [a]\n",
    "    end if\n",
    "\n",
    "    if degree(a) = 0 then\n",
    "        return []\n",
    "    end if\n",
    "    \n",
    "    w <- rand_monic_poly(d, p)               # Monte Carlo step\n",
    "    \n",
    "    g    <- Gcd(w^((p^d-1)/2)-1, a)          # Project:  Optimize this.\n",
    "    gbar <- Quo(a, g, x)\n",
    "\n",
    "    DDS = DISTINCT_DEGREE_SPLIT\n",
    "    return DDS(g, d) + DDS(gbar, d)          # + is list concatenation"
   ]
  },
  {
   "cell_type": "code",
   "execution_count": null,
   "id": "427592b7",
   "metadata": {},
   "outputs": [],
   "source": [
    "function dd_split(f::Polynomial, d::Int, prime::Int)::Vector{Polynomial}\n",
    "    f = mod(f,prime)\n",
    "    degree(f) == d && return [f]\n",
    "    degree(f) == 0 && return []\n",
    "    w = rand(Polynomial, degree = d, monic = true)\n",
    "    w = mod(w,prime)\n",
    "    n_power = (prime^d-1) ÷ 2\n",
    "    g = gcd(pow_mod(w,n_power,prime) - one(Polynomial), f, prime)\n",
    "    ḡ = (f ÷ g)(prime) # g\\bar + [TAB]\n",
    "    return vcat(dd_split(g, d, prime), dd_split(ḡ, d, prime) )\n",
    "end"
   ]
  },
  {
   "cell_type": "code",
   "execution_count": null,
   "id": "29e8e6cb",
   "metadata": {},
   "outputs": [],
   "source": [
    "dd_split(dds[2],2,prime)"
   ]
  },
  {
   "cell_type": "markdown",
   "id": "6fee41d8",
   "metadata": {},
   "source": [
    "### Factoring in $\\ZZ_p[x]$\n",
    "\n",
    "All that remains is to use utilize the previous two algorithms to factor an arbitrary polynomial from $\\ZZ_p[x]$."
   ]
  },
  {
   "cell_type": "raw",
   "id": "23da6f5a",
   "metadata": {},
   "source": [
    "# Cantor Zassenhaus Factorization #\n",
    "let DDF = DISTINCT_DEGREE_FACTORIZATION\n",
    "let DDS = DISTINCT_DEGREE_SPLIT\n",
    "\n",
    "def FACTOR():   \n",
    "    Input   a in ZZ_p[x]\n",
    "    Output   [[g1, d1], [g2, d2], ..., [gm, dm]] such that gk, irreducible, and\n",
    "            a ≡ g1^d1 * g2^d2 * ... * gm^dm (mod p)\n",
    "       \n",
    "    f <- a\n",
    "    \n",
    "    f <- Quo(f, content(f))        # make f primitive;\n",
    "    f <- Quo(f, lc(f), x)          # make f monic\n",
    "    f <- Quo(f, Gcd(f, f'))        # make f square-free\n",
    "    \n",
    "    [d1,...,dk] <- DDF(f)\n",
    "    [g1,...,gm] <- DDS(d1, 1) + ... + DDS(dk, k)   # + is list concatenation\n",
    "    [e1,...,em] <- [max(k in ZZ : e1^k | a),..., max(k in ZZ : em^k | a)]\n",
    "   \n",
    "    return [[lc(a), 1], [g1, e1], ..., [gm, em]]"
   ]
  },
  {
   "cell_type": "code",
   "execution_count": null,
   "id": "329c0598",
   "metadata": {},
   "outputs": [],
   "source": [
    "function factor(f::Polynomial, prime::Int)::Vector{Tuple{Polynomial,Int}}\n",
    "    #Cantor Zassenhaus factorization\n",
    "\n",
    "    f_modp = mod(f, prime)\n",
    "    degree(f_modp) ≤ 1 && return [(f_modp,1)]\n",
    "\n",
    "    # make f primitive\n",
    "    ff = prim_part(f_modp)(prime)      \n",
    "    # @show \"after prim:\", ff\n",
    "\n",
    "     # make f square-free\n",
    "    squares_poly = gcd(f, derivative(ff), prime) \n",
    "    ff = (ff ÷ squares_poly)(prime) \n",
    "    # @show \"after square free:\", ff\n",
    "\n",
    "    # make f monic\n",
    "    old_coeff = leading(ff).coeff\n",
    "    ff = (ff ÷ old_coeff)(prime)        \n",
    "    # @show \"after monic:\", ff\n",
    "\n",
    "    dds = dd_factor(ff, prime)\n",
    "\n",
    "    ret_val = Tuple{Polynomial,Int}[]\n",
    "\n",
    "    for (k,dd) in enumerate(dds)\n",
    "        sp = dd_split(dd, k, prime)\n",
    "        sp = map((p)->(p ÷ leading(p).coeff)(prime),sp) #makes the polynomials inside the list sp, monic\n",
    "        for mp in sp\n",
    "            push!(ret_val, (mp, multiplicity(f_modp,mp,prime)) )\n",
    "        end\n",
    "    end\n",
    "\n",
    "    #Append the leading coefficient as well\n",
    "    push!(ret_val, (leading(f_modp).coeff* one(Polynomial), 1) )\n",
    "\n",
    "    return ret_val\n",
    "end\n"
   ]
  },
  {
   "cell_type": "code",
   "execution_count": null,
   "id": "5836c366",
   "metadata": {},
   "outputs": [],
   "source": [
    "#Taken from example_script.jl\n",
    "prime = 17\n",
    "a = mod((7x^3 + 2x^2 + 8x + 1)*(x^2+x+1), prime)"
   ]
  },
  {
   "cell_type": "code",
   "execution_count": null,
   "id": "bb7501fd",
   "metadata": {},
   "outputs": [],
   "source": [
    "factorization = factor(a, prime)"
   ]
  },
  {
   "cell_type": "code",
   "execution_count": null,
   "id": "8159324b",
   "metadata": {},
   "outputs": [],
   "source": [
    "mod(expand_factorization(factorization), prime)"
   ]
  },
  {
   "cell_type": "markdown",
   "id": "9fa23b97",
   "metadata": {},
   "source": [
    "## Optimizing PowMod\n",
    "\n",
    "\n",
    "**Question:** How do we compute $\\gcd(a,x^{p^k}-x)$ when $k$ large?\n",
    "\n",
    "*Answer:* Use binary powering with remainder.\n",
    "\n",
    "Consider that there is a **foolish** way of calculating $8^{17^3} \\mod 17 \\ldots$\n",
    "$$\n",
    "    8^{17^3} = 7 \\mbox{[10,216 digts]} 8 \\mod 17 = 9 \\mod 17\n",
    "$$\n",
    "Here we are doing $8^{17^3}$ in $\\ZZ$ (not in $\\ZZ_p$).  *The first optimization is to fix this* by doing:\n",
    "$$\n",
    "(\\cdots((8 \\cdot 8 \\mod 17) \\cdot 8 \\mod 17) \\cdot \\cdots \\cdot 8 \\mod 17)\n",
    "$$\n",
    "instead.\n",
    "\n",
    "Second, we want to *many* less multiplications than $17^3$ many.  We can accomplish this via **repeated squaring** (also called binary powering).  Suppose we want to do $w^{103} \\mod m$.  First notice\n",
    "$$\n",
    "103 = 64 + 32 + 4 + 2 + 1 = (1100111)\n",
    "$$\n",
    "where $(x)_2$ is the binary representation of $x$.  Thereby\n",
    "$$\n",
    "w^{103} \\mod p = (w^{64}) \\cdot (w^{32}) \\cdot (w^4) \\cdot (w^2) \\cdot w^1 \\mod m\n",
    "$$\n",
    "So we just need to calculate\n",
    "$$\n",
    "\\begin{align*}\n",
    "&& s &\\gets w \\\\\n",
    "w^2 \\mod a && s &\\gets s^2 \\mod a \\\\\n",
    "w^4 \\mod a && s &\\gets s^2 \\mod a \\\\\n",
    "w^8 \\mod a && s &\\gets s^2 \\mod a \\\\\n",
    "w^{16} \\mod a && s &\\gets s^2 \\mod a \\\\\n",
    "w^{32} \\mod a && s &\\gets s^2 \\mod a \\\\\n",
    "w^{64} \\mod a && s &\\gets s^2 \\mod a \n",
    "\\end{align*}\n",
    "$$\n",
    "So, instead of doing $103$ multiplications we are doing less than $2 \\cdot 5 = 10$ multiplications (5 to get the squares, then worst case multiply those 5 squares together).\n",
    "\n",
    "Returning to $8^{17^3}$ we have \n",
    "$$17^3 = (1001100110001)_2 = 2^{12} + 2^9 + 2^8 + 2^5 + 2^4 + 2^0$$ \n",
    "So here we do 12 multiplications (to get the powers of two by squaring) and then 5 more to get\n",
    "$$\n",
    "8^{2^{12}} \\cdot 8^{2^9}  \\cdot 8^{2^8}  \\cdot 8^{2^5}  \\cdot 8^{2^4} \\cdot 8^{2^0}.\n",
    "$$\n",
    "\n",
    "For comparison, the naive method requires $17^3 = 4913$ multiplications.\n",
    "\n",
    "#### Task\n",
    "Implement a `PowMod(x, m, p)` which computes $x^m \\mod p$ using repeated squaring in $\\ZZ_p$."
   ]
  },
  {
   "cell_type": "raw",
   "id": "1439051d",
   "metadata": {},
   "source": [
    "def POWMOD:\n",
    "    Input   x in ZZ, m in ZZ such that m >= 0, p a prime.\n",
    "    Output   x^m mod p\n",
    "    \n",
    "    let m = b0*2^0 + b1*2^1 + ... + bk*2^k with bi in {0, 1}  # i.e. determine the binary representation of m\n",
    "    \n",
    "    ans, w = 1, x\n",
    "    \n",
    "    for i from 0 to k do\n",
    "        if bi == 1 then\n",
    "            ans *= w\n",
    "        w *= w\n",
    "    \n",
    "    return ans"
   ]
  },
  {
   "cell_type": "markdown",
   "id": "919275ba",
   "metadata": {},
   "source": [
    "## Implementation Hints\n",
    "\n",
    "### Addition of Sparse Polynomials\n",
    "You should *not* use indexing for sparse polynomials --- there is no relationship between term degree and its position in the terms vector.  Rather, limit yourself to *two* operations on polynomials:\n",
    "1.  Adding a single term `p + t` which we can abstract as `push!(p::PolynomialSparse, t::Term)`.\n",
    "1.  Removing the leading term `p - leading(p)` which we can abstract as `pop!(p::PolynomialSparse)::Term`.\n",
    "Note: The bang symbol `!` is used to indicate the function mutates its input."
   ]
  },
  {
   "cell_type": "raw",
   "id": "2884d867",
   "metadata": {},
   "source": [
    "def PUSH:\n",
    "    INPUT    p (a polynomial) in ZZ[x], t (term) in ZZ[x]\n",
    "    OUTPUT   p + t\n",
    "    \n",
    "    EXTEND p.terms by one cell\n",
    "    INSERT t into p.terms so that order is maintained"
   ]
  },
  {
   "cell_type": "raw",
   "id": "f9623509",
   "metadata": {},
   "source": [
    "def POP:\n",
    "    INPUT    p (a polynomial in ZZ[x])\n",
    "    OUTPUT   leading term of p\n",
    "    MUTATE   p gets p - leading(p)\n",
    "    \n",
    "    if p is the zero polynomial then\n",
    "        return zero term\n",
    "    end if\n",
    "    \n",
    "    lt <- p.terms[1]   # or perhaps p.terms[length(p)]\n",
    "    DELETE the empty cell in p.terms\n",
    "    \n",
    "    return lt"
   ]
  },
  {
   "cell_type": "raw",
   "id": "038bec37",
   "metadata": {},
   "source": [
    "def ADD:\n",
    "    INPUT   p and q (polynomials) in ZZ[x]\n",
    "    OUTPUT  p + q\n",
    "    \n",
    "    p', q' = copy(p), copy(q)  # since pop is destructive\n",
    "    ans = zero polynomial      # initialize\n",
    "    \n",
    "    while p' is not zero or q' is not zero do\n",
    "         if degree(p') == degree(q'):\n",
    "             ltp, ltq = POP(p'), pop(q')\n",
    "             if ltp + ltq <> zero then\n",
    "                 PUSH (ltp+ltq) into ans   # + is addition of term\n",
    "             end if\n",
    "         end if\n",
    "\n",
    "         if degree(p') > degree(q'):\n",
    "             PUSH POP(p') into ans\n",
    "         end if\n",
    "         \n",
    "         if degree(p') < degree(q'):\n",
    "             PUSH POP(q') into ans\n",
    "         end if\n",
    "             \n",
    "    return ans"
   ]
  },
  {
   "cell_type": "markdown",
   "id": "a6e4d2b8",
   "metadata": {},
   "source": [
    "### Heaps\n",
    "\n",
    "A sparse polynomial is most naturally represented as a (max) heap of terms.  You do not have to use them but learning them may be easier than implementing your own pop and push."
   ]
  },
  {
   "cell_type": "code",
   "execution_count": null,
   "id": "2f84add6",
   "metadata": {},
   "outputs": [],
   "source": [
    "using DataStructures"
   ]
  },
  {
   "cell_type": "code",
   "execution_count": null,
   "id": "25fdfd83",
   "metadata": {
    "scrolled": true
   },
   "outputs": [],
   "source": [
    "h = BinaryMaxHeap{Int}();"
   ]
  },
  {
   "cell_type": "code",
   "execution_count": null,
   "id": "6054d175",
   "metadata": {},
   "outputs": [],
   "source": [
    "push!(h, 1);\n",
    "push!(h, 2);\n",
    "push!(h, 3);\n",
    "push!(h, 4);"
   ]
  },
  {
   "cell_type": "code",
   "execution_count": null,
   "id": "0e39766b",
   "metadata": {},
   "outputs": [],
   "source": [
    "first(h)   # look at max element without removing it (leading term!)"
   ]
  },
  {
   "cell_type": "code",
   "execution_count": null,
   "id": "4904f0de",
   "metadata": {},
   "outputs": [],
   "source": [
    "pop!(h)"
   ]
  },
  {
   "cell_type": "code",
   "execution_count": null,
   "id": "de11eb61",
   "metadata": {},
   "outputs": [],
   "source": [
    "first(h)"
   ]
  },
  {
   "cell_type": "code",
   "execution_count": null,
   "id": "7a632298",
   "metadata": {},
   "outputs": [],
   "source": [
    "pop!(h)"
   ]
  },
  {
   "cell_type": "raw",
   "id": "38d2d476",
   "metadata": {},
   "source": [
    "# Let `h` be a heap, `v` be a value, and `n` be an integer size\n",
    "\n",
    "length(h)            # returns the number of elements\n",
    "\n",
    "isempty(h)           # returns whether the heap is empty\n",
    "\n",
    "push!(h, v)          # add a value to the heap\n",
    "\n",
    "first(h)             # return the first (top) value of a heap\n",
    "\n",
    "pop!(h)              # removes the first (top) value, and returns it\n",
    "\n",
    "extract_all!(h)      # removes all elements and returns sorted array"
   ]
  },
  {
   "cell_type": "markdown",
   "id": "02e633a4",
   "metadata": {},
   "source": [
    "### Custom Ordering"
   ]
  },
  {
   "cell_type": "code",
   "execution_count": null,
   "id": "af98af38",
   "metadata": {},
   "outputs": [],
   "source": [
    "h = BinaryMaxHeap([Term(3,3), Term(2,2), Term(4,4), Term(1,1)]);"
   ]
  },
  {
   "cell_type": "code",
   "execution_count": null,
   "id": "b3f8eeaf",
   "metadata": {},
   "outputs": [],
   "source": [
    "first(h)   # leading term"
   ]
  },
  {
   "cell_type": "code",
   "execution_count": null,
   "id": "f31c74df",
   "metadata": {},
   "outputs": [],
   "source": [
    "pop!(h)"
   ]
  },
  {
   "cell_type": "code",
   "execution_count": null,
   "id": "dbee6b7c",
   "metadata": {},
   "outputs": [],
   "source": [
    "push!(h, Term(10, 10));"
   ]
  },
  {
   "cell_type": "code",
   "execution_count": null,
   "id": "ffa08826",
   "metadata": {},
   "outputs": [],
   "source": [
    "pop!(h)"
   ]
  },
  {
   "cell_type": "code",
   "execution_count": null,
   "id": "583195ed",
   "metadata": {},
   "outputs": [],
   "source": [
    "pop!(h)"
   ]
  },
  {
   "cell_type": "code",
   "execution_count": null,
   "id": "319ec6ce",
   "metadata": {},
   "outputs": [],
   "source": [
    "pop!(h)"
   ]
  },
  {
   "cell_type": "code",
   "execution_count": null,
   "id": "d1db8f2e",
   "metadata": {},
   "outputs": [],
   "source": [
    "pop!(h)"
   ]
  },
  {
   "cell_type": "markdown",
   "id": "0050cf14",
   "metadata": {},
   "source": [
    "END"
   ]
  }
 ],
 "metadata": {
  "kernelspec": {
   "display_name": "Julia 1.8.1",
   "language": "julia",
   "name": "julia-1.8"
  },
  "language_info": {
   "file_extension": ".jl",
   "mimetype": "application/julia",
   "name": "julia",
   "version": "1.8.1"
  }
 },
 "nbformat": 4,
 "nbformat_minor": 5
}
