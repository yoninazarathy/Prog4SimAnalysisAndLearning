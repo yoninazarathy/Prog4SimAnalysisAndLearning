{
 "cells": [
  {
   "cell_type": "code",
   "execution_count": null,
   "metadata": {},
   "outputs": [],
   "source": [
    "#Initialization "
   ]
  },
  {
   "cell_type": "code",
   "execution_count": 3,
   "metadata": {},
   "outputs": [
    {
     "data": {
      "text/plain": [
       "do_timing (generic function with 1 method)"
      ]
     },
     "execution_count": 3,
     "metadata": {},
     "output_type": "execute_result"
    }
   ],
   "source": [
    "function do_timing()\n",
    "    times = Vector{Float64}(undef,0) #Initialization\n",
    "#     n_range = 500 : 500 : 10^4 \n",
    "#     for n in n_range\n",
    "#         data = rand(Int64, n)\n",
    "#         start_time = time_ns()\n",
    "#         bubble_sort!(data[1:n])\n",
    "#         end_time = time_ns()\n",
    "#         push!(times, Int(end_time - start_time)/10^6) #time in milliseconds\n",
    "#     end\n",
    "#     return times, n_range\n",
    "end"
   ]
  },
  {
   "cell_type": "code",
   "execution_count": 4,
   "metadata": {},
   "outputs": [
    {
     "data": {
      "text/plain": [
       "Float64[]"
      ]
     },
     "execution_count": 4,
     "metadata": {},
     "output_type": "execute_result"
    }
   ],
   "source": [
    "do_timing()"
   ]
  },
  {
   "cell_type": "code",
   "execution_count": 9,
   "metadata": {},
   "outputs": [
    {
     "data": {
      "text/plain": [
       "2-element Vector{Any}:\n",
       "  \"hello\"\n",
       " 3.14"
      ]
     },
     "execution_count": 9,
     "metadata": {},
     "output_type": "execute_result"
    }
   ],
   "source": [
    "array = [] #An array of \"anything\" Any\n",
    "push!(array,\"hello\")\n",
    "push!(array,3.14)"
   ]
  },
  {
   "cell_type": "code",
   "execution_count": 6,
   "metadata": {},
   "outputs": [
    {
     "data": {
      "text/plain": [
       "3.14"
      ]
     },
     "execution_count": 6,
     "metadata": {},
     "output_type": "execute_result"
    }
   ],
   "source": [
    "array[2]"
   ]
  },
  {
   "cell_type": "code",
   "execution_count": 8,
   "metadata": {},
   "outputs": [
    {
     "data": {
      "text/plain": [
       "String"
      ]
     },
     "execution_count": 8,
     "metadata": {},
     "output_type": "execute_result"
    }
   ],
   "source": [
    "typeof(array[1])"
   ]
  },
  {
   "cell_type": "code",
   "execution_count": 7,
   "metadata": {},
   "outputs": [
    {
     "data": {
      "text/plain": [
       "Float64"
      ]
     },
     "execution_count": 7,
     "metadata": {},
     "output_type": "execute_result"
    }
   ],
   "source": [
    "typeof(array[2])"
   ]
  },
  {
   "cell_type": "code",
   "execution_count": 11,
   "metadata": {},
   "outputs": [
    {
     "data": {
      "text/plain": [
       "1-element Vector{Float64}:\n",
       " 3.14"
      ]
     },
     "execution_count": 11,
     "metadata": {},
     "output_type": "execute_result"
    }
   ],
   "source": [
    "array = Vector{Float64}(undef,0) #Initialization\n",
    "push!(array,3.14)"
   ]
  },
  {
   "cell_type": "code",
   "execution_count": 12,
   "metadata": {},
   "outputs": [
    {
     "ename": "LoadError",
     "evalue": "MethodError: \u001b[0mCannot `convert` an object of type \u001b[92mString\u001b[39m\u001b[0m to an object of type \u001b[91mFloat64\u001b[39m\n\u001b[0mClosest candidates are:\n\u001b[0m  convert(::Type{T}, \u001b[91m::T\u001b[39m) where T<:Number at /Applications/Julia-1.7.app/Contents/Resources/julia/share/julia/base/number.jl:6\n\u001b[0m  convert(::Type{T}, \u001b[91m::Number\u001b[39m) where T<:Number at /Applications/Julia-1.7.app/Contents/Resources/julia/share/julia/base/number.jl:7\n\u001b[0m  convert(::Type{T}, \u001b[91m::Base.TwicePrecision\u001b[39m) where T<:Number at /Applications/Julia-1.7.app/Contents/Resources/julia/share/julia/base/twiceprecision.jl:262\n\u001b[0m  ...",
     "output_type": "error",
     "traceback": [
      "MethodError: \u001b[0mCannot `convert` an object of type \u001b[92mString\u001b[39m\u001b[0m to an object of type \u001b[91mFloat64\u001b[39m\n\u001b[0mClosest candidates are:\n\u001b[0m  convert(::Type{T}, \u001b[91m::T\u001b[39m) where T<:Number at /Applications/Julia-1.7.app/Contents/Resources/julia/share/julia/base/number.jl:6\n\u001b[0m  convert(::Type{T}, \u001b[91m::Number\u001b[39m) where T<:Number at /Applications/Julia-1.7.app/Contents/Resources/julia/share/julia/base/number.jl:7\n\u001b[0m  convert(::Type{T}, \u001b[91m::Base.TwicePrecision\u001b[39m) where T<:Number at /Applications/Julia-1.7.app/Contents/Resources/julia/share/julia/base/twiceprecision.jl:262\n\u001b[0m  ...",
      "",
      "Stacktrace:",
      " [1] push!(a::Vector{Float64}, item::String)",
      "   @ Base ./array.jl:994",
      " [2] top-level scope",
      "   @ In[12]:1",
      " [3] eval",
      "   @ ./boot.jl:373 [inlined]",
      " [4] include_string(mapexpr::typeof(REPL.softscope), mod::Module, code::String, filename::String)",
      "   @ Base ./loading.jl:1196"
     ]
    }
   ],
   "source": [
    "push!(array,\"hello\")"
   ]
  },
  {
   "cell_type": "code",
   "execution_count": 13,
   "metadata": {},
   "outputs": [
    {
     "data": {
      "text/plain": [
       "UndefInitializer(): array initializer with undefined values"
      ]
     },
     "execution_count": 13,
     "metadata": {},
     "output_type": "execute_result"
    }
   ],
   "source": [
    "undef"
   ]
  },
  {
   "cell_type": "code",
   "execution_count": 15,
   "metadata": {},
   "outputs": [
    {
     "data": {
      "text/plain": [
       "NaN"
      ]
     },
     "execution_count": 15,
     "metadata": {},
     "output_type": "execute_result"
    }
   ],
   "source": [
    "NaN"
   ]
  },
  {
   "cell_type": "code",
   "execution_count": 16,
   "metadata": {},
   "outputs": [],
   "source": [
    "nothing"
   ]
  },
  {
   "cell_type": "code",
   "execution_count": 17,
   "metadata": {},
   "outputs": [
    {
     "data": {
      "text/plain": [
       "6"
      ]
     },
     "execution_count": 17,
     "metadata": {},
     "output_type": "execute_result"
    }
   ],
   "source": [
    "13 ÷ 2"
   ]
  },
  {
   "cell_type": "code",
   "execution_count": 19,
   "metadata": {},
   "outputs": [
    {
     "data": {
      "text/plain": [
       "true"
      ]
     },
     "execution_count": 19,
     "metadata": {},
     "output_type": "execute_result"
    }
   ],
   "source": [
    "8 ÷ 2 == 8/2"
   ]
  },
  {
   "cell_type": "code",
   "execution_count": 20,
   "metadata": {},
   "outputs": [
    {
     "data": {
      "text/plain": [
       "sieve_of_evens (generic function with 1 method)"
      ]
     },
     "execution_count": 20,
     "metadata": {},
     "output_type": "execute_result"
    }
   ],
   "source": [
    "function sieve_of_evens(n)\n",
    "#    return [2i for i in 1:(n ÷ 2)] #\\div integer division \n",
    "    array = []\n",
    "    for i in 1:n\n",
    "        if i ÷ 2 == i/2\n",
    "            push!(array,i)\n",
    "        end\n",
    "    end\n",
    "    return array\n",
    "end"
   ]
  },
  {
   "cell_type": "code",
   "execution_count": 21,
   "metadata": {},
   "outputs": [
    {
     "data": {
      "text/plain": [
       "5-element Vector{Any}:\n",
       "  2\n",
       "  4\n",
       "  6\n",
       "  8\n",
       " 10"
      ]
     },
     "execution_count": 21,
     "metadata": {},
     "output_type": "execute_result"
    }
   ],
   "source": [
    "sieve_of_evens(11)"
   ]
  },
  {
   "cell_type": "code",
   "execution_count": 28,
   "metadata": {},
   "outputs": [
    {
     "data": {
      "text/plain": [
       "find_evens_divisible_by_3 (generic function with 1 method)"
      ]
     },
     "execution_count": 28,
     "metadata": {},
     "output_type": "execute_result"
    }
   ],
   "source": [
    "#returns all the even positive integers that are also divisible by 3\n",
    "function find_evens_divisible_by_3(n)\n",
    "    @show \"calling my find evens on $n\"\n",
    "    array =Vector{Int}(undef,0)\n",
    "    for i in sieve_of_evens(n)\n",
    "        if i ÷ 3 == i/3\n",
    "            push!(array,i)\n",
    "        end\n",
    "    end\n",
    "    return array\n",
    "end"
   ]
  },
  {
   "cell_type": "code",
   "execution_count": 24,
   "metadata": {},
   "outputs": [
    {
     "data": {
      "text/plain": [
       "4-element Vector{Int64}:\n",
       "  6\n",
       " 12\n",
       " 18\n",
       " 24"
      ]
     },
     "execution_count": 24,
     "metadata": {},
     "output_type": "execute_result"
    }
   ],
   "source": [
    "find_evens_divisible_by_3(25)"
   ]
  },
  {
   "cell_type": "code",
   "execution_count": 25,
   "metadata": {},
   "outputs": [
    {
     "data": {
      "text/plain": [
       "166666-element Vector{Int64}:\n",
       "      6\n",
       "     12\n",
       "     18\n",
       "     24\n",
       "     30\n",
       "     36\n",
       "     42\n",
       "     48\n",
       "     54\n",
       "     60\n",
       "     66\n",
       "     72\n",
       "     78\n",
       "      ⋮\n",
       " 999930\n",
       " 999936\n",
       " 999942\n",
       " 999948\n",
       " 999954\n",
       " 999960\n",
       " 999966\n",
       " 999972\n",
       " 999978\n",
       " 999984\n",
       " 999990\n",
       " 999996"
      ]
     },
     "execution_count": 25,
     "metadata": {},
     "output_type": "execute_result"
    }
   ],
   "source": [
    "find_evens_divisible_by_3(10^6)"
   ]
  },
  {
   "cell_type": "code",
   "execution_count": 26,
   "metadata": {},
   "outputs": [
    {
     "data": {
      "text/plain": [
       "2-element Vector{Int64}:\n",
       "  9\n",
       " 49"
      ]
     },
     "execution_count": 26,
     "metadata": {},
     "output_type": "execute_result"
    }
   ],
   "source": [
    "function my_f(x)\n",
    "    return x^2\n",
    "end\n",
    "\n",
    "my_f.([3,7])"
   ]
  },
  {
   "cell_type": "code",
   "execution_count": 29,
   "metadata": {},
   "outputs": [
    {
     "name": "stdout",
     "output_type": "stream",
     "text": [
      "\"calling my find evens on $(n)\" = \"calling my find evens on 10\"\n",
      "\"calling my find evens on $(n)\" = \"calling my find evens on 20\"\n"
     ]
    },
    {
     "data": {
      "text/plain": [
       "2-element Vector{Vector{Int64}}:\n",
       " [6]\n",
       " [6, 12, 18]"
      ]
     },
     "execution_count": 29,
     "metadata": {},
     "output_type": "execute_result"
    }
   ],
   "source": [
    "find_evens_divisible_by_3.([10,20]) #broadcasting"
   ]
  },
  {
   "cell_type": "code",
   "execution_count": 31,
   "metadata": {},
   "outputs": [],
   "source": [
    "for _ in 1:100\n",
    "    my_data = rand(10^6)\n",
    "end"
   ]
  },
  {
   "cell_type": "code",
   "execution_count": 36,
   "metadata": {},
   "outputs": [],
   "source": [
    "using Plots"
   ]
  },
  {
   "cell_type": "code",
   "execution_count": 37,
   "metadata": {},
   "outputs": [
    {
     "data": {
      "text/plain": [
       "8-element Vector{Int64}:\n",
       "  1\n",
       " 12\n",
       " 23\n",
       " 32\n",
       " 51\n",
       " 65\n",
       " 68\n",
       " 84"
      ]
     },
     "execution_count": 37,
     "metadata": {},
     "output_type": "execute_result"
    }
   ],
   "source": [
    "using Random, DataStructures\n",
    "Random.seed!(0)\n",
    "\n",
    "\n",
    "function heap_sort!(a::AbstractArray)\n",
    "    h = BinaryMinHeap{eltype(a)}()\n",
    "    for e in a\n",
    "        push!(h, e) #This is an O(log n) operation\n",
    "    end\n",
    "    \n",
    "    #Write back onto the original array\n",
    "    for i in 1:length(a)\n",
    "        a[i] = pop!(h) #This is an O(log n) operation\n",
    "    end\n",
    "    return a\n",
    "end\n",
    "\n",
    "data = [65, 51, 32, 12, 23, 84, 68, 1]\n",
    "heap_sort!(data)\n",
    "data"
   ]
  },
  {
   "cell_type": "code",
   "execution_count": 40,
   "metadata": {},
   "outputs": [
    {
     "data": {
      "image/svg+xml": [
       "<?xml version=\"1.0\" encoding=\"utf-8\"?>\n",
       "<svg xmlns=\"http://www.w3.org/2000/svg\" xmlns:xlink=\"http://www.w3.org/1999/xlink\" width=\"600\" height=\"400\" viewBox=\"0 0 2400 1600\">\n",
       "<defs>\n",
       "  <clipPath id=\"clip790\">\n",
       "    <rect x=\"0\" y=\"0\" width=\"2400\" height=\"1600\"/>\n",
       "  </clipPath>\n",
       "</defs>\n",
       "<path clip-path=\"url(#clip790)\" d=\"\n",
       "M0 1600 L2400 1600 L2400 0 L0 0  Z\n",
       "  \" fill=\"#ffffff\" fill-rule=\"evenodd\" fill-opacity=\"1\"/>\n",
       "<defs>\n",
       "  <clipPath id=\"clip791\">\n",
       "    <rect x=\"480\" y=\"0\" width=\"1681\" height=\"1600\"/>\n",
       "  </clipPath>\n",
       "</defs>\n",
       "<path clip-path=\"url(#clip790)\" d=\"\n",
       "M234.125 1410.9 L2352.76 1410.9 L2352.76 47.2441 L234.125 47.2441  Z\n",
       "  \" fill=\"#ffffff\" fill-rule=\"evenodd\" fill-opacity=\"1\"/>\n",
       "<defs>\n",
       "  <clipPath id=\"clip792\">\n",
       "    <rect x=\"234\" y=\"47\" width=\"2120\" height=\"1365\"/>\n",
       "  </clipPath>\n",
       "</defs>\n",
       "<polyline clip-path=\"url(#clip792)\" style=\"stroke:#000000; stroke-linecap:butt; stroke-linejoin:round; stroke-width:2; stroke-opacity:0.1; fill:none\" points=\"\n",
       "  273.898,1410.9 273.898,47.2441 \n",
       "  \"/>\n",
       "<polyline clip-path=\"url(#clip792)\" style=\"stroke:#000000; stroke-linecap:butt; stroke-linejoin:round; stroke-width:2; stroke-opacity:0.1; fill:none\" points=\"\n",
       "  778.622,1410.9 778.622,47.2441 \n",
       "  \"/>\n",
       "<polyline clip-path=\"url(#clip792)\" style=\"stroke:#000000; stroke-linecap:butt; stroke-linejoin:round; stroke-width:2; stroke-opacity:0.1; fill:none\" points=\"\n",
       "  1283.35,1410.9 1283.35,47.2441 \n",
       "  \"/>\n",
       "<polyline clip-path=\"url(#clip792)\" style=\"stroke:#000000; stroke-linecap:butt; stroke-linejoin:round; stroke-width:2; stroke-opacity:0.1; fill:none\" points=\"\n",
       "  1788.07,1410.9 1788.07,47.2441 \n",
       "  \"/>\n",
       "<polyline clip-path=\"url(#clip792)\" style=\"stroke:#000000; stroke-linecap:butt; stroke-linejoin:round; stroke-width:2; stroke-opacity:0.1; fill:none\" points=\"\n",
       "  2292.79,1410.9 2292.79,47.2441 \n",
       "  \"/>\n",
       "<polyline clip-path=\"url(#clip790)\" style=\"stroke:#000000; stroke-linecap:butt; stroke-linejoin:round; stroke-width:4; stroke-opacity:1; fill:none\" points=\"\n",
       "  234.125,1410.9 2352.76,1410.9 \n",
       "  \"/>\n",
       "<polyline clip-path=\"url(#clip790)\" style=\"stroke:#000000; stroke-linecap:butt; stroke-linejoin:round; stroke-width:4; stroke-opacity:1; fill:none\" points=\"\n",
       "  273.898,1410.9 273.898,1392 \n",
       "  \"/>\n",
       "<polyline clip-path=\"url(#clip790)\" style=\"stroke:#000000; stroke-linecap:butt; stroke-linejoin:round; stroke-width:4; stroke-opacity:1; fill:none\" points=\"\n",
       "  778.622,1410.9 778.622,1392 \n",
       "  \"/>\n",
       "<polyline clip-path=\"url(#clip790)\" style=\"stroke:#000000; stroke-linecap:butt; stroke-linejoin:round; stroke-width:4; stroke-opacity:1; fill:none\" points=\"\n",
       "  1283.35,1410.9 1283.35,1392 \n",
       "  \"/>\n",
       "<polyline clip-path=\"url(#clip790)\" style=\"stroke:#000000; stroke-linecap:butt; stroke-linejoin:round; stroke-width:4; stroke-opacity:1; fill:none\" points=\"\n",
       "  1788.07,1410.9 1788.07,1392 \n",
       "  \"/>\n",
       "<polyline clip-path=\"url(#clip790)\" style=\"stroke:#000000; stroke-linecap:butt; stroke-linejoin:round; stroke-width:4; stroke-opacity:1; fill:none\" points=\"\n",
       "  2292.79,1410.9 2292.79,1392 \n",
       "  \"/>\n",
       "<path clip-path=\"url(#clip790)\" d=\"M273.898 1441.82 Q270.287 1441.82 268.458 1445.38 Q266.652 1448.92 266.652 1456.05 Q266.652 1463.16 268.458 1466.72 Q270.287 1470.26 273.898 1470.26 Q277.532 1470.26 279.338 1466.72 Q281.166 1463.16 281.166 1456.05 Q281.166 1448.92 279.338 1445.38 Q277.532 1441.82 273.898 1441.82 M273.898 1438.11 Q279.708 1438.11 282.763 1442.72 Q285.842 1447.3 285.842 1456.05 Q285.842 1464.78 282.763 1469.38 Q279.708 1473.97 273.898 1473.97 Q268.088 1473.97 265.009 1469.38 Q261.953 1464.78 261.953 1456.05 Q261.953 1447.3 265.009 1442.72 Q268.088 1438.11 273.898 1438.11 Z\" fill=\"#000000\" fill-rule=\"evenodd\" fill-opacity=\"1\" /><path clip-path=\"url(#clip790)\" d=\"M675.673 1485.02 L691.992 1485.02 L691.992 1488.96 L670.048 1488.96 L670.048 1485.02 Q672.71 1482.27 677.293 1477.64 Q681.899 1472.98 683.08 1471.64 Q685.325 1469.12 686.205 1467.38 Q687.108 1465.62 687.108 1463.93 Q687.108 1461.18 685.163 1459.44 Q683.242 1457.71 680.14 1457.71 Q677.941 1457.71 675.487 1458.47 Q673.057 1459.23 670.279 1460.79 L670.279 1456.06 Q673.103 1454.93 675.557 1454.35 Q678.011 1453.77 680.048 1453.77 Q685.418 1453.77 688.612 1456.46 Q691.807 1459.14 691.807 1463.63 Q691.807 1465.76 690.997 1467.68 Q690.21 1469.58 688.103 1472.17 Q687.524 1472.85 684.423 1476.06 Q681.321 1479.26 675.673 1485.02 Z\" fill=\"#000000\" fill-rule=\"evenodd\" fill-opacity=\"1\" /><path clip-path=\"url(#clip790)\" d=\"M701.807 1483.08 L706.691 1483.08 L706.691 1488.96 L701.807 1488.96 L701.807 1483.08 Z\" fill=\"#000000\" fill-rule=\"evenodd\" fill-opacity=\"1\" /><path clip-path=\"url(#clip790)\" d=\"M716.922 1454.4 L735.279 1454.4 L735.279 1458.33 L721.205 1458.33 L721.205 1466.8 Q722.223 1466.46 723.242 1466.29 Q724.26 1466.11 725.279 1466.11 Q731.066 1466.11 734.445 1469.28 Q737.825 1472.45 737.825 1477.87 Q737.825 1483.45 734.353 1486.55 Q730.881 1489.63 724.561 1489.63 Q722.385 1489.63 720.117 1489.26 Q717.871 1488.89 715.464 1488.15 L715.464 1483.45 Q717.547 1484.58 719.77 1485.14 Q721.992 1485.69 724.469 1485.69 Q728.473 1485.69 730.811 1483.59 Q733.149 1481.48 733.149 1477.87 Q733.149 1474.26 730.811 1472.15 Q728.473 1470.04 724.469 1470.04 Q722.594 1470.04 720.719 1470.46 Q718.867 1470.88 716.922 1471.76 L716.922 1454.4 Z\" fill=\"#000000\" fill-rule=\"evenodd\" fill-opacity=\"1\" /><path clip-path=\"url(#clip790)\" d=\"M757.038 1457.48 Q753.427 1457.48 751.598 1461.04 Q749.793 1464.58 749.793 1471.71 Q749.793 1478.82 751.598 1482.38 Q753.427 1485.92 757.038 1485.92 Q760.672 1485.92 762.478 1482.38 Q764.306 1478.82 764.306 1471.71 Q764.306 1464.58 762.478 1461.04 Q760.672 1457.48 757.038 1457.48 M757.038 1453.77 Q762.848 1453.77 765.904 1458.38 Q768.982 1462.96 768.982 1471.71 Q768.982 1480.44 765.904 1485.04 Q762.848 1489.63 757.038 1489.63 Q751.228 1489.63 748.149 1485.04 Q745.093 1480.44 745.093 1471.71 Q745.093 1462.96 748.149 1458.38 Q751.228 1453.77 757.038 1453.77 Z\" fill=\"#000000\" fill-rule=\"evenodd\" fill-opacity=\"1\" /><path clip-path=\"url(#clip790)\" d=\"M805.371 1463.49 L794.792 1474.12 L805.371 1484.7 L802.616 1487.5 L791.991 1476.87 L781.366 1487.5 L778.635 1484.7 L789.19 1474.12 L778.635 1463.49 L781.366 1460.69 L791.991 1471.32 L802.616 1460.69 L805.371 1463.49 Z\" fill=\"#000000\" fill-rule=\"evenodd\" fill-opacity=\"1\" /><path clip-path=\"url(#clip790)\" d=\"M817.732 1485.02 L825.371 1485.02 L825.371 1458.66 L817.061 1460.32 L817.061 1456.06 L825.325 1454.4 L830 1454.4 L830 1485.02 L837.639 1485.02 L837.639 1488.96 L817.732 1488.96 L817.732 1485.02 Z\" fill=\"#000000\" fill-rule=\"evenodd\" fill-opacity=\"1\" /><path clip-path=\"url(#clip790)\" d=\"M857.084 1457.48 Q853.473 1457.48 851.644 1461.04 Q849.838 1464.58 849.838 1471.71 Q849.838 1478.82 851.644 1482.38 Q853.473 1485.92 857.084 1485.92 Q860.718 1485.92 862.523 1482.38 Q864.352 1478.82 864.352 1471.71 Q864.352 1464.58 862.523 1461.04 Q860.718 1457.48 857.084 1457.48 M857.084 1453.77 Q862.894 1453.77 865.949 1458.38 Q869.028 1462.96 869.028 1471.71 Q869.028 1480.44 865.949 1485.04 Q862.894 1489.63 857.084 1489.63 Q851.273 1489.63 848.195 1485.04 Q845.139 1480.44 845.139 1471.71 Q845.139 1462.96 848.195 1458.38 Q851.273 1453.77 857.084 1453.77 Z\" fill=\"#000000\" fill-rule=\"evenodd\" fill-opacity=\"1\" /><path clip-path=\"url(#clip790)\" d=\"M870.213 1433.47 L885.127 1433.47 L885.127 1436.66 L873.692 1436.66 L873.692 1443.55 Q874.52 1443.27 875.347 1443.13 Q876.175 1442.98 877.003 1442.98 Q881.704 1442.98 884.45 1445.56 Q887.196 1448.14 887.196 1452.54 Q887.196 1457.07 884.375 1459.59 Q881.554 1462.09 876.419 1462.09 Q874.652 1462.09 872.808 1461.79 Q870.984 1461.49 869.028 1460.89 L869.028 1457.07 Q870.721 1457.99 872.526 1458.44 Q874.332 1458.89 876.344 1458.89 Q879.598 1458.89 881.498 1457.18 Q883.397 1455.47 883.397 1452.54 Q883.397 1449.6 881.498 1447.89 Q879.598 1446.18 876.344 1446.18 Q874.821 1446.18 873.297 1446.52 Q871.793 1446.86 870.213 1447.57 L870.213 1433.47 Z\" fill=\"#000000\" fill-rule=\"evenodd\" fill-opacity=\"1\" /><path clip-path=\"url(#clip790)\" d=\"M1176.32 1454.4 L1194.68 1454.4 L1194.68 1458.33 L1180.61 1458.33 L1180.61 1466.8 Q1181.62 1466.46 1182.64 1466.29 Q1183.66 1466.11 1184.68 1466.11 Q1190.47 1466.11 1193.85 1469.28 Q1197.23 1472.45 1197.23 1477.87 Q1197.23 1483.45 1193.75 1486.55 Q1190.28 1489.63 1183.96 1489.63 Q1181.79 1489.63 1179.52 1489.26 Q1177.27 1488.89 1174.86 1488.15 L1174.86 1483.45 Q1176.95 1484.58 1179.17 1485.14 Q1181.39 1485.69 1183.87 1485.69 Q1187.87 1485.69 1190.21 1483.59 Q1192.55 1481.48 1192.55 1477.87 Q1192.55 1474.26 1190.21 1472.15 Q1187.87 1470.04 1183.87 1470.04 Q1181.99 1470.04 1180.12 1470.46 Q1178.27 1470.88 1176.32 1471.76 L1176.32 1454.4 Z\" fill=\"#000000\" fill-rule=\"evenodd\" fill-opacity=\"1\" /><path clip-path=\"url(#clip790)\" d=\"M1206.44 1483.08 L1211.32 1483.08 L1211.32 1488.96 L1206.44 1488.96 L1206.44 1483.08 Z\" fill=\"#000000\" fill-rule=\"evenodd\" fill-opacity=\"1\" /><path clip-path=\"url(#clip790)\" d=\"M1231.51 1457.48 Q1227.9 1457.48 1226.07 1461.04 Q1224.26 1464.58 1224.26 1471.71 Q1224.26 1478.82 1226.07 1482.38 Q1227.9 1485.92 1231.51 1485.92 Q1235.14 1485.92 1236.95 1482.38 Q1238.78 1478.82 1238.78 1471.71 Q1238.78 1464.58 1236.95 1461.04 Q1235.14 1457.48 1231.51 1457.48 M1231.51 1453.77 Q1237.32 1453.77 1240.37 1458.38 Q1243.45 1462.96 1243.45 1471.71 Q1243.45 1480.44 1240.37 1485.04 Q1237.32 1489.63 1231.51 1489.63 Q1225.7 1489.63 1222.62 1485.04 Q1219.56 1480.44 1219.56 1471.71 Q1219.56 1462.96 1222.62 1458.38 Q1225.7 1453.77 1231.51 1453.77 Z\" fill=\"#000000\" fill-rule=\"evenodd\" fill-opacity=\"1\" /><path clip-path=\"url(#clip790)\" d=\"M1261.67 1457.48 Q1258.06 1457.48 1256.23 1461.04 Q1254.42 1464.58 1254.42 1471.71 Q1254.42 1478.82 1256.23 1482.38 Q1258.06 1485.92 1261.67 1485.92 Q1265.3 1485.92 1267.11 1482.38 Q1268.94 1478.82 1268.94 1471.71 Q1268.94 1464.58 1267.11 1461.04 Q1265.3 1457.48 1261.67 1457.48 M1261.67 1453.77 Q1267.48 1453.77 1270.54 1458.38 Q1273.61 1462.96 1273.61 1471.71 Q1273.61 1480.44 1270.54 1485.04 Q1267.48 1489.63 1261.67 1489.63 Q1255.86 1489.63 1252.78 1485.04 Q1249.73 1480.44 1249.73 1471.71 Q1249.73 1462.96 1252.78 1458.38 Q1255.86 1453.77 1261.67 1453.77 Z\" fill=\"#000000\" fill-rule=\"evenodd\" fill-opacity=\"1\" /><path clip-path=\"url(#clip790)\" d=\"M1310 1463.49 L1299.42 1474.12 L1310 1484.7 L1307.25 1487.5 L1296.62 1476.87 L1286 1487.5 L1283.27 1484.7 L1293.82 1474.12 L1283.27 1463.49 L1286 1460.69 L1296.62 1471.32 L1307.25 1460.69 L1310 1463.49 Z\" fill=\"#000000\" fill-rule=\"evenodd\" fill-opacity=\"1\" /><path clip-path=\"url(#clip790)\" d=\"M1322.36 1485.02 L1330 1485.02 L1330 1458.66 L1321.69 1460.32 L1321.69 1456.06 L1329.96 1454.4 L1334.63 1454.4 L1334.63 1485.02 L1342.27 1485.02 L1342.27 1488.96 L1322.36 1488.96 L1322.36 1485.02 Z\" fill=\"#000000\" fill-rule=\"evenodd\" fill-opacity=\"1\" /><path clip-path=\"url(#clip790)\" d=\"M1361.72 1457.48 Q1358.1 1457.48 1356.28 1461.04 Q1354.47 1464.58 1354.47 1471.71 Q1354.47 1478.82 1356.28 1482.38 Q1358.1 1485.92 1361.72 1485.92 Q1365.35 1485.92 1367.16 1482.38 Q1368.98 1478.82 1368.98 1471.71 Q1368.98 1464.58 1367.16 1461.04 Q1365.35 1457.48 1361.72 1457.48 M1361.72 1453.77 Q1367.53 1453.77 1370.58 1458.38 Q1373.66 1462.96 1373.66 1471.71 Q1373.66 1480.44 1370.58 1485.04 Q1367.53 1489.63 1361.72 1489.63 Q1355.91 1489.63 1352.83 1485.04 Q1349.77 1480.44 1349.77 1471.71 Q1349.77 1462.96 1352.83 1458.38 Q1355.91 1453.77 1361.72 1453.77 Z\" fill=\"#000000\" fill-rule=\"evenodd\" fill-opacity=\"1\" /><path clip-path=\"url(#clip790)\" d=\"M1374.84 1433.47 L1389.76 1433.47 L1389.76 1436.66 L1378.32 1436.66 L1378.32 1443.55 Q1379.15 1443.27 1379.98 1443.13 Q1380.81 1442.98 1381.63 1442.98 Q1386.34 1442.98 1389.08 1445.56 Q1391.83 1448.14 1391.83 1452.54 Q1391.83 1457.07 1389.01 1459.59 Q1386.19 1462.09 1381.05 1462.09 Q1379.28 1462.09 1377.44 1461.79 Q1375.62 1461.49 1373.66 1460.89 L1373.66 1457.07 Q1375.35 1457.99 1377.16 1458.44 Q1378.96 1458.89 1380.98 1458.89 Q1384.23 1458.89 1386.13 1457.18 Q1388.03 1455.47 1388.03 1452.54 Q1388.03 1449.6 1386.13 1447.89 Q1384.23 1446.18 1380.98 1446.18 Q1379.45 1446.18 1377.93 1446.52 Q1376.42 1446.86 1374.84 1447.57 L1374.84 1433.47 Z\" fill=\"#000000\" fill-rule=\"evenodd\" fill-opacity=\"1\" /><path clip-path=\"url(#clip790)\" d=\"M1679.7 1454.4 L1701.93 1454.4 L1701.93 1456.39 L1689.38 1488.96 L1684.5 1488.96 L1696.3 1458.33 L1679.7 1458.33 L1679.7 1454.4 Z\" fill=\"#000000\" fill-rule=\"evenodd\" fill-opacity=\"1\" /><path clip-path=\"url(#clip790)\" d=\"M1711.05 1483.08 L1715.93 1483.08 L1715.93 1488.96 L1711.05 1488.96 L1711.05 1483.08 Z\" fill=\"#000000\" fill-rule=\"evenodd\" fill-opacity=\"1\" /><path clip-path=\"url(#clip790)\" d=\"M1726.16 1454.4 L1744.52 1454.4 L1744.52 1458.33 L1730.44 1458.33 L1730.44 1466.8 Q1731.46 1466.46 1732.48 1466.29 Q1733.5 1466.11 1734.52 1466.11 Q1740.31 1466.11 1743.69 1469.28 Q1747.07 1472.45 1747.07 1477.87 Q1747.07 1483.45 1743.59 1486.55 Q1740.12 1489.63 1733.8 1489.63 Q1731.63 1489.63 1729.36 1489.26 Q1727.11 1488.89 1724.7 1488.15 L1724.7 1483.45 Q1726.79 1484.58 1729.01 1485.14 Q1731.23 1485.69 1733.71 1485.69 Q1737.71 1485.69 1740.05 1483.59 Q1742.39 1481.48 1742.39 1477.87 Q1742.39 1474.26 1740.05 1472.15 Q1737.71 1470.04 1733.71 1470.04 Q1731.83 1470.04 1729.96 1470.46 Q1728.11 1470.88 1726.16 1471.76 L1726.16 1454.4 Z\" fill=\"#000000\" fill-rule=\"evenodd\" fill-opacity=\"1\" /><path clip-path=\"url(#clip790)\" d=\"M1766.28 1457.48 Q1762.67 1457.48 1760.84 1461.04 Q1759.03 1464.58 1759.03 1471.71 Q1759.03 1478.82 1760.84 1482.38 Q1762.67 1485.92 1766.28 1485.92 Q1769.91 1485.92 1771.72 1482.38 Q1773.55 1478.82 1773.55 1471.71 Q1773.55 1464.58 1771.72 1461.04 Q1769.91 1457.48 1766.28 1457.48 M1766.28 1453.77 Q1772.09 1453.77 1775.14 1458.38 Q1778.22 1462.96 1778.22 1471.71 Q1778.22 1480.44 1775.14 1485.04 Q1772.09 1489.63 1766.28 1489.63 Q1760.47 1489.63 1757.39 1485.04 Q1754.33 1480.44 1754.33 1471.71 Q1754.33 1462.96 1757.39 1458.38 Q1760.47 1453.77 1766.28 1453.77 Z\" fill=\"#000000\" fill-rule=\"evenodd\" fill-opacity=\"1\" /><path clip-path=\"url(#clip790)\" d=\"M1814.61 1463.49 L1804.03 1474.12 L1814.61 1484.7 L1811.86 1487.5 L1801.23 1476.87 L1790.61 1487.5 L1787.88 1484.7 L1798.43 1474.12 L1787.88 1463.49 L1790.61 1460.69 L1801.23 1471.32 L1811.86 1460.69 L1814.61 1463.49 Z\" fill=\"#000000\" fill-rule=\"evenodd\" fill-opacity=\"1\" /><path clip-path=\"url(#clip790)\" d=\"M1826.97 1485.02 L1834.61 1485.02 L1834.61 1458.66 L1826.3 1460.32 L1826.3 1456.06 L1834.56 1454.4 L1839.24 1454.4 L1839.24 1485.02 L1846.88 1485.02 L1846.88 1488.96 L1826.97 1488.96 L1826.97 1485.02 Z\" fill=\"#000000\" fill-rule=\"evenodd\" fill-opacity=\"1\" /><path clip-path=\"url(#clip790)\" d=\"M1866.32 1457.48 Q1862.71 1457.48 1860.88 1461.04 Q1859.08 1464.58 1859.08 1471.71 Q1859.08 1478.82 1860.88 1482.38 Q1862.71 1485.92 1866.32 1485.92 Q1869.96 1485.92 1871.76 1482.38 Q1873.59 1478.82 1873.59 1471.71 Q1873.59 1464.58 1871.76 1461.04 Q1869.96 1457.48 1866.32 1457.48 M1866.32 1453.77 Q1872.13 1453.77 1875.19 1458.38 Q1878.27 1462.96 1878.27 1471.71 Q1878.27 1480.44 1875.19 1485.04 Q1872.13 1489.63 1866.32 1489.63 Q1860.51 1489.63 1857.43 1485.04 Q1854.38 1480.44 1854.38 1471.71 Q1854.38 1462.96 1857.43 1458.38 Q1860.51 1453.77 1866.32 1453.77 Z\" fill=\"#000000\" fill-rule=\"evenodd\" fill-opacity=\"1\" /><path clip-path=\"url(#clip790)\" d=\"M1879.45 1433.47 L1894.37 1433.47 L1894.37 1436.66 L1882.93 1436.66 L1882.93 1443.55 Q1883.76 1443.27 1884.59 1443.13 Q1885.42 1442.98 1886.24 1442.98 Q1890.94 1442.98 1893.69 1445.56 Q1896.44 1448.14 1896.44 1452.54 Q1896.44 1457.07 1893.62 1459.59 Q1890.79 1462.09 1885.66 1462.09 Q1883.89 1462.09 1882.05 1461.79 Q1880.22 1461.49 1878.27 1460.89 L1878.27 1457.07 Q1879.96 1457.99 1881.77 1458.44 Q1883.57 1458.89 1885.58 1458.89 Q1888.84 1458.89 1890.74 1457.18 Q1892.64 1455.47 1892.64 1452.54 Q1892.64 1449.6 1890.74 1447.89 Q1888.84 1446.18 1885.58 1446.18 Q1884.06 1446.18 1882.54 1446.52 Q1881.03 1446.86 1879.45 1447.57 L1879.45 1433.47 Z\" fill=\"#000000\" fill-rule=\"evenodd\" fill-opacity=\"1\" /><path clip-path=\"url(#clip790)\" d=\"M2185.15 1485.02 L2192.79 1485.02 L2192.79 1458.66 L2184.48 1460.32 L2184.48 1456.06 L2192.74 1454.4 L2197.42 1454.4 L2197.42 1485.02 L2205.06 1485.02 L2205.06 1488.96 L2185.15 1488.96 L2185.15 1485.02 Z\" fill=\"#000000\" fill-rule=\"evenodd\" fill-opacity=\"1\" /><path clip-path=\"url(#clip790)\" d=\"M2214.5 1483.08 L2219.38 1483.08 L2219.38 1488.96 L2214.5 1488.96 L2214.5 1483.08 Z\" fill=\"#000000\" fill-rule=\"evenodd\" fill-opacity=\"1\" /><path clip-path=\"url(#clip790)\" d=\"M2239.57 1457.48 Q2235.96 1457.48 2234.13 1461.04 Q2232.32 1464.58 2232.32 1471.71 Q2232.32 1478.82 2234.13 1482.38 Q2235.96 1485.92 2239.57 1485.92 Q2243.2 1485.92 2245.01 1482.38 Q2246.84 1478.82 2246.84 1471.71 Q2246.84 1464.58 2245.01 1461.04 Q2243.2 1457.48 2239.57 1457.48 M2239.57 1453.77 Q2245.38 1453.77 2248.44 1458.38 Q2251.51 1462.96 2251.51 1471.71 Q2251.51 1480.44 2248.44 1485.04 Q2245.38 1489.63 2239.57 1489.63 Q2233.76 1489.63 2230.68 1485.04 Q2227.63 1480.44 2227.63 1471.71 Q2227.63 1462.96 2230.68 1458.38 Q2233.76 1453.77 2239.57 1453.77 Z\" fill=\"#000000\" fill-rule=\"evenodd\" fill-opacity=\"1\" /><path clip-path=\"url(#clip790)\" d=\"M2269.73 1457.48 Q2266.12 1457.48 2264.29 1461.04 Q2262.49 1464.58 2262.49 1471.71 Q2262.49 1478.82 2264.29 1482.38 Q2266.12 1485.92 2269.73 1485.92 Q2273.37 1485.92 2275.17 1482.38 Q2277 1478.82 2277 1471.71 Q2277 1464.58 2275.17 1461.04 Q2273.37 1457.48 2269.73 1457.48 M2269.73 1453.77 Q2275.54 1453.77 2278.6 1458.38 Q2281.68 1462.96 2281.68 1471.71 Q2281.68 1480.44 2278.6 1485.04 Q2275.54 1489.63 2269.73 1489.63 Q2263.92 1489.63 2260.84 1485.04 Q2257.79 1480.44 2257.79 1471.71 Q2257.79 1462.96 2260.84 1458.38 Q2263.92 1453.77 2269.73 1453.77 Z\" fill=\"#000000\" fill-rule=\"evenodd\" fill-opacity=\"1\" /><path clip-path=\"url(#clip790)\" d=\"M2318.06 1463.49 L2307.49 1474.12 L2318.06 1484.7 L2315.31 1487.5 L2304.68 1476.87 L2294.06 1487.5 L2291.33 1484.7 L2301.88 1474.12 L2291.33 1463.49 L2294.06 1460.69 L2304.68 1471.32 L2315.31 1460.69 L2318.06 1463.49 Z\" fill=\"#000000\" fill-rule=\"evenodd\" fill-opacity=\"1\" /><path clip-path=\"url(#clip790)\" d=\"M2330.43 1485.02 L2338.06 1485.02 L2338.06 1458.66 L2329.75 1460.32 L2329.75 1456.06 L2338.02 1454.4 L2342.69 1454.4 L2342.69 1485.02 L2350.33 1485.02 L2350.33 1488.96 L2330.43 1488.96 L2330.43 1485.02 Z\" fill=\"#000000\" fill-rule=\"evenodd\" fill-opacity=\"1\" /><path clip-path=\"url(#clip790)\" d=\"M2369.78 1457.48 Q2366.17 1457.48 2364.34 1461.04 Q2362.53 1464.58 2362.53 1471.71 Q2362.53 1478.82 2364.34 1482.38 Q2366.17 1485.92 2369.78 1485.92 Q2373.41 1485.92 2375.22 1482.38 Q2377.05 1478.82 2377.05 1471.71 Q2377.05 1464.58 2375.22 1461.04 Q2373.41 1457.48 2369.78 1457.48 M2369.78 1453.77 Q2375.59 1453.77 2378.64 1458.38 Q2381.72 1462.96 2381.72 1471.71 Q2381.72 1480.44 2378.64 1485.04 Q2375.59 1489.63 2369.78 1489.63 Q2363.97 1489.63 2360.89 1485.04 Q2357.83 1480.44 2357.83 1471.71 Q2357.83 1462.96 2360.89 1458.38 Q2363.97 1453.77 2369.78 1453.77 Z\" fill=\"#000000\" fill-rule=\"evenodd\" fill-opacity=\"1\" /><path clip-path=\"url(#clip790)\" d=\"M2391.75 1445.99 Q2389.19 1445.99 2387.68 1447.74 Q2386.2 1449.49 2386.2 1452.54 Q2386.2 1455.57 2387.68 1457.33 Q2389.19 1459.08 2391.75 1459.08 Q2394.3 1459.08 2395.79 1457.33 Q2397.29 1455.57 2397.29 1452.54 Q2397.29 1449.49 2395.79 1447.74 Q2394.3 1445.99 2391.75 1445.99 M2399.29 1434.09 L2399.29 1437.55 Q2397.86 1436.87 2396.39 1436.51 Q2394.94 1436.16 2393.51 1436.16 Q2389.75 1436.16 2387.76 1438.69 Q2385.78 1441.23 2385.5 1446.37 Q2386.61 1444.73 2388.29 1443.87 Q2389.96 1442.98 2391.97 1442.98 Q2396.2 1442.98 2398.65 1445.56 Q2401.11 1448.12 2401.11 1452.54 Q2401.11 1456.86 2398.55 1459.48 Q2396 1462.09 2391.75 1462.09 Q2386.87 1462.09 2384.3 1458.37 Q2381.72 1454.62 2381.72 1447.53 Q2381.72 1440.88 2384.88 1436.93 Q2388.04 1432.96 2393.36 1432.96 Q2394.79 1432.96 2396.24 1433.24 Q2397.71 1433.52 2399.29 1434.09 Z\" fill=\"#000000\" fill-rule=\"evenodd\" fill-opacity=\"1\" /><path clip-path=\"url(#clip790)\" d=\"M1308.37 1552.67 L1308.37 1574.19 L1302.51 1574.19 L1302.51 1552.86 Q1302.51 1547.8 1300.54 1545.29 Q1298.57 1542.77 1294.62 1542.77 Q1289.88 1542.77 1287.14 1545.79 Q1284.4 1548.82 1284.4 1554.04 L1284.4 1574.19 L1278.51 1574.19 L1278.51 1538.54 L1284.4 1538.54 L1284.4 1544.08 Q1286.5 1540.86 1289.33 1539.27 Q1292.2 1537.68 1295.92 1537.68 Q1302.07 1537.68 1305.22 1541.5 Q1308.37 1545.29 1308.37 1552.67 Z\" fill=\"#000000\" fill-rule=\"evenodd\" fill-opacity=\"1\" /><polyline clip-path=\"url(#clip792)\" style=\"stroke:#000000; stroke-linecap:butt; stroke-linejoin:round; stroke-width:2; stroke-opacity:0.1; fill:none\" points=\"\n",
       "  234.125,1376.73 2352.76,1376.73 \n",
       "  \"/>\n",
       "<polyline clip-path=\"url(#clip792)\" style=\"stroke:#000000; stroke-linecap:butt; stroke-linejoin:round; stroke-width:2; stroke-opacity:0.1; fill:none\" points=\"\n",
       "  234.125,942.355 2352.76,942.355 \n",
       "  \"/>\n",
       "<polyline clip-path=\"url(#clip792)\" style=\"stroke:#000000; stroke-linecap:butt; stroke-linejoin:round; stroke-width:2; stroke-opacity:0.1; fill:none\" points=\"\n",
       "  234.125,507.978 2352.76,507.978 \n",
       "  \"/>\n",
       "<polyline clip-path=\"url(#clip792)\" style=\"stroke:#000000; stroke-linecap:butt; stroke-linejoin:round; stroke-width:2; stroke-opacity:0.1; fill:none\" points=\"\n",
       "  234.125,73.6017 2352.76,73.6017 \n",
       "  \"/>\n",
       "<polyline clip-path=\"url(#clip790)\" style=\"stroke:#000000; stroke-linecap:butt; stroke-linejoin:round; stroke-width:4; stroke-opacity:1; fill:none\" points=\"\n",
       "  234.125,1410.9 234.125,47.2441 \n",
       "  \"/>\n",
       "<polyline clip-path=\"url(#clip790)\" style=\"stroke:#000000; stroke-linecap:butt; stroke-linejoin:round; stroke-width:4; stroke-opacity:1; fill:none\" points=\"\n",
       "  234.125,1376.73 253.023,1376.73 \n",
       "  \"/>\n",
       "<polyline clip-path=\"url(#clip790)\" style=\"stroke:#000000; stroke-linecap:butt; stroke-linejoin:round; stroke-width:4; stroke-opacity:1; fill:none\" points=\"\n",
       "  234.125,942.355 253.023,942.355 \n",
       "  \"/>\n",
       "<polyline clip-path=\"url(#clip790)\" style=\"stroke:#000000; stroke-linecap:butt; stroke-linejoin:round; stroke-width:4; stroke-opacity:1; fill:none\" points=\"\n",
       "  234.125,507.978 253.023,507.978 \n",
       "  \"/>\n",
       "<polyline clip-path=\"url(#clip790)\" style=\"stroke:#000000; stroke-linecap:butt; stroke-linejoin:round; stroke-width:4; stroke-opacity:1; fill:none\" points=\"\n",
       "  234.125,73.6017 253.023,73.6017 \n",
       "  \"/>\n",
       "<path clip-path=\"url(#clip790)\" d=\"M186.181 1362.53 Q182.57 1362.53 180.741 1366.09 Q178.936 1369.64 178.936 1376.77 Q178.936 1383.87 180.741 1387.44 Q182.57 1390.98 186.181 1390.98 Q189.815 1390.98 191.621 1387.44 Q193.45 1383.87 193.45 1376.77 Q193.45 1369.64 191.621 1366.09 Q189.815 1362.53 186.181 1362.53 M186.181 1358.83 Q191.991 1358.83 195.047 1363.43 Q198.125 1368.02 198.125 1376.77 Q198.125 1385.49 195.047 1390.1 Q191.991 1394.68 186.181 1394.68 Q180.371 1394.68 177.292 1390.1 Q174.237 1385.49 174.237 1376.77 Q174.237 1368.02 177.292 1363.43 Q180.371 1358.83 186.181 1358.83 Z\" fill=\"#000000\" fill-rule=\"evenodd\" fill-opacity=\"1\" /><path clip-path=\"url(#clip790)\" d=\"M116.668 955.7 L124.306 955.7 L124.306 929.334 L115.996 931.001 L115.996 926.741 L124.26 925.075 L128.936 925.075 L128.936 955.7 L136.575 955.7 L136.575 959.635 L116.668 959.635 L116.668 955.7 Z\" fill=\"#000000\" fill-rule=\"evenodd\" fill-opacity=\"1\" /><path clip-path=\"url(#clip790)\" d=\"M156.019 928.153 Q152.408 928.153 150.579 931.718 Q148.774 935.26 148.774 942.389 Q148.774 949.496 150.579 953.061 Q152.408 956.602 156.019 956.602 Q159.653 956.602 161.459 953.061 Q163.288 949.496 163.288 942.389 Q163.288 935.26 161.459 931.718 Q159.653 928.153 156.019 928.153 M156.019 924.45 Q161.829 924.45 164.885 929.056 Q167.964 933.639 167.964 942.389 Q167.964 951.116 164.885 955.723 Q161.829 960.306 156.019 960.306 Q150.209 960.306 147.13 955.723 Q144.075 951.116 144.075 942.389 Q144.075 933.639 147.13 929.056 Q150.209 924.45 156.019 924.45 Z\" fill=\"#000000\" fill-rule=\"evenodd\" fill-opacity=\"1\" /><path clip-path=\"url(#clip790)\" d=\"M186.181 928.153 Q182.57 928.153 180.741 931.718 Q178.936 935.26 178.936 942.389 Q178.936 949.496 180.741 953.061 Q182.57 956.602 186.181 956.602 Q189.815 956.602 191.621 953.061 Q193.45 949.496 193.45 942.389 Q193.45 935.26 191.621 931.718 Q189.815 928.153 186.181 928.153 M186.181 924.45 Q191.991 924.45 195.047 929.056 Q198.125 933.639 198.125 942.389 Q198.125 951.116 195.047 955.723 Q191.991 960.306 186.181 960.306 Q180.371 960.306 177.292 955.723 Q174.237 951.116 174.237 942.389 Q174.237 933.639 177.292 929.056 Q180.371 924.45 186.181 924.45 Z\" fill=\"#000000\" fill-rule=\"evenodd\" fill-opacity=\"1\" /><path clip-path=\"url(#clip790)\" d=\"M119.885 521.323 L136.204 521.323 L136.204 525.258 L114.26 525.258 L114.26 521.323 Q116.922 518.568 121.505 513.939 Q126.112 509.286 127.292 507.943 Q129.538 505.42 130.417 503.684 Q131.32 501.925 131.32 500.235 Q131.32 497.481 129.376 495.744 Q127.455 494.008 124.353 494.008 Q122.154 494.008 119.7 494.772 Q117.269 495.536 114.492 497.087 L114.492 492.365 Q117.316 491.231 119.769 490.652 Q122.223 490.073 124.26 490.073 Q129.63 490.073 132.825 492.758 Q136.019 495.444 136.019 499.934 Q136.019 502.064 135.209 503.985 Q134.422 505.883 132.316 508.476 Q131.737 509.147 128.635 512.365 Q125.533 515.559 119.885 521.323 Z\" fill=\"#000000\" fill-rule=\"evenodd\" fill-opacity=\"1\" /><path clip-path=\"url(#clip790)\" d=\"M156.019 493.777 Q152.408 493.777 150.579 497.342 Q148.774 500.883 148.774 508.013 Q148.774 515.119 150.579 518.684 Q152.408 522.226 156.019 522.226 Q159.653 522.226 161.459 518.684 Q163.288 515.119 163.288 508.013 Q163.288 500.883 161.459 497.342 Q159.653 493.777 156.019 493.777 M156.019 490.073 Q161.829 490.073 164.885 494.68 Q167.964 499.263 167.964 508.013 Q167.964 516.74 164.885 521.346 Q161.829 525.929 156.019 525.929 Q150.209 525.929 147.13 521.346 Q144.075 516.74 144.075 508.013 Q144.075 499.263 147.13 494.68 Q150.209 490.073 156.019 490.073 Z\" fill=\"#000000\" fill-rule=\"evenodd\" fill-opacity=\"1\" /><path clip-path=\"url(#clip790)\" d=\"M186.181 493.777 Q182.57 493.777 180.741 497.342 Q178.936 500.883 178.936 508.013 Q178.936 515.119 180.741 518.684 Q182.57 522.226 186.181 522.226 Q189.815 522.226 191.621 518.684 Q193.45 515.119 193.45 508.013 Q193.45 500.883 191.621 497.342 Q189.815 493.777 186.181 493.777 M186.181 490.073 Q191.991 490.073 195.047 494.68 Q198.125 499.263 198.125 508.013 Q198.125 516.74 195.047 521.346 Q191.991 525.929 186.181 525.929 Q180.371 525.929 177.292 521.346 Q174.237 516.74 174.237 508.013 Q174.237 499.263 177.292 494.68 Q180.371 490.073 186.181 490.073 Z\" fill=\"#000000\" fill-rule=\"evenodd\" fill-opacity=\"1\" /><path clip-path=\"url(#clip790)\" d=\"M130.024 72.2475 Q133.38 72.9651 135.255 75.2336 Q137.154 77.5021 137.154 80.8354 Q137.154 85.9512 133.635 88.7521 Q130.117 91.553 123.635 91.553 Q121.459 91.553 119.144 91.1132 Q116.853 90.6965 114.399 89.84 L114.399 85.3262 Q116.343 86.4604 118.658 87.0391 Q120.973 87.6178 123.496 87.6178 Q127.894 87.6178 130.186 85.8817 Q132.501 84.1456 132.501 80.8354 Q132.501 77.7799 130.348 76.067 Q128.218 74.3309 124.399 74.3309 L120.371 74.3309 L120.371 70.4883 L124.584 70.4883 Q128.033 70.4883 129.862 69.1225 Q131.691 67.7337 131.691 65.1411 Q131.691 62.4791 129.792 61.067 Q127.917 59.6319 124.399 59.6319 Q122.478 59.6319 120.279 60.0485 Q118.08 60.4652 115.441 61.3448 L115.441 57.1782 Q118.103 56.4374 120.418 56.0671 Q122.755 55.6967 124.816 55.6967 Q130.14 55.6967 133.242 58.1272 Q136.343 60.5346 136.343 64.655 Q136.343 67.5253 134.7 69.5161 Q133.056 71.4836 130.024 72.2475 Z\" fill=\"#000000\" fill-rule=\"evenodd\" fill-opacity=\"1\" /><path clip-path=\"url(#clip790)\" d=\"M156.019 59.4004 Q152.408 59.4004 150.579 62.9652 Q148.774 66.5068 148.774 73.6364 Q148.774 80.7429 150.579 84.3077 Q152.408 87.8493 156.019 87.8493 Q159.653 87.8493 161.459 84.3077 Q163.288 80.7429 163.288 73.6364 Q163.288 66.5068 161.459 62.9652 Q159.653 59.4004 156.019 59.4004 M156.019 55.6967 Q161.829 55.6967 164.885 60.3032 Q167.964 64.8865 167.964 73.6364 Q167.964 82.3632 164.885 86.9697 Q161.829 91.553 156.019 91.553 Q150.209 91.553 147.13 86.9697 Q144.075 82.3632 144.075 73.6364 Q144.075 64.8865 147.13 60.3032 Q150.209 55.6967 156.019 55.6967 Z\" fill=\"#000000\" fill-rule=\"evenodd\" fill-opacity=\"1\" /><path clip-path=\"url(#clip790)\" d=\"M186.181 59.4004 Q182.57 59.4004 180.741 62.9652 Q178.936 66.5068 178.936 73.6364 Q178.936 80.7429 180.741 84.3077 Q182.57 87.8493 186.181 87.8493 Q189.815 87.8493 191.621 84.3077 Q193.45 80.7429 193.45 73.6364 Q193.45 66.5068 191.621 62.9652 Q189.815 59.4004 186.181 59.4004 M186.181 55.6967 Q191.991 55.6967 195.047 60.3032 Q198.125 64.8865 198.125 73.6364 Q198.125 82.3632 195.047 86.9697 Q191.991 91.553 186.181 91.553 Q180.371 91.553 177.292 86.9697 Q174.237 82.3632 174.237 73.6364 Q174.237 64.8865 177.292 60.3032 Q180.371 55.6967 186.181 55.6967 Z\" fill=\"#000000\" fill-rule=\"evenodd\" fill-opacity=\"1\" /><path clip-path=\"url(#clip790)\" d=\"M16.4842 928.619 L16.4842 888.42 L21.895 888.42 L21.895 905.289 L64.0042 905.289 L64.0042 911.75 L21.895 911.75 L21.895 928.619 L16.4842 928.619 Z\" fill=\"#000000\" fill-rule=\"evenodd\" fill-opacity=\"1\" /><path clip-path=\"url(#clip790)\" d=\"M28.3562 884.473 L28.3562 878.617 L64.0042 878.617 L64.0042 884.473 L28.3562 884.473 M14.479 884.473 L14.479 878.617 L21.895 878.617 L21.895 884.473 L14.479 884.473 Z\" fill=\"#000000\" fill-rule=\"evenodd\" fill-opacity=\"1\" /><path clip-path=\"url(#clip790)\" d=\"M35.1993 838.608 Q31.2526 836.412 29.3747 833.357 Q27.4968 830.301 27.4968 826.163 Q27.4968 820.593 31.4117 817.57 Q35.2948 814.546 42.4881 814.546 L64.0042 814.546 L64.0042 820.434 L42.679 820.434 Q37.5546 820.434 35.072 822.248 Q32.5894 824.063 32.5894 827.787 Q32.5894 832.338 35.6131 834.98 Q38.6368 837.622 43.8567 837.622 L64.0042 837.622 L64.0042 843.51 L42.679 843.51 Q37.5228 843.51 35.072 845.324 Q32.5894 847.138 32.5894 850.926 Q32.5894 855.414 35.6449 858.055 Q38.6686 860.697 43.8567 860.697 L64.0042 860.697 L64.0042 866.586 L28.3562 866.586 L28.3562 860.697 L33.8944 860.697 Q30.616 858.692 29.0564 855.891 Q27.4968 853.09 27.4968 849.239 Q27.4968 845.356 29.4702 842.65 Q31.4436 839.913 35.1993 838.608 Z\" fill=\"#000000\" fill-rule=\"evenodd\" fill-opacity=\"1\" /><path clip-path=\"url(#clip790)\" d=\"M44.7161 772.373 L47.5806 772.373 L47.5806 799.3 Q53.6281 798.918 56.8109 795.672 Q59.9619 792.393 59.9619 786.569 Q59.9619 783.195 59.1344 780.044 Q58.3069 776.861 56.6518 773.742 L62.1899 773.742 Q63.5267 776.893 64.227 780.203 Q64.9272 783.513 64.9272 786.919 Q64.9272 795.449 59.9619 800.446 Q54.9967 805.411 46.5303 805.411 Q37.7774 805.411 32.6531 800.7 Q27.4968 795.958 27.4968 787.937 Q27.4968 780.744 32.1438 776.574 Q36.7589 772.373 44.7161 772.373 M42.9973 778.23 Q38.1912 778.293 35.3266 780.935 Q32.4621 783.545 32.4621 787.874 Q32.4621 792.775 35.2312 795.735 Q38.0002 798.663 43.0292 799.109 L42.9973 778.23 Z\" fill=\"#000000\" fill-rule=\"evenodd\" fill-opacity=\"1\" /><path clip-path=\"url(#clip790)\" d=\"M14.5426 727.972 Q21.8632 732.237 29.0246 734.306 Q36.186 736.375 43.5384 736.375 Q50.8908 736.375 58.1159 734.306 Q65.3091 732.205 72.5979 727.972 L72.5979 733.065 Q65.1182 737.839 57.8931 740.226 Q50.668 742.582 43.5384 742.582 Q36.4406 742.582 29.2474 740.226 Q22.0542 737.871 14.5426 733.065 L14.5426 727.972 Z\" fill=\"#000000\" fill-rule=\"evenodd\" fill-opacity=\"1\" /><path clip-path=\"url(#clip790)\" d=\"M35.1993 688.855 Q31.2526 686.659 29.3747 683.603 Q27.4968 680.548 27.4968 676.41 Q27.4968 670.84 31.4117 667.816 Q35.2948 664.793 42.4881 664.793 L64.0042 664.793 L64.0042 670.681 L42.679 670.681 Q37.5546 670.681 35.072 672.495 Q32.5894 674.309 32.5894 678.033 Q32.5894 682.585 35.6131 685.227 Q38.6368 687.868 43.8567 687.868 L64.0042 687.868 L64.0042 693.757 L42.679 693.757 Q37.5228 693.757 35.072 695.571 Q32.5894 697.385 32.5894 701.173 Q32.5894 705.66 35.6449 708.302 Q38.6686 710.944 43.8567 710.944 L64.0042 710.944 L64.0042 716.832 L28.3562 716.832 L28.3562 710.944 L33.8944 710.944 Q30.616 708.939 29.0564 706.138 Q27.4968 703.337 27.4968 699.486 Q27.4968 695.603 29.4702 692.897 Q31.4436 690.16 35.1993 688.855 Z\" fill=\"#000000\" fill-rule=\"evenodd\" fill-opacity=\"1\" /><path clip-path=\"url(#clip790)\" d=\"M29.4065 630.386 L34.9447 630.386 Q33.6716 632.869 33.035 635.542 Q32.3984 638.216 32.3984 641.08 Q32.3984 645.441 33.7352 647.637 Q35.072 649.801 37.7456 649.801 Q39.7826 649.801 40.9603 648.242 Q42.1061 646.682 43.1565 641.972 L43.6021 639.966 Q44.9389 633.728 47.3897 631.118 Q49.8086 628.476 54.1691 628.476 Q59.1344 628.476 62.0308 632.423 Q64.9272 636.338 64.9272 643.213 Q64.9272 646.077 64.3543 649.197 Q63.8132 652.284 62.6992 655.722 L56.6518 655.722 Q58.3387 652.475 59.198 649.324 Q60.0256 646.173 60.0256 643.086 Q60.0256 638.948 58.6251 636.72 Q57.1929 634.492 54.6147 634.492 Q52.2276 634.492 50.9545 636.115 Q49.6813 637.707 48.5037 643.149 L48.0262 645.186 Q46.8804 650.629 44.5251 653.048 Q42.138 655.467 38.0002 655.467 Q32.9713 655.467 30.2341 651.902 Q27.4968 648.337 27.4968 641.781 Q27.4968 638.534 27.9743 635.67 Q28.4517 632.805 29.4065 630.386 Z\" fill=\"#000000\" fill-rule=\"evenodd\" fill-opacity=\"1\" /><path clip-path=\"url(#clip790)\" d=\"M44.7161 588.659 L47.5806 588.659 L47.5806 615.586 Q53.6281 615.204 56.8109 611.957 Q59.9619 608.679 59.9619 602.854 Q59.9619 599.48 59.1344 596.329 Q58.3069 593.147 56.6518 590.027 L62.1899 590.027 Q63.5267 593.178 64.227 596.489 Q64.9272 599.799 64.9272 603.204 Q64.9272 611.734 59.9619 616.732 Q54.9967 621.697 46.5303 621.697 Q37.7774 621.697 32.6531 616.986 Q27.4968 612.244 27.4968 604.223 Q27.4968 597.03 32.1438 592.86 Q36.7589 588.659 44.7161 588.659 M42.9973 594.515 Q38.1912 594.579 35.3266 597.221 Q32.4621 599.831 32.4621 604.159 Q32.4621 609.061 35.2312 612.021 Q38.0002 614.949 43.0292 615.395 L42.9973 594.515 Z\" fill=\"#000000\" fill-rule=\"evenodd\" fill-opacity=\"1\" /><path clip-path=\"url(#clip790)\" d=\"M29.7248 553.393 L35.1993 553.393 Q33.8307 555.875 33.1623 558.39 Q32.4621 560.872 32.4621 563.419 Q32.4621 569.116 36.0905 572.267 Q39.6872 575.418 46.212 575.418 Q52.7369 575.418 56.3653 572.267 Q59.9619 569.116 59.9619 563.419 Q59.9619 560.872 59.2935 558.39 Q58.5933 555.875 57.2247 553.393 L62.6355 553.393 Q63.7814 555.844 64.3543 558.485 Q64.9272 561.095 64.9272 564.055 Q64.9272 572.108 59.8664 576.85 Q54.8057 581.593 46.212 581.593 Q37.491 581.593 32.4939 576.819 Q27.4968 572.012 27.4968 563.673 Q27.4968 560.968 28.0697 558.39 Q28.6108 555.812 29.7248 553.393 Z\" fill=\"#000000\" fill-rule=\"evenodd\" fill-opacity=\"1\" /><path clip-path=\"url(#clip790)\" d=\"M14.5426 544.131 L14.5426 539.038 Q22.0542 534.264 29.2474 531.909 Q36.4406 529.521 43.5384 529.521 Q50.668 529.521 57.8931 531.909 Q65.1182 534.264 72.5979 539.038 L72.5979 544.131 Q65.3091 539.897 58.1159 537.829 Q50.8908 535.728 43.5384 535.728 Q36.186 535.728 29.0246 537.829 Q21.8632 539.897 14.5426 544.131 Z\" fill=\"#000000\" fill-rule=\"evenodd\" fill-opacity=\"1\" /><polyline clip-path=\"url(#clip792)\" style=\"stroke:#ff0000; stroke-linecap:butt; stroke-linejoin:round; stroke-width:4; stroke-opacity:1; fill:none\" points=\"\n",
       "  294.087,1372.3 314.276,1367.47 334.465,1362.17 354.654,1356.79 374.843,1350.57 395.032,1344.91 415.221,1335.86 435.409,1332.96 455.598,1327.04 475.787,1319.96 \n",
       "  495.976,1312.96 516.165,1306.23 536.354,1301.81 556.543,1288.56 576.732,1287.69 596.921,1278.18 617.11,1269.94 637.299,1262.53 657.488,972.687 677.677,1239.66 \n",
       "  697.866,1243.68 718.055,1231.92 738.244,1222.62 758.433,1225.63 778.622,1221.59 798.811,1209.48 819,1201.59 839.189,314.783 859.378,1185.75 879.567,1181.98 \n",
       "  899.756,1167.94 919.945,1157.29 940.134,1159.09 960.323,384.291 980.512,1141.73 1000.7,1133.8 1020.89,1126.14 1041.08,1112.42 1061.27,1109.7 1081.46,1093.39 \n",
       "  1101.65,1069.83 1121.83,1068.68 1142.02,1061.22 1162.21,1051.58 1182.4,1051.24 1202.59,1037.47 1222.78,1046.85 1242.97,1034 1263.16,1008.3 1283.35,1006.76 \n",
       "  1303.54,1000.54 1323.72,991.877 1343.91,982.85 1364.1,988.786 1384.29,950.651 1404.48,948.629 1424.67,958.973 1444.86,936.972 1465.05,934.233 1485.24,910.851 \n",
       "  1505.42,894.449 1525.61,899.079 1545.8,878.608 1565.99,849.055 1586.18,879.572 1606.37,922.193 1626.56,828.534 1646.75,822.954 1666.94,816.052 1687.13,768.241 \n",
       "  1707.31,730.582 1727.5,711.217 1747.69,320.727 1767.88,721.324 1788.07,686.373 1808.26,728.155 1828.45,758.625 1848.64,743.562 1868.83,733.998 1889.02,711.511 \n",
       "  1909.2,707.427 1929.39,700.541 1949.58,701.822 1969.77,691.398 1989.96,685.929 2010.15,686.764 2030.34,653.583 2050.53,641.76 2070.72,641.039 2090.9,627.164 \n",
       "  2111.09,617.368 2131.28,616.745 2151.47,592.134 2171.66,573.407 2191.85,592.878 2212.04,585.58 2232.23,552.614 2252.42,561.012 2272.61,85.838 2292.79,495.106 \n",
       "  \n",
       "  \"/>\n",
       "<path clip-path=\"url(#clip792)\" d=\"M278.087 1356.3 L278.087 1388.3 L310.087 1388.3 L310.087 1356.3 L278.087 1356.3 Z\" fill=\"#ff0000\" fill-rule=\"evenodd\" fill-opacity=\"1\" stroke=\"#000000\" stroke-opacity=\"1\" stroke-width=\"3.2\"/>\n",
       "<path clip-path=\"url(#clip792)\" d=\"M298.276 1351.47 L298.276 1383.47 L330.276 1383.47 L330.276 1351.47 L298.276 1351.47 Z\" fill=\"#ff0000\" fill-rule=\"evenodd\" fill-opacity=\"1\" stroke=\"#000000\" stroke-opacity=\"1\" stroke-width=\"3.2\"/>\n",
       "<path clip-path=\"url(#clip792)\" d=\"M318.465 1346.17 L318.465 1378.17 L350.465 1378.17 L350.465 1346.17 L318.465 1346.17 Z\" fill=\"#ff0000\" fill-rule=\"evenodd\" fill-opacity=\"1\" stroke=\"#000000\" stroke-opacity=\"1\" stroke-width=\"3.2\"/>\n",
       "<path clip-path=\"url(#clip792)\" d=\"M338.654 1340.79 L338.654 1372.79 L370.654 1372.79 L370.654 1340.79 L338.654 1340.79 Z\" fill=\"#ff0000\" fill-rule=\"evenodd\" fill-opacity=\"1\" stroke=\"#000000\" stroke-opacity=\"1\" stroke-width=\"3.2\"/>\n",
       "<path clip-path=\"url(#clip792)\" d=\"M358.843 1334.57 L358.843 1366.57 L390.843 1366.57 L390.843 1334.57 L358.843 1334.57 Z\" fill=\"#ff0000\" fill-rule=\"evenodd\" fill-opacity=\"1\" stroke=\"#000000\" stroke-opacity=\"1\" stroke-width=\"3.2\"/>\n",
       "<path clip-path=\"url(#clip792)\" d=\"M379.032 1328.91 L379.032 1360.91 L411.032 1360.91 L411.032 1328.91 L379.032 1328.91 Z\" fill=\"#ff0000\" fill-rule=\"evenodd\" fill-opacity=\"1\" stroke=\"#000000\" stroke-opacity=\"1\" stroke-width=\"3.2\"/>\n",
       "<path clip-path=\"url(#clip792)\" d=\"M399.221 1319.86 L399.221 1351.86 L431.221 1351.86 L431.221 1319.86 L399.221 1319.86 Z\" fill=\"#ff0000\" fill-rule=\"evenodd\" fill-opacity=\"1\" stroke=\"#000000\" stroke-opacity=\"1\" stroke-width=\"3.2\"/>\n",
       "<path clip-path=\"url(#clip792)\" d=\"M419.409 1316.96 L419.409 1348.96 L451.409 1348.96 L451.409 1316.96 L419.409 1316.96 Z\" fill=\"#ff0000\" fill-rule=\"evenodd\" fill-opacity=\"1\" stroke=\"#000000\" stroke-opacity=\"1\" stroke-width=\"3.2\"/>\n",
       "<path clip-path=\"url(#clip792)\" d=\"M439.598 1311.04 L439.598 1343.04 L471.598 1343.04 L471.598 1311.04 L439.598 1311.04 Z\" fill=\"#ff0000\" fill-rule=\"evenodd\" fill-opacity=\"1\" stroke=\"#000000\" stroke-opacity=\"1\" stroke-width=\"3.2\"/>\n",
       "<path clip-path=\"url(#clip792)\" d=\"M459.787 1303.96 L459.787 1335.96 L491.787 1335.96 L491.787 1303.96 L459.787 1303.96 Z\" fill=\"#ff0000\" fill-rule=\"evenodd\" fill-opacity=\"1\" stroke=\"#000000\" stroke-opacity=\"1\" stroke-width=\"3.2\"/>\n",
       "<path clip-path=\"url(#clip792)\" d=\"M479.976 1296.96 L479.976 1328.96 L511.976 1328.96 L511.976 1296.96 L479.976 1296.96 Z\" fill=\"#ff0000\" fill-rule=\"evenodd\" fill-opacity=\"1\" stroke=\"#000000\" stroke-opacity=\"1\" stroke-width=\"3.2\"/>\n",
       "<path clip-path=\"url(#clip792)\" d=\"M500.165 1290.23 L500.165 1322.23 L532.165 1322.23 L532.165 1290.23 L500.165 1290.23 Z\" fill=\"#ff0000\" fill-rule=\"evenodd\" fill-opacity=\"1\" stroke=\"#000000\" stroke-opacity=\"1\" stroke-width=\"3.2\"/>\n",
       "<path clip-path=\"url(#clip792)\" d=\"M520.354 1285.81 L520.354 1317.81 L552.354 1317.81 L552.354 1285.81 L520.354 1285.81 Z\" fill=\"#ff0000\" fill-rule=\"evenodd\" fill-opacity=\"1\" stroke=\"#000000\" stroke-opacity=\"1\" stroke-width=\"3.2\"/>\n",
       "<path clip-path=\"url(#clip792)\" d=\"M540.543 1272.56 L540.543 1304.56 L572.543 1304.56 L572.543 1272.56 L540.543 1272.56 Z\" fill=\"#ff0000\" fill-rule=\"evenodd\" fill-opacity=\"1\" stroke=\"#000000\" stroke-opacity=\"1\" stroke-width=\"3.2\"/>\n",
       "<path clip-path=\"url(#clip792)\" d=\"M560.732 1271.69 L560.732 1303.69 L592.732 1303.69 L592.732 1271.69 L560.732 1271.69 Z\" fill=\"#ff0000\" fill-rule=\"evenodd\" fill-opacity=\"1\" stroke=\"#000000\" stroke-opacity=\"1\" stroke-width=\"3.2\"/>\n",
       "<path clip-path=\"url(#clip792)\" d=\"M580.921 1262.18 L580.921 1294.18 L612.921 1294.18 L612.921 1262.18 L580.921 1262.18 Z\" fill=\"#ff0000\" fill-rule=\"evenodd\" fill-opacity=\"1\" stroke=\"#000000\" stroke-opacity=\"1\" stroke-width=\"3.2\"/>\n",
       "<path clip-path=\"url(#clip792)\" d=\"M601.11 1253.94 L601.11 1285.94 L633.11 1285.94 L633.11 1253.94 L601.11 1253.94 Z\" fill=\"#ff0000\" fill-rule=\"evenodd\" fill-opacity=\"1\" stroke=\"#000000\" stroke-opacity=\"1\" stroke-width=\"3.2\"/>\n",
       "<path clip-path=\"url(#clip792)\" d=\"M621.299 1246.53 L621.299 1278.53 L653.299 1278.53 L653.299 1246.53 L621.299 1246.53 Z\" fill=\"#ff0000\" fill-rule=\"evenodd\" fill-opacity=\"1\" stroke=\"#000000\" stroke-opacity=\"1\" stroke-width=\"3.2\"/>\n",
       "<path clip-path=\"url(#clip792)\" d=\"M641.488 956.687 L641.488 988.687 L673.488 988.687 L673.488 956.687 L641.488 956.687 Z\" fill=\"#ff0000\" fill-rule=\"evenodd\" fill-opacity=\"1\" stroke=\"#000000\" stroke-opacity=\"1\" stroke-width=\"3.2\"/>\n",
       "<path clip-path=\"url(#clip792)\" d=\"M661.677 1223.66 L661.677 1255.66 L693.677 1255.66 L693.677 1223.66 L661.677 1223.66 Z\" fill=\"#ff0000\" fill-rule=\"evenodd\" fill-opacity=\"1\" stroke=\"#000000\" stroke-opacity=\"1\" stroke-width=\"3.2\"/>\n",
       "<path clip-path=\"url(#clip792)\" d=\"M681.866 1227.68 L681.866 1259.68 L713.866 1259.68 L713.866 1227.68 L681.866 1227.68 Z\" fill=\"#ff0000\" fill-rule=\"evenodd\" fill-opacity=\"1\" stroke=\"#000000\" stroke-opacity=\"1\" stroke-width=\"3.2\"/>\n",
       "<path clip-path=\"url(#clip792)\" d=\"M702.055 1215.92 L702.055 1247.92 L734.055 1247.92 L734.055 1215.92 L702.055 1215.92 Z\" fill=\"#ff0000\" fill-rule=\"evenodd\" fill-opacity=\"1\" stroke=\"#000000\" stroke-opacity=\"1\" stroke-width=\"3.2\"/>\n",
       "<path clip-path=\"url(#clip792)\" d=\"M722.244 1206.62 L722.244 1238.62 L754.244 1238.62 L754.244 1206.62 L722.244 1206.62 Z\" fill=\"#ff0000\" fill-rule=\"evenodd\" fill-opacity=\"1\" stroke=\"#000000\" stroke-opacity=\"1\" stroke-width=\"3.2\"/>\n",
       "<path clip-path=\"url(#clip792)\" d=\"M742.433 1209.63 L742.433 1241.63 L774.433 1241.63 L774.433 1209.63 L742.433 1209.63 Z\" fill=\"#ff0000\" fill-rule=\"evenodd\" fill-opacity=\"1\" stroke=\"#000000\" stroke-opacity=\"1\" stroke-width=\"3.2\"/>\n",
       "<path clip-path=\"url(#clip792)\" d=\"M762.622 1205.59 L762.622 1237.59 L794.622 1237.59 L794.622 1205.59 L762.622 1205.59 Z\" fill=\"#ff0000\" fill-rule=\"evenodd\" fill-opacity=\"1\" stroke=\"#000000\" stroke-opacity=\"1\" stroke-width=\"3.2\"/>\n",
       "<path clip-path=\"url(#clip792)\" d=\"M782.811 1193.48 L782.811 1225.48 L814.811 1225.48 L814.811 1193.48 L782.811 1193.48 Z\" fill=\"#ff0000\" fill-rule=\"evenodd\" fill-opacity=\"1\" stroke=\"#000000\" stroke-opacity=\"1\" stroke-width=\"3.2\"/>\n",
       "<path clip-path=\"url(#clip792)\" d=\"M803 1185.59 L803 1217.59 L835 1217.59 L835 1185.59 L803 1185.59 Z\" fill=\"#ff0000\" fill-rule=\"evenodd\" fill-opacity=\"1\" stroke=\"#000000\" stroke-opacity=\"1\" stroke-width=\"3.2\"/>\n",
       "<path clip-path=\"url(#clip792)\" d=\"M823.189 298.783 L823.189 330.783 L855.189 330.783 L855.189 298.783 L823.189 298.783 Z\" fill=\"#ff0000\" fill-rule=\"evenodd\" fill-opacity=\"1\" stroke=\"#000000\" stroke-opacity=\"1\" stroke-width=\"3.2\"/>\n",
       "<path clip-path=\"url(#clip792)\" d=\"M843.378 1169.75 L843.378 1201.75 L875.378 1201.75 L875.378 1169.75 L843.378 1169.75 Z\" fill=\"#ff0000\" fill-rule=\"evenodd\" fill-opacity=\"1\" stroke=\"#000000\" stroke-opacity=\"1\" stroke-width=\"3.2\"/>\n",
       "<path clip-path=\"url(#clip792)\" d=\"M863.567 1165.98 L863.567 1197.98 L895.567 1197.98 L895.567 1165.98 L863.567 1165.98 Z\" fill=\"#ff0000\" fill-rule=\"evenodd\" fill-opacity=\"1\" stroke=\"#000000\" stroke-opacity=\"1\" stroke-width=\"3.2\"/>\n",
       "<path clip-path=\"url(#clip792)\" d=\"M883.756 1151.94 L883.756 1183.94 L915.756 1183.94 L915.756 1151.94 L883.756 1151.94 Z\" fill=\"#ff0000\" fill-rule=\"evenodd\" fill-opacity=\"1\" stroke=\"#000000\" stroke-opacity=\"1\" stroke-width=\"3.2\"/>\n",
       "<path clip-path=\"url(#clip792)\" d=\"M903.945 1141.29 L903.945 1173.29 L935.945 1173.29 L935.945 1141.29 L903.945 1141.29 Z\" fill=\"#ff0000\" fill-rule=\"evenodd\" fill-opacity=\"1\" stroke=\"#000000\" stroke-opacity=\"1\" stroke-width=\"3.2\"/>\n",
       "<path clip-path=\"url(#clip792)\" d=\"M924.134 1143.09 L924.134 1175.09 L956.134 1175.09 L956.134 1143.09 L924.134 1143.09 Z\" fill=\"#ff0000\" fill-rule=\"evenodd\" fill-opacity=\"1\" stroke=\"#000000\" stroke-opacity=\"1\" stroke-width=\"3.2\"/>\n",
       "<path clip-path=\"url(#clip792)\" d=\"M944.323 368.291 L944.323 400.291 L976.323 400.291 L976.323 368.291 L944.323 368.291 Z\" fill=\"#ff0000\" fill-rule=\"evenodd\" fill-opacity=\"1\" stroke=\"#000000\" stroke-opacity=\"1\" stroke-width=\"3.2\"/>\n",
       "<path clip-path=\"url(#clip792)\" d=\"M964.512 1125.73 L964.512 1157.73 L996.512 1157.73 L996.512 1125.73 L964.512 1125.73 Z\" fill=\"#ff0000\" fill-rule=\"evenodd\" fill-opacity=\"1\" stroke=\"#000000\" stroke-opacity=\"1\" stroke-width=\"3.2\"/>\n",
       "<path clip-path=\"url(#clip792)\" d=\"M984.701 1117.8 L984.701 1149.8 L1016.7 1149.8 L1016.7 1117.8 L984.701 1117.8 Z\" fill=\"#ff0000\" fill-rule=\"evenodd\" fill-opacity=\"1\" stroke=\"#000000\" stroke-opacity=\"1\" stroke-width=\"3.2\"/>\n",
       "<path clip-path=\"url(#clip792)\" d=\"M1004.89 1110.14 L1004.89 1142.14 L1036.89 1142.14 L1036.89 1110.14 L1004.89 1110.14 Z\" fill=\"#ff0000\" fill-rule=\"evenodd\" fill-opacity=\"1\" stroke=\"#000000\" stroke-opacity=\"1\" stroke-width=\"3.2\"/>\n",
       "<path clip-path=\"url(#clip792)\" d=\"M1025.08 1096.42 L1025.08 1128.42 L1057.08 1128.42 L1057.08 1096.42 L1025.08 1096.42 Z\" fill=\"#ff0000\" fill-rule=\"evenodd\" fill-opacity=\"1\" stroke=\"#000000\" stroke-opacity=\"1\" stroke-width=\"3.2\"/>\n",
       "<path clip-path=\"url(#clip792)\" d=\"M1045.27 1093.7 L1045.27 1125.7 L1077.27 1125.7 L1077.27 1093.7 L1045.27 1093.7 Z\" fill=\"#ff0000\" fill-rule=\"evenodd\" fill-opacity=\"1\" stroke=\"#000000\" stroke-opacity=\"1\" stroke-width=\"3.2\"/>\n",
       "<path clip-path=\"url(#clip792)\" d=\"M1065.46 1077.39 L1065.46 1109.39 L1097.46 1109.39 L1097.46 1077.39 L1065.46 1077.39 Z\" fill=\"#ff0000\" fill-rule=\"evenodd\" fill-opacity=\"1\" stroke=\"#000000\" stroke-opacity=\"1\" stroke-width=\"3.2\"/>\n",
       "<path clip-path=\"url(#clip792)\" d=\"M1085.65 1053.83 L1085.65 1085.83 L1117.65 1085.83 L1117.65 1053.83 L1085.65 1053.83 Z\" fill=\"#ff0000\" fill-rule=\"evenodd\" fill-opacity=\"1\" stroke=\"#000000\" stroke-opacity=\"1\" stroke-width=\"3.2\"/>\n",
       "<path clip-path=\"url(#clip792)\" d=\"M1105.83 1052.68 L1105.83 1084.68 L1137.83 1084.68 L1137.83 1052.68 L1105.83 1052.68 Z\" fill=\"#ff0000\" fill-rule=\"evenodd\" fill-opacity=\"1\" stroke=\"#000000\" stroke-opacity=\"1\" stroke-width=\"3.2\"/>\n",
       "<path clip-path=\"url(#clip792)\" d=\"M1126.02 1045.22 L1126.02 1077.22 L1158.02 1077.22 L1158.02 1045.22 L1126.02 1045.22 Z\" fill=\"#ff0000\" fill-rule=\"evenodd\" fill-opacity=\"1\" stroke=\"#000000\" stroke-opacity=\"1\" stroke-width=\"3.2\"/>\n",
       "<path clip-path=\"url(#clip792)\" d=\"M1146.21 1035.58 L1146.21 1067.58 L1178.21 1067.58 L1178.21 1035.58 L1146.21 1035.58 Z\" fill=\"#ff0000\" fill-rule=\"evenodd\" fill-opacity=\"1\" stroke=\"#000000\" stroke-opacity=\"1\" stroke-width=\"3.2\"/>\n",
       "<path clip-path=\"url(#clip792)\" d=\"M1166.4 1035.24 L1166.4 1067.24 L1198.4 1067.24 L1198.4 1035.24 L1166.4 1035.24 Z\" fill=\"#ff0000\" fill-rule=\"evenodd\" fill-opacity=\"1\" stroke=\"#000000\" stroke-opacity=\"1\" stroke-width=\"3.2\"/>\n",
       "<path clip-path=\"url(#clip792)\" d=\"M1186.59 1021.47 L1186.59 1053.47 L1218.59 1053.47 L1218.59 1021.47 L1186.59 1021.47 Z\" fill=\"#ff0000\" fill-rule=\"evenodd\" fill-opacity=\"1\" stroke=\"#000000\" stroke-opacity=\"1\" stroke-width=\"3.2\"/>\n",
       "<path clip-path=\"url(#clip792)\" d=\"M1206.78 1030.85 L1206.78 1062.85 L1238.78 1062.85 L1238.78 1030.85 L1206.78 1030.85 Z\" fill=\"#ff0000\" fill-rule=\"evenodd\" fill-opacity=\"1\" stroke=\"#000000\" stroke-opacity=\"1\" stroke-width=\"3.2\"/>\n",
       "<path clip-path=\"url(#clip792)\" d=\"M1226.97 1018 L1226.97 1050 L1258.97 1050 L1258.97 1018 L1226.97 1018 Z\" fill=\"#ff0000\" fill-rule=\"evenodd\" fill-opacity=\"1\" stroke=\"#000000\" stroke-opacity=\"1\" stroke-width=\"3.2\"/>\n",
       "<path clip-path=\"url(#clip792)\" d=\"M1247.16 992.302 L1247.16 1024.3 L1279.16 1024.3 L1279.16 992.302 L1247.16 992.302 Z\" fill=\"#ff0000\" fill-rule=\"evenodd\" fill-opacity=\"1\" stroke=\"#000000\" stroke-opacity=\"1\" stroke-width=\"3.2\"/>\n",
       "<path clip-path=\"url(#clip792)\" d=\"M1267.35 990.755 L1267.35 1022.76 L1299.35 1022.76 L1299.35 990.755 L1267.35 990.755 Z\" fill=\"#ff0000\" fill-rule=\"evenodd\" fill-opacity=\"1\" stroke=\"#000000\" stroke-opacity=\"1\" stroke-width=\"3.2\"/>\n",
       "<path clip-path=\"url(#clip792)\" d=\"M1287.54 984.538 L1287.54 1016.54 L1319.54 1016.54 L1319.54 984.538 L1287.54 984.538 Z\" fill=\"#ff0000\" fill-rule=\"evenodd\" fill-opacity=\"1\" stroke=\"#000000\" stroke-opacity=\"1\" stroke-width=\"3.2\"/>\n",
       "<path clip-path=\"url(#clip792)\" d=\"M1307.72 975.877 L1307.72 1007.88 L1339.72 1007.88 L1339.72 975.877 L1307.72 975.877 Z\" fill=\"#ff0000\" fill-rule=\"evenodd\" fill-opacity=\"1\" stroke=\"#000000\" stroke-opacity=\"1\" stroke-width=\"3.2\"/>\n",
       "<path clip-path=\"url(#clip792)\" d=\"M1327.91 966.85 L1327.91 998.85 L1359.91 998.85 L1359.91 966.85 L1327.91 966.85 Z\" fill=\"#ff0000\" fill-rule=\"evenodd\" fill-opacity=\"1\" stroke=\"#000000\" stroke-opacity=\"1\" stroke-width=\"3.2\"/>\n",
       "<path clip-path=\"url(#clip792)\" d=\"M1348.1 972.786 L1348.1 1004.79 L1380.1 1004.79 L1380.1 972.786 L1348.1 972.786 Z\" fill=\"#ff0000\" fill-rule=\"evenodd\" fill-opacity=\"1\" stroke=\"#000000\" stroke-opacity=\"1\" stroke-width=\"3.2\"/>\n",
       "<path clip-path=\"url(#clip792)\" d=\"M1368.29 934.651 L1368.29 966.651 L1400.29 966.651 L1400.29 934.651 L1368.29 934.651 Z\" fill=\"#ff0000\" fill-rule=\"evenodd\" fill-opacity=\"1\" stroke=\"#000000\" stroke-opacity=\"1\" stroke-width=\"3.2\"/>\n",
       "<path clip-path=\"url(#clip792)\" d=\"M1388.48 932.629 L1388.48 964.629 L1420.48 964.629 L1420.48 932.629 L1388.48 932.629 Z\" fill=\"#ff0000\" fill-rule=\"evenodd\" fill-opacity=\"1\" stroke=\"#000000\" stroke-opacity=\"1\" stroke-width=\"3.2\"/>\n",
       "<path clip-path=\"url(#clip792)\" d=\"M1408.67 942.973 L1408.67 974.973 L1440.67 974.973 L1440.67 942.973 L1408.67 942.973 Z\" fill=\"#ff0000\" fill-rule=\"evenodd\" fill-opacity=\"1\" stroke=\"#000000\" stroke-opacity=\"1\" stroke-width=\"3.2\"/>\n",
       "<path clip-path=\"url(#clip792)\" d=\"M1428.86 920.972 L1428.86 952.972 L1460.86 952.972 L1460.86 920.972 L1428.86 920.972 Z\" fill=\"#ff0000\" fill-rule=\"evenodd\" fill-opacity=\"1\" stroke=\"#000000\" stroke-opacity=\"1\" stroke-width=\"3.2\"/>\n",
       "<path clip-path=\"url(#clip792)\" d=\"M1449.05 918.233 L1449.05 950.233 L1481.05 950.233 L1481.05 918.233 L1449.05 918.233 Z\" fill=\"#ff0000\" fill-rule=\"evenodd\" fill-opacity=\"1\" stroke=\"#000000\" stroke-opacity=\"1\" stroke-width=\"3.2\"/>\n",
       "<path clip-path=\"url(#clip792)\" d=\"M1469.24 894.851 L1469.24 926.851 L1501.24 926.851 L1501.24 894.851 L1469.24 894.851 Z\" fill=\"#ff0000\" fill-rule=\"evenodd\" fill-opacity=\"1\" stroke=\"#000000\" stroke-opacity=\"1\" stroke-width=\"3.2\"/>\n",
       "<path clip-path=\"url(#clip792)\" d=\"M1489.42 878.449 L1489.42 910.449 L1521.42 910.449 L1521.42 878.449 L1489.42 878.449 Z\" fill=\"#ff0000\" fill-rule=\"evenodd\" fill-opacity=\"1\" stroke=\"#000000\" stroke-opacity=\"1\" stroke-width=\"3.2\"/>\n",
       "<path clip-path=\"url(#clip792)\" d=\"M1509.61 883.079 L1509.61 915.079 L1541.61 915.079 L1541.61 883.079 L1509.61 883.079 Z\" fill=\"#ff0000\" fill-rule=\"evenodd\" fill-opacity=\"1\" stroke=\"#000000\" stroke-opacity=\"1\" stroke-width=\"3.2\"/>\n",
       "<path clip-path=\"url(#clip792)\" d=\"M1529.8 862.608 L1529.8 894.608 L1561.8 894.608 L1561.8 862.608 L1529.8 862.608 Z\" fill=\"#ff0000\" fill-rule=\"evenodd\" fill-opacity=\"1\" stroke=\"#000000\" stroke-opacity=\"1\" stroke-width=\"3.2\"/>\n",
       "<path clip-path=\"url(#clip792)\" d=\"M1549.99 833.055 L1549.99 865.055 L1581.99 865.055 L1581.99 833.055 L1549.99 833.055 Z\" fill=\"#ff0000\" fill-rule=\"evenodd\" fill-opacity=\"1\" stroke=\"#000000\" stroke-opacity=\"1\" stroke-width=\"3.2\"/>\n",
       "<path clip-path=\"url(#clip792)\" d=\"M1570.18 863.572 L1570.18 895.572 L1602.18 895.572 L1602.18 863.572 L1570.18 863.572 Z\" fill=\"#ff0000\" fill-rule=\"evenodd\" fill-opacity=\"1\" stroke=\"#000000\" stroke-opacity=\"1\" stroke-width=\"3.2\"/>\n",
       "<path clip-path=\"url(#clip792)\" d=\"M1590.37 906.193 L1590.37 938.193 L1622.37 938.193 L1622.37 906.193 L1590.37 906.193 Z\" fill=\"#ff0000\" fill-rule=\"evenodd\" fill-opacity=\"1\" stroke=\"#000000\" stroke-opacity=\"1\" stroke-width=\"3.2\"/>\n",
       "<path clip-path=\"url(#clip792)\" d=\"M1610.56 812.534 L1610.56 844.534 L1642.56 844.534 L1642.56 812.534 L1610.56 812.534 Z\" fill=\"#ff0000\" fill-rule=\"evenodd\" fill-opacity=\"1\" stroke=\"#000000\" stroke-opacity=\"1\" stroke-width=\"3.2\"/>\n",
       "<path clip-path=\"url(#clip792)\" d=\"M1630.75 806.954 L1630.75 838.954 L1662.75 838.954 L1662.75 806.954 L1630.75 806.954 Z\" fill=\"#ff0000\" fill-rule=\"evenodd\" fill-opacity=\"1\" stroke=\"#000000\" stroke-opacity=\"1\" stroke-width=\"3.2\"/>\n",
       "<path clip-path=\"url(#clip792)\" d=\"M1650.94 800.052 L1650.94 832.052 L1682.94 832.052 L1682.94 800.052 L1650.94 800.052 Z\" fill=\"#ff0000\" fill-rule=\"evenodd\" fill-opacity=\"1\" stroke=\"#000000\" stroke-opacity=\"1\" stroke-width=\"3.2\"/>\n",
       "<path clip-path=\"url(#clip792)\" d=\"M1671.13 752.241 L1671.13 784.241 L1703.13 784.241 L1703.13 752.241 L1671.13 752.241 Z\" fill=\"#ff0000\" fill-rule=\"evenodd\" fill-opacity=\"1\" stroke=\"#000000\" stroke-opacity=\"1\" stroke-width=\"3.2\"/>\n",
       "<path clip-path=\"url(#clip792)\" d=\"M1691.31 714.582 L1691.31 746.582 L1723.31 746.582 L1723.31 714.582 L1691.31 714.582 Z\" fill=\"#ff0000\" fill-rule=\"evenodd\" fill-opacity=\"1\" stroke=\"#000000\" stroke-opacity=\"1\" stroke-width=\"3.2\"/>\n",
       "<path clip-path=\"url(#clip792)\" d=\"M1711.5 695.217 L1711.5 727.217 L1743.5 727.217 L1743.5 695.217 L1711.5 695.217 Z\" fill=\"#ff0000\" fill-rule=\"evenodd\" fill-opacity=\"1\" stroke=\"#000000\" stroke-opacity=\"1\" stroke-width=\"3.2\"/>\n",
       "<path clip-path=\"url(#clip792)\" d=\"M1731.69 304.727 L1731.69 336.727 L1763.69 336.727 L1763.69 304.727 L1731.69 304.727 Z\" fill=\"#ff0000\" fill-rule=\"evenodd\" fill-opacity=\"1\" stroke=\"#000000\" stroke-opacity=\"1\" stroke-width=\"3.2\"/>\n",
       "<path clip-path=\"url(#clip792)\" d=\"M1751.88 705.324 L1751.88 737.324 L1783.88 737.324 L1783.88 705.324 L1751.88 705.324 Z\" fill=\"#ff0000\" fill-rule=\"evenodd\" fill-opacity=\"1\" stroke=\"#000000\" stroke-opacity=\"1\" stroke-width=\"3.2\"/>\n",
       "<path clip-path=\"url(#clip792)\" d=\"M1772.07 670.373 L1772.07 702.373 L1804.07 702.373 L1804.07 670.373 L1772.07 670.373 Z\" fill=\"#ff0000\" fill-rule=\"evenodd\" fill-opacity=\"1\" stroke=\"#000000\" stroke-opacity=\"1\" stroke-width=\"3.2\"/>\n",
       "<path clip-path=\"url(#clip792)\" d=\"M1792.26 712.155 L1792.26 744.155 L1824.26 744.155 L1824.26 712.155 L1792.26 712.155 Z\" fill=\"#ff0000\" fill-rule=\"evenodd\" fill-opacity=\"1\" stroke=\"#000000\" stroke-opacity=\"1\" stroke-width=\"3.2\"/>\n",
       "<path clip-path=\"url(#clip792)\" d=\"M1812.45 742.625 L1812.45 774.625 L1844.45 774.625 L1844.45 742.625 L1812.45 742.625 Z\" fill=\"#ff0000\" fill-rule=\"evenodd\" fill-opacity=\"1\" stroke=\"#000000\" stroke-opacity=\"1\" stroke-width=\"3.2\"/>\n",
       "<path clip-path=\"url(#clip792)\" d=\"M1832.64 727.562 L1832.64 759.562 L1864.64 759.562 L1864.64 727.562 L1832.64 727.562 Z\" fill=\"#ff0000\" fill-rule=\"evenodd\" fill-opacity=\"1\" stroke=\"#000000\" stroke-opacity=\"1\" stroke-width=\"3.2\"/>\n",
       "<path clip-path=\"url(#clip792)\" d=\"M1852.83 717.998 L1852.83 749.998 L1884.83 749.998 L1884.83 717.998 L1852.83 717.998 Z\" fill=\"#ff0000\" fill-rule=\"evenodd\" fill-opacity=\"1\" stroke=\"#000000\" stroke-opacity=\"1\" stroke-width=\"3.2\"/>\n",
       "<path clip-path=\"url(#clip792)\" d=\"M1873.02 695.511 L1873.02 727.511 L1905.02 727.511 L1905.02 695.511 L1873.02 695.511 Z\" fill=\"#ff0000\" fill-rule=\"evenodd\" fill-opacity=\"1\" stroke=\"#000000\" stroke-opacity=\"1\" stroke-width=\"3.2\"/>\n",
       "<path clip-path=\"url(#clip792)\" d=\"M1893.2 691.427 L1893.2 723.427 L1925.2 723.427 L1925.2 691.427 L1893.2 691.427 Z\" fill=\"#ff0000\" fill-rule=\"evenodd\" fill-opacity=\"1\" stroke=\"#000000\" stroke-opacity=\"1\" stroke-width=\"3.2\"/>\n",
       "<path clip-path=\"url(#clip792)\" d=\"M1913.39 684.541 L1913.39 716.541 L1945.39 716.541 L1945.39 684.541 L1913.39 684.541 Z\" fill=\"#ff0000\" fill-rule=\"evenodd\" fill-opacity=\"1\" stroke=\"#000000\" stroke-opacity=\"1\" stroke-width=\"3.2\"/>\n",
       "<path clip-path=\"url(#clip792)\" d=\"M1933.58 685.822 L1933.58 717.822 L1965.58 717.822 L1965.58 685.822 L1933.58 685.822 Z\" fill=\"#ff0000\" fill-rule=\"evenodd\" fill-opacity=\"1\" stroke=\"#000000\" stroke-opacity=\"1\" stroke-width=\"3.2\"/>\n",
       "<path clip-path=\"url(#clip792)\" d=\"M1953.77 675.398 L1953.77 707.398 L1985.77 707.398 L1985.77 675.398 L1953.77 675.398 Z\" fill=\"#ff0000\" fill-rule=\"evenodd\" fill-opacity=\"1\" stroke=\"#000000\" stroke-opacity=\"1\" stroke-width=\"3.2\"/>\n",
       "<path clip-path=\"url(#clip792)\" d=\"M1973.96 669.929 L1973.96 701.929 L2005.96 701.929 L2005.96 669.929 L1973.96 669.929 Z\" fill=\"#ff0000\" fill-rule=\"evenodd\" fill-opacity=\"1\" stroke=\"#000000\" stroke-opacity=\"1\" stroke-width=\"3.2\"/>\n",
       "<path clip-path=\"url(#clip792)\" d=\"M1994.15 670.764 L1994.15 702.764 L2026.15 702.764 L2026.15 670.764 L1994.15 670.764 Z\" fill=\"#ff0000\" fill-rule=\"evenodd\" fill-opacity=\"1\" stroke=\"#000000\" stroke-opacity=\"1\" stroke-width=\"3.2\"/>\n",
       "<path clip-path=\"url(#clip792)\" d=\"M2014.34 637.583 L2014.34 669.583 L2046.34 669.583 L2046.34 637.583 L2014.34 637.583 Z\" fill=\"#ff0000\" fill-rule=\"evenodd\" fill-opacity=\"1\" stroke=\"#000000\" stroke-opacity=\"1\" stroke-width=\"3.2\"/>\n",
       "<path clip-path=\"url(#clip792)\" d=\"M2034.53 625.76 L2034.53 657.76 L2066.53 657.76 L2066.53 625.76 L2034.53 625.76 Z\" fill=\"#ff0000\" fill-rule=\"evenodd\" fill-opacity=\"1\" stroke=\"#000000\" stroke-opacity=\"1\" stroke-width=\"3.2\"/>\n",
       "<path clip-path=\"url(#clip792)\" d=\"M2054.72 625.039 L2054.72 657.039 L2086.72 657.039 L2086.72 625.039 L2054.72 625.039 Z\" fill=\"#ff0000\" fill-rule=\"evenodd\" fill-opacity=\"1\" stroke=\"#000000\" stroke-opacity=\"1\" stroke-width=\"3.2\"/>\n",
       "<path clip-path=\"url(#clip792)\" d=\"M2074.9 611.164 L2074.9 643.164 L2106.9 643.164 L2106.9 611.164 L2074.9 611.164 Z\" fill=\"#ff0000\" fill-rule=\"evenodd\" fill-opacity=\"1\" stroke=\"#000000\" stroke-opacity=\"1\" stroke-width=\"3.2\"/>\n",
       "<path clip-path=\"url(#clip792)\" d=\"M2095.09 601.368 L2095.09 633.368 L2127.09 633.368 L2127.09 601.368 L2095.09 601.368 Z\" fill=\"#ff0000\" fill-rule=\"evenodd\" fill-opacity=\"1\" stroke=\"#000000\" stroke-opacity=\"1\" stroke-width=\"3.2\"/>\n",
       "<path clip-path=\"url(#clip792)\" d=\"M2115.28 600.745 L2115.28 632.745 L2147.28 632.745 L2147.28 600.745 L2115.28 600.745 Z\" fill=\"#ff0000\" fill-rule=\"evenodd\" fill-opacity=\"1\" stroke=\"#000000\" stroke-opacity=\"1\" stroke-width=\"3.2\"/>\n",
       "<path clip-path=\"url(#clip792)\" d=\"M2135.47 576.134 L2135.47 608.134 L2167.47 608.134 L2167.47 576.134 L2135.47 576.134 Z\" fill=\"#ff0000\" fill-rule=\"evenodd\" fill-opacity=\"1\" stroke=\"#000000\" stroke-opacity=\"1\" stroke-width=\"3.2\"/>\n",
       "<path clip-path=\"url(#clip792)\" d=\"M2155.66 557.407 L2155.66 589.407 L2187.66 589.407 L2187.66 557.407 L2155.66 557.407 Z\" fill=\"#ff0000\" fill-rule=\"evenodd\" fill-opacity=\"1\" stroke=\"#000000\" stroke-opacity=\"1\" stroke-width=\"3.2\"/>\n",
       "<path clip-path=\"url(#clip792)\" d=\"M2175.85 576.878 L2175.85 608.878 L2207.85 608.878 L2207.85 576.878 L2175.85 576.878 Z\" fill=\"#ff0000\" fill-rule=\"evenodd\" fill-opacity=\"1\" stroke=\"#000000\" stroke-opacity=\"1\" stroke-width=\"3.2\"/>\n",
       "<path clip-path=\"url(#clip792)\" d=\"M2196.04 569.58 L2196.04 601.58 L2228.04 601.58 L2228.04 569.58 L2196.04 569.58 Z\" fill=\"#ff0000\" fill-rule=\"evenodd\" fill-opacity=\"1\" stroke=\"#000000\" stroke-opacity=\"1\" stroke-width=\"3.2\"/>\n",
       "<path clip-path=\"url(#clip792)\" d=\"M2216.23 536.614 L2216.23 568.614 L2248.23 568.614 L2248.23 536.614 L2216.23 536.614 Z\" fill=\"#ff0000\" fill-rule=\"evenodd\" fill-opacity=\"1\" stroke=\"#000000\" stroke-opacity=\"1\" stroke-width=\"3.2\"/>\n",
       "<path clip-path=\"url(#clip792)\" d=\"M2236.42 545.012 L2236.42 577.012 L2268.42 577.012 L2268.42 545.012 L2236.42 545.012 Z\" fill=\"#ff0000\" fill-rule=\"evenodd\" fill-opacity=\"1\" stroke=\"#000000\" stroke-opacity=\"1\" stroke-width=\"3.2\"/>\n",
       "<path clip-path=\"url(#clip792)\" d=\"M2256.61 69.838 L2256.61 101.838 L2288.61 101.838 L2288.61 69.838 L2256.61 69.838 Z\" fill=\"#ff0000\" fill-rule=\"evenodd\" fill-opacity=\"1\" stroke=\"#000000\" stroke-opacity=\"1\" stroke-width=\"3.2\"/>\n",
       "<path clip-path=\"url(#clip792)\" d=\"M2276.79 479.106 L2276.79 511.106 L2308.79 511.106 L2308.79 479.106 L2276.79 479.106 Z\" fill=\"#ff0000\" fill-rule=\"evenodd\" fill-opacity=\"1\" stroke=\"#000000\" stroke-opacity=\"1\" stroke-width=\"3.2\"/>\n",
       "<path clip-path=\"url(#clip790)\" d=\"\n",
       "M304.746 196.379 L759.917 196.379 L759.917 92.6992 L304.746 92.6992  Z\n",
       "  \" fill=\"#ffffff\" fill-rule=\"evenodd\" fill-opacity=\"1\"/>\n",
       "<polyline clip-path=\"url(#clip790)\" style=\"stroke:#000000; stroke-linecap:butt; stroke-linejoin:round; stroke-width:4; stroke-opacity:1; fill:none\" points=\"\n",
       "  304.746,196.379 759.917,196.379 759.917,92.6992 304.746,92.6992 304.746,196.379 \n",
       "  \"/>\n",
       "<polyline clip-path=\"url(#clip790)\" style=\"stroke:#ff0000; stroke-linecap:butt; stroke-linejoin:round; stroke-width:4; stroke-opacity:1; fill:none\" points=\"\n",
       "  328.287,144.539 469.529,144.539 \n",
       "  \"/>\n",
       "<path clip-path=\"url(#clip790)\" d=\"M373.308 118.939 L373.308 170.139 L424.508 170.139 L424.508 118.939 L373.308 118.939 Z\" fill=\"#ff0000\" fill-rule=\"evenodd\" fill-opacity=\"1\" stroke=\"#000000\" stroke-opacity=\"1\" stroke-width=\"5.12\"/>\n",
       "<path clip-path=\"url(#clip790)\" d=\"M514.782 146.171 L514.782 161.819 L510.523 161.819 L510.523 146.31 Q510.523 142.629 509.088 140.801 Q507.652 138.972 504.782 138.972 Q501.333 138.972 499.342 141.171 Q497.352 143.37 497.352 147.166 L497.352 161.819 L493.069 161.819 L493.069 125.801 L497.352 125.801 L497.352 139.921 Q498.879 137.583 500.939 136.426 Q503.023 135.268 505.731 135.268 Q510.199 135.268 512.49 138.046 Q514.782 140.801 514.782 146.171 Z\" fill=\"#000000\" fill-rule=\"evenodd\" fill-opacity=\"1\" /><path clip-path=\"url(#clip790)\" d=\"M545.453 147.791 L545.453 149.875 L525.87 149.875 Q526.148 154.273 528.509 156.588 Q530.893 158.879 535.129 158.879 Q537.583 158.879 539.874 158.278 Q542.189 157.676 544.458 156.472 L544.458 160.5 Q542.166 161.472 539.759 161.981 Q537.351 162.49 534.875 162.49 Q528.671 162.49 525.037 158.879 Q521.426 155.268 521.426 149.111 Q521.426 142.745 524.851 139.018 Q528.3 135.268 534.134 135.268 Q539.365 135.268 542.398 138.648 Q545.453 142.004 545.453 147.791 M541.194 146.541 Q541.148 143.046 539.226 140.963 Q537.328 138.879 534.18 138.879 Q530.615 138.879 528.463 140.893 Q526.333 142.907 526.009 146.565 L541.194 146.541 Z\" fill=\"#000000\" fill-rule=\"evenodd\" fill-opacity=\"1\" /><path clip-path=\"url(#clip790)\" d=\"M564.226 148.787 Q559.064 148.787 557.073 149.967 Q555.083 151.148 555.083 153.995 Q555.083 156.264 556.564 157.606 Q558.069 158.926 560.638 158.926 Q564.18 158.926 566.31 156.426 Q568.462 153.903 568.462 149.736 L568.462 148.787 L564.226 148.787 M572.722 147.028 L572.722 161.819 L568.462 161.819 L568.462 157.884 Q567.004 160.245 564.828 161.379 Q562.652 162.49 559.504 162.49 Q555.523 162.49 553.161 160.268 Q550.823 158.023 550.823 154.273 Q550.823 149.898 553.74 147.676 Q556.68 145.454 562.49 145.454 L568.462 145.454 L568.462 145.037 Q568.462 142.097 566.518 140.5 Q564.597 138.879 561.101 138.879 Q558.879 138.879 556.773 139.412 Q554.666 139.944 552.722 141.009 L552.722 137.074 Q555.06 136.171 557.259 135.731 Q559.458 135.268 561.541 135.268 Q567.166 135.268 569.944 138.185 Q572.722 141.102 572.722 147.028 Z\" fill=\"#000000\" fill-rule=\"evenodd\" fill-opacity=\"1\" /><path clip-path=\"url(#clip790)\" d=\"M585.615 157.93 L585.615 171.68 L581.333 171.68 L581.333 135.893 L585.615 135.893 L585.615 139.829 Q586.958 137.514 588.995 136.403 Q591.055 135.268 593.902 135.268 Q598.624 135.268 601.564 139.018 Q604.527 142.768 604.527 148.879 Q604.527 154.991 601.564 158.74 Q598.624 162.49 593.902 162.49 Q591.055 162.49 588.995 161.379 Q586.958 160.245 585.615 157.93 M600.106 148.879 Q600.106 144.18 598.161 141.518 Q596.24 138.833 592.86 138.833 Q589.481 138.833 587.536 141.518 Q585.615 144.18 585.615 148.879 Q585.615 153.578 587.536 156.264 Q589.481 158.926 592.86 158.926 Q596.24 158.926 598.161 156.264 Q600.106 153.578 600.106 148.879 Z\" fill=\"#000000\" fill-rule=\"evenodd\" fill-opacity=\"1\" /><path clip-path=\"url(#clip790)\" d=\"M643.184 136.657 L643.184 140.685 Q641.379 139.759 639.434 139.296 Q637.49 138.833 635.406 138.833 Q632.235 138.833 630.638 139.805 Q629.064 140.778 629.064 142.722 Q629.064 144.204 630.198 145.06 Q631.332 145.893 634.758 146.657 L636.217 146.981 Q640.754 147.954 642.652 149.736 Q644.573 151.495 644.573 154.666 Q644.573 158.278 641.703 160.384 Q638.855 162.49 633.855 162.49 Q631.772 162.49 629.504 162.074 Q627.258 161.68 624.758 160.87 L624.758 156.472 Q627.119 157.699 629.411 158.324 Q631.703 158.926 633.948 158.926 Q636.957 158.926 638.578 157.907 Q640.198 156.866 640.198 154.991 Q640.198 153.254 639.017 152.328 Q637.86 151.403 633.902 150.546 L632.42 150.199 Q628.462 149.366 626.703 147.653 Q624.943 145.916 624.943 142.907 Q624.943 139.25 627.536 137.259 Q630.129 135.268 634.897 135.268 Q637.258 135.268 639.342 135.616 Q641.425 135.963 643.184 136.657 Z\" fill=\"#000000\" fill-rule=\"evenodd\" fill-opacity=\"1\" /><path clip-path=\"url(#clip790)\" d=\"M661.402 138.879 Q657.976 138.879 655.985 141.565 Q653.994 144.227 653.994 148.879 Q653.994 153.532 655.962 156.217 Q657.953 158.879 661.402 158.879 Q664.804 158.879 666.795 156.194 Q668.786 153.509 668.786 148.879 Q668.786 144.273 666.795 141.588 Q664.804 138.879 661.402 138.879 M661.402 135.268 Q666.957 135.268 670.128 138.879 Q673.3 142.491 673.3 148.879 Q673.3 155.245 670.128 158.879 Q666.957 162.49 661.402 162.49 Q655.823 162.49 652.652 158.879 Q649.504 155.245 649.504 148.879 Q649.504 142.491 652.652 138.879 Q655.823 135.268 661.402 135.268 Z\" fill=\"#000000\" fill-rule=\"evenodd\" fill-opacity=\"1\" /><path clip-path=\"url(#clip790)\" d=\"M695.383 139.875 Q694.665 139.458 693.809 139.273 Q692.976 139.065 691.957 139.065 Q688.346 139.065 686.401 141.426 Q684.48 143.764 684.48 148.162 L684.48 161.819 L680.198 161.819 L680.198 135.893 L684.48 135.893 L684.48 139.921 Q685.823 137.56 687.976 136.426 Q690.128 135.268 693.207 135.268 Q693.647 135.268 694.179 135.338 Q694.712 135.384 695.36 135.5 L695.383 139.875 Z\" fill=\"#000000\" fill-rule=\"evenodd\" fill-opacity=\"1\" /><path clip-path=\"url(#clip790)\" d=\"M704.063 128.532 L704.063 135.893 L712.837 135.893 L712.837 139.204 L704.063 139.204 L704.063 153.278 Q704.063 156.449 704.92 157.352 Q705.8 158.254 708.462 158.254 L712.837 158.254 L712.837 161.819 L708.462 161.819 Q703.531 161.819 701.656 159.99 Q699.781 158.139 699.781 153.278 L699.781 139.204 L696.656 139.204 L696.656 135.893 L699.781 135.893 L699.781 128.532 L704.063 128.532 Z\" fill=\"#000000\" fill-rule=\"evenodd\" fill-opacity=\"1\" /></svg>\n"
      ]
     },
     "execution_count": 40,
     "metadata": {},
     "output_type": "execute_result"
    }
   ],
   "source": [
    "using Random\n",
    "Random.seed!(0)\n",
    "\n",
    "function do_timing()\n",
    "    data = rand(Int64,10^8)\n",
    "\n",
    "    n_range = 10^4:10^4:10^6\n",
    "    times_heap_sort = Vector{Float64}(undef,0)\n",
    "\n",
    "\n",
    "    for n in n_range\n",
    "#         GC.enable(false) #This turns off garbage collection\n",
    "        start_time = time_ns()\n",
    "        heap_sort!(data[1:n]) \n",
    "        end_time = time_ns()\n",
    "#         GC.enable(true) #GC back on\n",
    "        push!(times_heap_sort, Int(end_time - start_time)/10^6) #time in milliseconds\n",
    "    end\n",
    "    return times_heap_sort, n_range\n",
    "end\n",
    "\n",
    "times_heap_sort, n_range = do_timing()\n",
    "\n",
    "plot(n_range,times_heap_sort, \n",
    "    shape = :square, c = :red, legend = :topleft,\n",
    "    label=\"heap sort\",xlabel = \"n\", ylabel = \"Time (msec)\")"
   ]
  },
  {
   "cell_type": "code",
   "execution_count": 68,
   "metadata": {},
   "outputs": [
    {
     "name": "stdout",
     "output_type": "stream",
     "text": [
      "rand() = 0.5562202101894925\n",
      "rand() = 0.6992879516984393\n",
      "rand() = 0.7043912447263166\n"
     ]
    }
   ],
   "source": [
    "using Random\n",
    "Random.seed!(2021)\n",
    "@show rand()\n",
    "@show rand()\n",
    "@show rand();"
   ]
  },
  {
   "cell_type": "code",
   "execution_count": null,
   "metadata": {},
   "outputs": [],
   "source": [
    "@show rand()\n",
    "@show rand()\n",
    "@show rand();"
   ]
  },
  {
   "cell_type": "markdown",
   "metadata": {},
   "source": [
    "# My explanation...\n",
    "\n",
    "This is markdown ... and I am explaining $x^2 = y$"
   ]
  },
  {
   "cell_type": "code",
   "execution_count": 70,
   "metadata": {},
   "outputs": [],
   "source": [
    "#basic built-in packages (don't need install)\n",
    "using Random\n",
    "using LinearAlgebra\n",
    "using Statistics\n",
    "using Dates"
   ]
  },
  {
   "cell_type": "code",
   "execution_count": 71,
   "metadata": {},
   "outputs": [],
   "source": [
    "using SpecialFunctions\n"
   ]
  },
  {
   "cell_type": "code",
   "execution_count": 72,
   "metadata": {},
   "outputs": [
    {
     "data": {
      "text/plain": [
       "5040.0"
      ]
     },
     "execution_count": 72,
     "metadata": {},
     "output_type": "execute_result"
    }
   ],
   "source": [
    "gamma(8)"
   ]
  },
  {
   "cell_type": "code",
   "execution_count": 80,
   "metadata": {},
   "outputs": [
    {
     "data": {
      "text/plain": [
       "my_function_of_today (generic function with 2 methods)"
      ]
     },
     "execution_count": 80,
     "metadata": {},
     "output_type": "execute_result"
    }
   ],
   "source": [
    "my_function_of_today(x) = \"hello $x\""
   ]
  },
  {
   "cell_type": "code",
   "execution_count": 75,
   "metadata": {},
   "outputs": [
    {
     "data": {
      "text/plain": [
       "\"hello\""
      ]
     },
     "execution_count": 75,
     "metadata": {},
     "output_type": "execute_result"
    }
   ],
   "source": [
    "my_function_of_today()"
   ]
  },
  {
   "cell_type": "code",
   "execution_count": 78,
   "metadata": {},
   "outputs": [],
   "source": [
    "Random.seed!(2345); #here the \".\" (dot) means seed! which is in the package (module) Random"
   ]
  },
  {
   "cell_type": "code",
   "execution_count": 81,
   "metadata": {},
   "outputs": [
    {
     "data": {
      "text/plain": [
       "3-element Vector{String}:\n",
       " \"hello 1\"\n",
       " \"hello 2\"\n",
       " \"hello 3\""
      ]
     },
     "execution_count": 81,
     "metadata": {},
     "output_type": "execute_result"
    }
   ],
   "source": [
    "my_function_of_today.([1,2,3])"
   ]
  },
  {
   "cell_type": "code",
   "execution_count": null,
   "metadata": {},
   "outputs": [],
   "source": []
  }
 ],
 "metadata": {
  "kernelspec": {
   "display_name": "Julia 1.7.3",
   "language": "julia",
   "name": "julia-1.7"
  },
  "language_info": {
   "file_extension": ".jl",
   "mimetype": "application/julia",
   "name": "julia",
   "version": "1.7.3"
  }
 },
 "nbformat": 4,
 "nbformat_minor": 4
}
